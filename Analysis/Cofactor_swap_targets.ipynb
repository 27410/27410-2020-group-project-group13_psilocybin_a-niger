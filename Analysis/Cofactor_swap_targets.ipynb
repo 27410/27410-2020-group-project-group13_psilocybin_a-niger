{
 "cells": [
  {
   "cell_type": "code",
   "execution_count": 1,
   "metadata": {},
   "outputs": [
    {
     "name": "stderr",
     "output_type": "stream",
     "text": [
      "'' is not a valid SBML 'SId'.\n"
     ]
    }
   ],
   "source": [
    "%run 01-model.ipynb\n",
    "\n",
    "from cameo.strain_design.heuristic.evolutionary_based import CofactorSwapOptimization\n",
    "from cameo.strain_design.heuristic.evolutionary.objective_functions import product_yield\n",
    "\n",
    "from cameo.strain_design.heuristic.evolutionary.optimization import CofactorSwapOptimization, NADH_NADPH"
   ]
  },
  {
   "cell_type": "markdown",
   "metadata": {},
   "source": [
    "#### Co-factor swapping targets"
   ]
  },
  {
   "cell_type": "code",
   "execution_count": 2,
   "metadata": {},
   "outputs": [],
   "source": [
    "model.solver = \"glpk\""
   ]
  },
  {
   "cell_type": "code",
   "execution_count": 3,
   "metadata": {},
   "outputs": [],
   "source": [
    "biomass = model.reactions.DRAIN_Biomass"
   ]
  },
  {
   "cell_type": "code",
   "execution_count": 4,
   "metadata": {},
   "outputs": [],
   "source": [
    "biomass.lower_bound = 0.1 # OBS denne skal måske ikke være 0,1 tjek tutorial notebooken og forstå det\n"
   ]
  },
  {
   "cell_type": "code",
   "execution_count": 5,
   "metadata": {},
   "outputs": [],
   "source": [
    "target = model.metabolites.get_by_id(\"psi\")"
   ]
  },
  {
   "cell_type": "code",
   "execution_count": 9,
   "metadata": {},
   "outputs": [],
   "source": [
    "demand = model.reactions.DM_psi"
   ]
  },
  {
   "cell_type": "markdown",
   "metadata": {},
   "source": [
    "The demand reaction for the \"target\" (psilocybin) is defined in \"01-model.ipynb\""
   ]
  },
  {
   "cell_type": "code",
   "execution_count": 10,
   "metadata": {},
   "outputs": [],
   "source": [
    "model.objective = demand"
   ]
  },
  {
   "cell_type": "code",
   "execution_count": 11,
   "metadata": {},
   "outputs": [],
   "source": [
    "product_yield = product_yield(demand, model.reactions.BOUNDARY_GLCe)"
   ]
  },
  {
   "cell_type": "code",
   "execution_count": 12,
   "metadata": {
    "collapsed": true,
    "jupyter": {
     "outputs_hidden": true
    }
   },
   "outputs": [
    {
     "data": {
      "text/plain": [
       "\u001b[0;31mInit signature:\u001b[0m\n",
       "\u001b[0mCofactorSwapOptimization\u001b[0m\u001b[0;34m(\u001b[0m\u001b[0;34m\u001b[0m\n",
       "\u001b[0;34m\u001b[0m    \u001b[0mcofactor_id_swaps\u001b[0m\u001b[0;34m=\u001b[0m\u001b[0;34m(\u001b[0m\u001b[0;34m[\u001b[0m\u001b[0;34m'nad_c'\u001b[0m\u001b[0;34m,\u001b[0m \u001b[0;34m'nadh_c'\u001b[0m\u001b[0;34m]\u001b[0m\u001b[0;34m,\u001b[0m \u001b[0;34m[\u001b[0m\u001b[0;34m'nadp_c'\u001b[0m\u001b[0;34m,\u001b[0m \u001b[0;34m'nadph_c'\u001b[0m\u001b[0;34m]\u001b[0m\u001b[0;34m)\u001b[0m\u001b[0;34m,\u001b[0m\u001b[0;34m\u001b[0m\n",
       "\u001b[0;34m\u001b[0m    \u001b[0mcandidate_reactions\u001b[0m\u001b[0;34m=\u001b[0m\u001b[0;32mNone\u001b[0m\u001b[0;34m,\u001b[0m\u001b[0;34m\u001b[0m\n",
       "\u001b[0;34m\u001b[0m    \u001b[0mskip_reactions\u001b[0m\u001b[0;34m=\u001b[0m\u001b[0;32mNone\u001b[0m\u001b[0;34m,\u001b[0m\u001b[0;34m\u001b[0m\n",
       "\u001b[0;34m\u001b[0m    \u001b[0;34m*\u001b[0m\u001b[0margs\u001b[0m\u001b[0;34m,\u001b[0m\u001b[0;34m\u001b[0m\n",
       "\u001b[0;34m\u001b[0m    \u001b[0;34m**\u001b[0m\u001b[0mkwargs\u001b[0m\u001b[0;34m,\u001b[0m\u001b[0;34m\u001b[0m\n",
       "\u001b[0;34m\u001b[0m\u001b[0;34m)\u001b[0m\u001b[0;34m\u001b[0m\u001b[0;34m\u001b[0m\u001b[0m\n",
       "\u001b[0;31mDocstring:\u001b[0m     \n",
       "Optimize co-factor swapping\n",
       "\n",
       "As suggested in [1]_, flux through a given reaction can sometimes be optimized by swapping complementary\n",
       "co-factor. This class implements a search for reactions when swapped improve the given objective. Briefly,\n",
       "the approach is to\n",
       "\n",
       "- find reactions that have all the targeted co-factor pairs e.g. (nad_c -> nadp_c, nadh_c -> nadph_c)\n",
       "\n",
       "- add reactions that have the co-factors swapped and then by a search algorithm switching one off in favor of the\n",
       "  other\n",
       "\n",
       "The implementation here differs from that in [1]_ in that we use a general purpose search algorithm rather than\n",
       "formulating the search as a mixed integer linear programming problem.\n",
       "\n",
       "References\n",
       "----------\n",
       ".. [1] King, Zachary A., and Adam M. Feist. \"Optimizing Cofactor Specificity of Oxidoreductase Enzymes for the\n",
       "  Generation of Microbial Production Strains - OptSwap.\" Industrial Biotechnology 9, no. 4 (August 1,\n",
       "  2013): 236-46. - doi:10.1089/ind.2013.0005.\n",
       "\n",
       "Parameters\n",
       "----------\n",
       "model : cobra.Model\n",
       "   the model to operator on\n",
       "cofactor_id_swaps : tuple\n",
       "   a tuple of length 2 that defines two lists of metabolite identifiers that should be interchanged during the\n",
       "   swap optimization see e.g. `NADH_NADPH` which is also the default.\n",
       "candidate_reactions : list\n",
       "   reactions to consider for co-factor swap - if not given then search for all reactions that include the given\n",
       "   cofactors\n",
       "skip_reactions : list\n",
       "   reactions to not consider for co-factor swap, defaults to the objective function if not provided\n",
       "args, kwargs : keyword arguments\n",
       "   passed on to super-classes, see in particular `objective_function`, `heuristic_method`, `termination`,\n",
       "   `simulation_method`, `wt_reference`, of `HeuristicOptimization` and `max_size` of `HeuristicOptimization.run`\n",
       "\n",
       "Examples\n",
       "--------\n",
       ">>> from cameo import models\n",
       ">>> from cameo.strain_design.heuristic.evolutionary.objective_functions import product_yield\n",
       ">>> model = models.bigg.iJO1366\n",
       ">>> model.objective = model.reactions.EX_thr__L_e\n",
       ">>> model.reactions.BIOMASS_Ec_iJO1366_core_53p95M.lower_bound = 0.1\n",
       ">>> py = product_yield(model.reactions.EX_thr__L_e, model.reactions.EX_glc__D_e)\n",
       ">>> swap_optimization = CofactorSwapOptimization(model=model, objective_function=py)\n",
       ">>> swap_optimization.run(max_evaluations=2000, max_size=2)\n",
       "\u001b[0;31mInit docstring:\u001b[0m\n",
       "Class for generic optimization algorithms for knockout (or similar) strain design methods\n",
       "\n",
       "Attributes\n",
       "----------\n",
       "simulation_method : see flux_analysis.simulation\n",
       "    The method used to simulate the model.\n",
       "wt_reference : dict, cameo.flux_analysis.simulation.FluxDistributionResult\n",
       "    A dict (dict-like) object with flux values from a reference state.\n",
       "simulation_method : method\n",
       "   the simulation method to use for evaluating results\n",
       "evaluator : TargetEvaluator\n",
       "   the class used to evaluate results\n",
       "\u001b[0;31mFile:\u001b[0m           ~/.local/lib/python3.6/site-packages/cameo/strain_design/heuristic/evolutionary/optimization.py\n",
       "\u001b[0;31mType:\u001b[0m           type\n",
       "\u001b[0;31mSubclasses:\u001b[0m     \n"
      ]
     },
     "metadata": {},
     "output_type": "display_data"
    }
   ],
   "source": [
    "CofactorSwapOptimization?"
   ]
  },
  {
   "cell_type": "code",
   "execution_count": 21,
   "metadata": {},
   "outputs": [],
   "source": [
    "swap_opt = CofactorSwapOptimization(model=model, objective_function=product_yield, plot=True, cofactor_id_swaps=(['NAD', 'NADH'], ['NADP', 'NADPH']))"
   ]
  },
  {
   "cell_type": "code",
   "execution_count": 22,
   "metadata": {},
   "outputs": [
    {
     "name": "stdout",
     "output_type": "stream",
     "text": [
      "Starting optimization at Mon, 23 Nov 2020 10:04:51\n"
     ]
    },
    {
     "data": {
      "application/vnd.jupyter.widget-view+json": {
       "model_id": "120734e41c4e4c0b8877a5408eba3bef",
       "version_major": 2,
       "version_minor": 0
      },
      "text/plain": [
       "HBox()"
      ]
     },
     "metadata": {},
     "output_type": "display_data"
    },
    {
     "name": "stdout",
     "output_type": "stream",
     "text": [
      "Finished after 00:01:24\n",
      "CPU times: user 2min 25s, sys: 39.5 ms, total: 2min 25s\n",
      "Wall time: 2min 25s\n"
     ]
    }
   ],
   "source": [
    "%%time\n",
    "result = swap_opt.run(max_size=5)"
   ]
  },
  {
   "cell_type": "code",
   "execution_count": 23,
   "metadata": {},
   "outputs": [
    {
     "data": {
      "text/html": [
       "\n",
       "        <h4>Result:</h4>\n",
       "        <ul>\n",
       "            <li>model: </li>\n",
       "            <li>heuristic: GA</li>\n",
       "            <li>objective function: $$yield = \\frac{DM\\_psi}{BOUNDARY\\_GLCe}$$</li>\n",
       "            <li>simulation method: pfba</li>\n",
       "            <li>target type: cofactor-swap</li>\n",
       "        <ul>\n",
       "        <div>\n",
       "<style scoped>\n",
       "    .dataframe tbody tr th:only-of-type {\n",
       "        vertical-align: middle;\n",
       "    }\n",
       "\n",
       "    .dataframe tbody tr th {\n",
       "        vertical-align: top;\n",
       "    }\n",
       "\n",
       "    .dataframe thead th {\n",
       "        text-align: right;\n",
       "    }\n",
       "</style>\n",
       "<table border=\"1\" class=\"dataframe\">\n",
       "  <thead>\n",
       "    <tr style=\"text-align: right;\">\n",
       "      <th></th>\n",
       "      <th>index</th>\n",
       "      <th>targets</th>\n",
       "      <th>fitness</th>\n",
       "    </tr>\n",
       "  </thead>\n",
       "  <tbody>\n",
       "  </tbody>\n",
       "</table>\n",
       "</div>"
      ],
      "text/plain": [
       "<cameo.strain_design.heuristic.evolutionary.optimization.TargetOptimizationResult at 0x7fbbd4086c50>"
      ]
     },
     "execution_count": 23,
     "metadata": {},
     "output_type": "execute_result"
    }
   ],
   "source": [
    "result"
   ]
  },
  {
   "cell_type": "code",
   "execution_count": null,
   "metadata": {},
   "outputs": [],
   "source": []
  },
  {
   "cell_type": "code",
   "execution_count": 209,
   "metadata": {},
   "outputs": [
    {
     "data": {
      "text/plain": [
       "\u001b[0;31mType:\u001b[0m        tuple\n",
       "\u001b[0;31mString form:\u001b[0m (['NAD', 'NADH'], ['NADP', 'NADPH'])\n",
       "\u001b[0;31mLength:\u001b[0m      2\n",
       "\u001b[0;31mDocstring:\u001b[0m  \n",
       "tuple() -> empty tuple\n",
       "tuple(iterable) -> tuple initialized from iterable's items\n",
       "\n",
       "If the argument is a tuple, the return value is the same object.\n"
      ]
     },
     "metadata": {},
     "output_type": "display_data"
    }
   ],
   "source": [
    "?cofactor_id_swaps"
   ]
  },
  {
   "cell_type": "code",
   "execution_count": 160,
   "metadata": {
    "collapsed": true,
    "jupyter": {
     "outputs_hidden": true
    }
   },
   "outputs": [
    {
     "data": {
      "text/plain": [
       "\u001b[0;31mSignature:\u001b[0m \u001b[0mswap_cofactors\u001b[0m\u001b[0;34m(\u001b[0m\u001b[0mreaction\u001b[0m\u001b[0;34m,\u001b[0m \u001b[0mmodel\u001b[0m\u001b[0;34m,\u001b[0m \u001b[0mswap_pairs\u001b[0m\u001b[0;34m,\u001b[0m \u001b[0minplace\u001b[0m\u001b[0;34m=\u001b[0m\u001b[0;32mTrue\u001b[0m\u001b[0;34m)\u001b[0m\u001b[0;34m\u001b[0m\u001b[0;34m\u001b[0m\u001b[0m\n",
       "\u001b[0;31mDocstring:\u001b[0m\n",
       "Swaps the cofactors of a reaction. For speed, it can be done inplace which just changes the coefficients.\n",
       "If not done inplace, it will create a new Reaction, add it to the model, and knockout the original reaction.\n",
       "\n",
       "Parameters\n",
       "----------\n",
       "reaction: cobra.Reaction\n",
       "    The reaction to swap.\n",
       "model: cameo.cobra.Model\n",
       "    A constraint-based model.\n",
       "swap_pairs: tuple\n",
       "    A tuple of (cofactors, equivalent_cofactors)\n",
       "inplace: bool\n",
       "    If replace is done inplace, it changes the coefficients in the matrix. Otherwise, it creates a new reaction\n",
       "    with the other cofactors and adds it to the model.\n",
       "\n",
       "Returns\n",
       "-------\n",
       "    Reaction\n",
       "        A reaction with swapped cofactors (the same if inplace).\n",
       "\u001b[0;31mFile:\u001b[0m      ~/.local/lib/python3.6/site-packages/cameo/core/manipulation.py\n",
       "\u001b[0;31mType:\u001b[0m      function\n"
      ]
     },
     "metadata": {},
     "output_type": "display_data"
    }
   ],
   "source": [
    "?swap_cofactors"
   ]
  },
  {
   "cell_type": "code",
   "execution_count": 179,
   "metadata": {
    "collapsed": true,
    "jupyter": {
     "outputs_hidden": true
    }
   },
   "outputs": [
    {
     "data": {
      "text/plain": [
       "\u001b[0;31mInit signature:\u001b[0m \u001b[0mReactionCofactorSwapTarget\u001b[0m\u001b[0;34m(\u001b[0m\u001b[0mid\u001b[0m\u001b[0;34m,\u001b[0m \u001b[0mswap_pairs\u001b[0m\u001b[0;34m,\u001b[0m \u001b[0;34m*\u001b[0m\u001b[0margs\u001b[0m\u001b[0;34m,\u001b[0m \u001b[0;34m**\u001b[0m\u001b[0mkwargs\u001b[0m\u001b[0;34m)\u001b[0m\u001b[0;34m\u001b[0m\u001b[0;34m\u001b[0m\u001b[0m\n",
       "\u001b[0;31mDocstring:\u001b[0m      Swap cofactors of a given reaction.\n",
       "\u001b[0;31mFile:\u001b[0m           ~/.local/lib/python3.6/site-packages/cameo/core/target.py\n",
       "\u001b[0;31mType:\u001b[0m           type\n",
       "\u001b[0;31mSubclasses:\u001b[0m     \n"
      ]
     },
     "metadata": {},
     "output_type": "display_data"
    }
   ],
   "source": [
    "?ReactionCofactorSwapTarget"
   ]
  },
  {
   "cell_type": "code",
   "execution_count": null,
   "metadata": {},
   "outputs": [],
   "source": []
  },
  {
   "cell_type": "code",
   "execution_count": 181,
   "metadata": {
    "collapsed": true,
    "jupyter": {
     "outputs_hidden": true
    }
   },
   "outputs": [
    {
     "data": {
      "text/plain": [
       "\u001b[0;31mInit signature:\u001b[0m\n",
       "\u001b[0mCofactorSwapOptimization\u001b[0m\u001b[0;34m(\u001b[0m\u001b[0;34m\u001b[0m\n",
       "\u001b[0;34m\u001b[0m    \u001b[0mcofactor_id_swaps\u001b[0m\u001b[0;34m=\u001b[0m\u001b[0;34m(\u001b[0m\u001b[0;34m[\u001b[0m\u001b[0;34m'nad_c'\u001b[0m\u001b[0;34m,\u001b[0m \u001b[0;34m'nadh_c'\u001b[0m\u001b[0;34m]\u001b[0m\u001b[0;34m,\u001b[0m \u001b[0;34m[\u001b[0m\u001b[0;34m'nadp_c'\u001b[0m\u001b[0;34m,\u001b[0m \u001b[0;34m'nadph_c'\u001b[0m\u001b[0;34m]\u001b[0m\u001b[0;34m)\u001b[0m\u001b[0;34m,\u001b[0m\u001b[0;34m\u001b[0m\n",
       "\u001b[0;34m\u001b[0m    \u001b[0mcandidate_reactions\u001b[0m\u001b[0;34m=\u001b[0m\u001b[0;32mNone\u001b[0m\u001b[0;34m,\u001b[0m\u001b[0;34m\u001b[0m\n",
       "\u001b[0;34m\u001b[0m    \u001b[0mskip_reactions\u001b[0m\u001b[0;34m=\u001b[0m\u001b[0;32mNone\u001b[0m\u001b[0;34m,\u001b[0m\u001b[0;34m\u001b[0m\n",
       "\u001b[0;34m\u001b[0m    \u001b[0;34m*\u001b[0m\u001b[0margs\u001b[0m\u001b[0;34m,\u001b[0m\u001b[0;34m\u001b[0m\n",
       "\u001b[0;34m\u001b[0m    \u001b[0;34m**\u001b[0m\u001b[0mkwargs\u001b[0m\u001b[0;34m,\u001b[0m\u001b[0;34m\u001b[0m\n",
       "\u001b[0;34m\u001b[0m\u001b[0;34m)\u001b[0m\u001b[0;34m\u001b[0m\u001b[0;34m\u001b[0m\u001b[0m\n",
       "\u001b[0;31mDocstring:\u001b[0m     \n",
       "Optimize co-factor swapping\n",
       "\n",
       "As suggested in [1]_, flux through a given reaction can sometimes be optimized by swapping complementary\n",
       "co-factor. This class implements a search for reactions when swapped improve the given objective. Briefly,\n",
       "the approach is to\n",
       "\n",
       "- find reactions that have all the targeted co-factor pairs e.g. (nad_c -> nadp_c, nadh_c -> nadph_c)\n",
       "\n",
       "- add reactions that have the co-factors swapped and then by a search algorithm switching one off in favor of the\n",
       "  other\n",
       "\n",
       "The implementation here differs from that in [1]_ in that we use a general purpose search algorithm rather than\n",
       "formulating the search as a mixed integer linear programming problem.\n",
       "\n",
       "References\n",
       "----------\n",
       ".. [1] King, Zachary A., and Adam M. Feist. \"Optimizing Cofactor Specificity of Oxidoreductase Enzymes for the\n",
       "  Generation of Microbial Production Strains - OptSwap.\" Industrial Biotechnology 9, no. 4 (August 1,\n",
       "  2013): 236-46. - doi:10.1089/ind.2013.0005.\n",
       "\n",
       "Parameters\n",
       "----------\n",
       "model : cobra.Model\n",
       "   the model to operator on\n",
       "cofactor_id_swaps : tuple\n",
       "   a tuple of length 2 that defines two lists of metabolite identifiers that should be interchanged during the\n",
       "   swap optimization see e.g. `NADH_NADPH` which is also the default.\n",
       "candidate_reactions : list\n",
       "   reactions to consider for co-factor swap - if not given then search for all reactions that include the given\n",
       "   cofactors\n",
       "skip_reactions : list\n",
       "   reactions to not consider for co-factor swap, defaults to the objective function if not provided\n",
       "args, kwargs : keyword arguments\n",
       "   passed on to super-classes, see in particular `objective_function`, `heuristic_method`, `termination`,\n",
       "   `simulation_method`, `wt_reference`, of `HeuristicOptimization` and `max_size` of `HeuristicOptimization.run`\n",
       "\n",
       "Examples\n",
       "--------\n",
       ">>> from cameo import models\n",
       ">>> from cameo.strain_design.heuristic.evolutionary.objective_functions import product_yield\n",
       ">>> model = models.bigg.iJO1366\n",
       ">>> model.objective = model.reactions.EX_thr__L_e\n",
       ">>> model.reactions.BIOMASS_Ec_iJO1366_core_53p95M.lower_bound = 0.1\n",
       ">>> py = product_yield(model.reactions.EX_thr__L_e, model.reactions.EX_glc__D_e)\n",
       ">>> swap_optimization = CofactorSwapOptimization(model=model, objective_function=py)\n",
       ">>> swap_optimization.run(max_evaluations=2000, max_size=2)\n",
       "\u001b[0;31mInit docstring:\u001b[0m\n",
       "Class for generic optimization algorithms for knockout (or similar) strain design methods\n",
       "\n",
       "Attributes\n",
       "----------\n",
       "simulation_method : see flux_analysis.simulation\n",
       "    The method used to simulate the model.\n",
       "wt_reference : dict, cameo.flux_analysis.simulation.FluxDistributionResult\n",
       "    A dict (dict-like) object with flux values from a reference state.\n",
       "simulation_method : method\n",
       "   the simulation method to use for evaluating results\n",
       "evaluator : TargetEvaluator\n",
       "   the class used to evaluate results\n",
       "\u001b[0;31mFile:\u001b[0m           ~/.local/lib/python3.6/site-packages/cameo/strain_design/heuristic/evolutionary/optimization.py\n",
       "\u001b[0;31mType:\u001b[0m           type\n",
       "\u001b[0;31mSubclasses:\u001b[0m     \n"
      ]
     },
     "metadata": {},
     "output_type": "display_data"
    }
   ],
   "source": [
    "?CofactorSwapOptimization"
   ]
  },
  {
   "cell_type": "code",
   "execution_count": 205,
   "metadata": {
    "collapsed": true,
    "jupyter": {
     "outputs_hidden": true
    }
   },
   "outputs": [
    {
     "ename": "KeyError",
     "evalue": "'nad_c'",
     "output_type": "error",
     "traceback": [
      "\u001b[0;31m---------------------------------------------------------------------------\u001b[0m",
      "\u001b[0;31mKeyError\u001b[0m                                  Traceback (most recent call last)",
      "\u001b[0;32m<ipython-input-205-35c1625c79d3>\u001b[0m in \u001b[0;36m<module>\u001b[0;34m\u001b[0m\n\u001b[0;32m----> 1\u001b[0;31m \u001b[0mswap_optimization\u001b[0m \u001b[0;34m=\u001b[0m \u001b[0mCofactorSwapOptimization\u001b[0m\u001b[0;34m(\u001b[0m\u001b[0mmodel\u001b[0m\u001b[0;34m=\u001b[0m\u001b[0mmodel\u001b[0m\u001b[0;34m,\u001b[0m \u001b[0mobjective_function\u001b[0m\u001b[0;34m=\u001b[0m\u001b[0mproduct_yield\u001b[0m\u001b[0;34m,\u001b[0m \u001b[0mplot\u001b[0m\u001b[0;34m=\u001b[0m\u001b[0;32mTrue\u001b[0m\u001b[0;34m)\u001b[0m\u001b[0;34m\u001b[0m\u001b[0;34m\u001b[0m\u001b[0m\n\u001b[0m",
      "\u001b[0;32m~/.local/lib/python3.6/site-packages/cameo/strain_design/heuristic/evolutionary/optimization.py\u001b[0m in \u001b[0;36m__init__\u001b[0;34m(self, cofactor_id_swaps, candidate_reactions, skip_reactions, *args, **kwargs)\u001b[0m\n\u001b[1;32m    846\u001b[0m         \u001b[0msuper\u001b[0m\u001b[0;34m(\u001b[0m\u001b[0mCofactorSwapOptimization\u001b[0m\u001b[0;34m,\u001b[0m \u001b[0mself\u001b[0m\u001b[0;34m)\u001b[0m\u001b[0;34m.\u001b[0m\u001b[0m__init__\u001b[0m\u001b[0;34m(\u001b[0m\u001b[0;34m*\u001b[0m\u001b[0margs\u001b[0m\u001b[0;34m,\u001b[0m \u001b[0;34m**\u001b[0m\u001b[0mkwargs\u001b[0m\u001b[0;34m)\u001b[0m\u001b[0;34m\u001b[0m\u001b[0;34m\u001b[0m\u001b[0m\n\u001b[1;32m    847\u001b[0m         \u001b[0mself\u001b[0m\u001b[0;34m.\u001b[0m\u001b[0m_target_type\u001b[0m \u001b[0;34m=\u001b[0m \u001b[0mSWAP_TYPE\u001b[0m\u001b[0;34m\u001b[0m\u001b[0;34m\u001b[0m\u001b[0m\n\u001b[0;32m--> 848\u001b[0;31m         swap_pairs = ([self.model.metabolites.get_by_id(m) for m in cofactor_id_swaps[0]],\n\u001b[0m\u001b[1;32m    849\u001b[0m                       [self.model.metabolites.get_by_id(m) for m in cofactor_id_swaps[1]])\n\u001b[1;32m    850\u001b[0m         \u001b[0mself\u001b[0m\u001b[0;34m.\u001b[0m\u001b[0mmetadata\u001b[0m\u001b[0;34m[\u001b[0m\u001b[0;34m'swap_pairs'\u001b[0m\u001b[0;34m]\u001b[0m \u001b[0;34m=\u001b[0m \u001b[0mswap_pairs\u001b[0m\u001b[0;34m\u001b[0m\u001b[0;34m\u001b[0m\u001b[0m\n",
      "\u001b[0;32m~/.local/lib/python3.6/site-packages/cameo/strain_design/heuristic/evolutionary/optimization.py\u001b[0m in \u001b[0;36m<listcomp>\u001b[0;34m(.0)\u001b[0m\n\u001b[1;32m    846\u001b[0m         \u001b[0msuper\u001b[0m\u001b[0;34m(\u001b[0m\u001b[0mCofactorSwapOptimization\u001b[0m\u001b[0;34m,\u001b[0m \u001b[0mself\u001b[0m\u001b[0;34m)\u001b[0m\u001b[0;34m.\u001b[0m\u001b[0m__init__\u001b[0m\u001b[0;34m(\u001b[0m\u001b[0;34m*\u001b[0m\u001b[0margs\u001b[0m\u001b[0;34m,\u001b[0m \u001b[0;34m**\u001b[0m\u001b[0mkwargs\u001b[0m\u001b[0;34m)\u001b[0m\u001b[0;34m\u001b[0m\u001b[0;34m\u001b[0m\u001b[0m\n\u001b[1;32m    847\u001b[0m         \u001b[0mself\u001b[0m\u001b[0;34m.\u001b[0m\u001b[0m_target_type\u001b[0m \u001b[0;34m=\u001b[0m \u001b[0mSWAP_TYPE\u001b[0m\u001b[0;34m\u001b[0m\u001b[0;34m\u001b[0m\u001b[0m\n\u001b[0;32m--> 848\u001b[0;31m         swap_pairs = ([self.model.metabolites.get_by_id(m) for m in cofactor_id_swaps[0]],\n\u001b[0m\u001b[1;32m    849\u001b[0m                       [self.model.metabolites.get_by_id(m) for m in cofactor_id_swaps[1]])\n\u001b[1;32m    850\u001b[0m         \u001b[0mself\u001b[0m\u001b[0;34m.\u001b[0m\u001b[0mmetadata\u001b[0m\u001b[0;34m[\u001b[0m\u001b[0;34m'swap_pairs'\u001b[0m\u001b[0;34m]\u001b[0m \u001b[0;34m=\u001b[0m \u001b[0mswap_pairs\u001b[0m\u001b[0;34m\u001b[0m\u001b[0;34m\u001b[0m\u001b[0m\n",
      "\u001b[0;32m/usr/local/lib/python3.6/dist-packages/cobra/core/dictlist.py\u001b[0m in \u001b[0;36mget_by_id\u001b[0;34m(self, id)\u001b[0m\n\u001b[1;32m     56\u001b[0m     \u001b[0;32mdef\u001b[0m \u001b[0mget_by_id\u001b[0m\u001b[0;34m(\u001b[0m\u001b[0mself\u001b[0m\u001b[0;34m,\u001b[0m \u001b[0mid\u001b[0m\u001b[0;34m)\u001b[0m\u001b[0;34m:\u001b[0m\u001b[0;34m\u001b[0m\u001b[0;34m\u001b[0m\u001b[0m\n\u001b[1;32m     57\u001b[0m         \u001b[0;34m\"\"\"return the element with a matching id\"\"\"\u001b[0m\u001b[0;34m\u001b[0m\u001b[0;34m\u001b[0m\u001b[0m\n\u001b[0;32m---> 58\u001b[0;31m         \u001b[0;32mreturn\u001b[0m \u001b[0mlist\u001b[0m\u001b[0;34m.\u001b[0m\u001b[0m__getitem__\u001b[0m\u001b[0;34m(\u001b[0m\u001b[0mself\u001b[0m\u001b[0;34m,\u001b[0m \u001b[0mself\u001b[0m\u001b[0;34m.\u001b[0m\u001b[0m_dict\u001b[0m\u001b[0;34m[\u001b[0m\u001b[0mid\u001b[0m\u001b[0;34m]\u001b[0m\u001b[0;34m)\u001b[0m\u001b[0;34m\u001b[0m\u001b[0;34m\u001b[0m\u001b[0m\n\u001b[0m\u001b[1;32m     59\u001b[0m \u001b[0;34m\u001b[0m\u001b[0m\n\u001b[1;32m     60\u001b[0m     \u001b[0;32mdef\u001b[0m \u001b[0mlist_attr\u001b[0m\u001b[0;34m(\u001b[0m\u001b[0mself\u001b[0m\u001b[0;34m,\u001b[0m \u001b[0mattribute\u001b[0m\u001b[0;34m)\u001b[0m\u001b[0;34m:\u001b[0m\u001b[0;34m\u001b[0m\u001b[0;34m\u001b[0m\u001b[0m\n",
      "\u001b[0;31mKeyError\u001b[0m: 'nad_c'"
     ]
    }
   ],
   "source": [
    "swap_optimization = CofactorSwapOptimization(model=model, objective_function=product_yield, plot=True)"
   ]
  },
  {
   "cell_type": "code",
   "execution_count": 200,
   "metadata": {},
   "outputs": [],
   "source": [
    "NADH_NADPH = (['NAD', 'NADH'],['NADP', 'NADPH'])"
   ]
  },
  {
   "cell_type": "code",
   "execution_count": 201,
   "metadata": {},
   "outputs": [
    {
     "name": "stdout",
     "output_type": "stream",
     "text": [
      "(['NAD', 'NADH'], ['NADP', 'NADPH'])\n"
     ]
    }
   ],
   "source": [
    "print(NADH_NADPH)"
   ]
  },
  {
   "cell_type": "code",
   "execution_count": null,
   "metadata": {},
   "outputs": [],
   "source": [
    "cofactor_id_swaps = NADH_NADPH"
   ]
  },
  {
   "cell_type": "code",
   "execution_count": 214,
   "metadata": {},
   "outputs": [
    {
     "data": {
      "text/plain": [
       "(['NAD', 'NADH'], ['NADP', 'NADPH'])"
      ]
     },
     "execution_count": 214,
     "metadata": {},
     "output_type": "execute_result"
    }
   ],
   "source": [
    "cofactor_id_swaps"
   ]
  },
  {
   "cell_type": "code",
   "execution_count": 217,
   "metadata": {},
   "outputs": [
    {
     "ename": "SyntaxError",
     "evalue": "invalid syntax (<ipython-input-217-20a4bc197308>, line 1)",
     "output_type": "error",
     "traceback": [
      "\u001b[0;36m  File \u001b[0;32m\"<ipython-input-217-20a4bc197308>\"\u001b[0;36m, line \u001b[0;32m1\u001b[0m\n\u001b[0;31m    cofactor_id_swaps = ([from 'nad_c'], [to 'NAD'])\u001b[0m\n\u001b[0m                             ^\u001b[0m\n\u001b[0;31mSyntaxError\u001b[0m\u001b[0;31m:\u001b[0m invalid syntax\n"
     ]
    }
   ],
   "source": [
    "cofactor_id_swaps = ([from 'nad_c'], [to 'NAD'])"
   ]
  },
  {
   "cell_type": "code",
   "execution_count": 216,
   "metadata": {},
   "outputs": [
    {
     "ename": "SyntaxError",
     "evalue": "positional argument follows keyword argument (<ipython-input-216-4876dd87bd48>, line 1)",
     "output_type": "error",
     "traceback": [
      "\u001b[0;36m  File \u001b[0;32m\"<ipython-input-216-4876dd87bd48>\"\u001b[0;36m, line \u001b[0;32m1\u001b[0m\n\u001b[0;31m    swap_optimization2 = CofactorSwapOptimization(model=model, objective_function=product_yield, plot=True, cofactor_id_swaps)\u001b[0m\n\u001b[0m                                                                                                           ^\u001b[0m\n\u001b[0;31mSyntaxError\u001b[0m\u001b[0;31m:\u001b[0m positional argument follows keyword argument\n"
     ]
    }
   ],
   "source": [
    "swap_optimization2 = CofactorSwapOptimization(model=model, objective_function=product_yield, plot=True, cofactor_id_swaps)"
   ]
  },
  {
   "cell_type": "code",
   "execution_count": null,
   "metadata": {},
   "outputs": [],
   "source": [
    "CofactorSwapOptimization(\n",
    "    cofactor_id_swaps=(['NAD', 'NADH'], ['NADP', 'NADPH']),\n",
    "    candidate_reactions=None,\n",
    "    skip_reactions=None,\n",
    "    *args,\n",
    "    **kwargs,\n",
    ")"
   ]
  },
  {
   "cell_type": "markdown",
   "metadata": {},
   "source": [
    "Do we even have any cofactors?\n",
    "\n",
    "PsiD: pyridoxal-5′-phosphate (PLP) i planter, men hvad med svampe?\n",
    "\n",
    "PSIH: er en cytochrome P450 (so guess it use heme as cofactor?)\n",
    "PcCpr: er en cp450 reductase som har cofaktorerne (FMN, FAD and NADPH)\n",
    "\n",
    "\n",
    "PsiK: ATP \n",
    "\n",
    "PsiM x2: S-adenosyl-L-methionine (SAM) \n",
    "\n",
    "Skal ikke tilføje cofaktorerne i reaktionenerne! \n"
   ]
  },
  {
   "cell_type": "markdown",
   "metadata": {},
   "source": [
    "situationen med 2 enzymer i reaktion 2 forklaret:\n",
    "så rekation 2 består altså både af  cytochrome P450 gene PcpsiH OG en cytochrome P450 reductase (CPR) partner \n",
    "\n",
    "\"While psilocybin was successfully produced in yeast, the initial ti- ters were low. Furthermore, analysis revealed the extracellular accu- mulation of tryptamine (120.3 ± 11.1 mg/L) indicating a significant limitation in the conversion of tryptamine to 4-hydroxytryptamine encoded by the cytochrome P450 gene PcpsiH. Cytochrome P450 enzymes (CYP) belong to a superfamily of heme-containing mono- oxygenases and require a cytochrome P450 reductase (CPR) partner to deliver one or more electrons to reduce the heme-bound iron and oxi- dized substrates (Renault et al., 2014). While the detection of psilocybin indicated that the native S. cerevisiae CPR (Ncp1) could carry out this reduction, the accumulation of tryptamine suggested a sub-optimal\"\n",
    "\n",
    "\"In this work, the successful production of psilocybin was demonstrated in Saccharomyces cerevisiae. Implementation of the biosynthetic pathway from Psilocybe cubensis with expression of a novel cytochrome P450 reductase resulted in high-level de novo production from glucose.\" ?"
   ]
  },
  {
   "cell_type": "code",
   "execution_count": null,
   "metadata": {},
   "outputs": [],
   "source": []
  }
 ],
 "metadata": {
  "kernelspec": {
   "display_name": "python3.6",
   "language": "python",
   "name": "python3.6"
  },
  "language_info": {
   "codemirror_mode": {
    "name": "ipython",
    "version": 3
   },
   "file_extension": ".py",
   "mimetype": "text/x-python",
   "name": "python",
   "nbconvert_exporter": "python",
   "pygments_lexer": "ipython3",
   "version": "3.6.12"
  }
 },
 "nbformat": 4,
 "nbformat_minor": 4
}
