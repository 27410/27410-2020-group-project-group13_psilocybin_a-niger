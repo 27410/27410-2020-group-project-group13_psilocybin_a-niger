{
 "cells": [
  {
   "cell_type": "markdown",
   "metadata": {},
   "source": [
    "## Reading the <i>Aspergillus niger</i> model - ATCC 1015 iJB1325"
   ]
  },
  {
   "cell_type": "markdown",
   "metadata": {},
   "source": [
    "#### Import of libraries needed for importing the model and defining the model"
   ]
  },
  {
   "cell_type": "code",
   "execution_count": 94,
   "metadata": {},
   "outputs": [],
   "source": [
    "from cobra.io import read_sbml_model\n",
    "from cobra import Reaction, Metabolite\n",
    "\n",
    "model = read_sbml_model('2018_ATCC1015_GSM.xml') #the model was found in (Brandl, J., Aguilar-Pontes, M.V., Schäpe, P. et al. - additional file 2)"
   ]
  },
  {
   "cell_type": "markdown",
   "metadata": {},
   "source": [
    "#### Defining the metabolites"
   ]
  },
  {
   "cell_type": "code",
   "execution_count": 95,
   "metadata": {},
   "outputs": [],
   "source": [
    "tryptamine = Metabolite(id = 'TRYP', compartment='c', name='tryptamine', formula='C10H12N2')"
   ]
  },
  {
   "cell_type": "code",
   "execution_count": 96,
   "metadata": {},
   "outputs": [],
   "source": [
    "hydroxytryptamine = Metabolite(id='_4HTRYP', compartment='c', name='_4hydroxytryptamine', formula='C10H12N2O') "
   ]
  },
  {
   "cell_type": "code",
   "execution_count": 97,
   "metadata": {},
   "outputs": [],
   "source": [
    "norbaeocystin = Metabolite(id='NBC' , compartment='c', name='norbaeocystin', formula='C10H13N2O4P') "
   ]
  },
  {
   "cell_type": "code",
   "execution_count": 98,
   "metadata": {},
   "outputs": [],
   "source": [
    "psilocybin = Metabolite(id='psi', compartment='c', name='psilocybin', formula='C12H17N2O4P')"
   ]
  },
  {
   "cell_type": "code",
   "execution_count": 99,
   "metadata": {},
   "outputs": [],
   "source": [
    "S_adenosyl_L_methionine = Metabolite(id='SAM', compartment='c', name='S-adenosyl-L-Methionine', formula='C15H22N6O5S')"
   ]
  },
  {
   "cell_type": "code",
   "execution_count": 100,
   "metadata": {},
   "outputs": [],
   "source": [
    "S_adenosyl_L_homocysteine = Metabolite(id='SAH', compartment='c', name='S-adenosyl-L-homocysteine', formula='C14H20N6O5S' )"
   ]
  },
  {
   "cell_type": "code",
   "execution_count": 101,
   "metadata": {},
   "outputs": [],
   "source": [
    "psilocin = Metabolite(id='psii', compartment='c', name='psilocin', formula='C12H16N2O' )"
   ]
  },
  {
   "cell_type": "markdown",
   "metadata": {},
   "source": [
    "#### Defining the reactions:"
   ]
  },
  {
   "cell_type": "code",
   "execution_count": 102,
   "metadata": {},
   "outputs": [],
   "source": [
    "L_tryptophan_decarboxylase = Reaction('psiD')"
   ]
  },
  {
   "cell_type": "code",
   "execution_count": 103,
   "metadata": {},
   "outputs": [],
   "source": [
    "tryptamine_4_monooxygenase = Reaction('psiH')"
   ]
  },
  {
   "cell_type": "code",
   "execution_count": 104,
   "metadata": {},
   "outputs": [],
   "source": [
    "_4_hydroxytryptamine_kinase = Reaction('psiK')"
   ]
  },
  {
   "cell_type": "code",
   "execution_count": 105,
   "metadata": {},
   "outputs": [],
   "source": [
    "psilocybin_synthase = Reaction('psiM')"
   ]
  },
  {
   "cell_type": "code",
   "execution_count": 106,
   "metadata": {},
   "outputs": [],
   "source": [
    "pho_or_spon = Reaction('pho') # reaction is either spontaneous or carried out by phosphatases"
   ]
  },
  {
   "cell_type": "code",
   "execution_count": 107,
   "metadata": {},
   "outputs": [],
   "source": [
    "psilocybin_kinase = Reaction('psiK2') # OBS: same enzyme as in _4_hydroxytryptamine_kinase reaction"
   ]
  },
  {
   "cell_type": "markdown",
   "metadata": {},
   "source": [
    "#### Adding the metabolites to the reactions"
   ]
  },
  {
   "cell_type": "code",
   "execution_count": 108,
   "metadata": {},
   "outputs": [],
   "source": [
    "L_tryptophan_decarboxylase.add_metabolites(({model.metabolites.TRP: -1,  \n",
    "                              tryptamine: 1, \n",
    "                              model.metabolites.CO2: 1, \n",
    "                            }))"
   ]
  },
  {
   "cell_type": "code",
   "execution_count": 109,
   "metadata": {},
   "outputs": [],
   "source": [
    "tryptamine_4_monooxygenase.add_metabolites({tryptamine: -1,\n",
    "                              model.metabolites.O2: -1,\n",
    "                              model.metabolites.H: -2, \n",
    "                              hydroxytryptamine: 1, \n",
    "                              model.metabolites.H2O: 1\n",
    "                             })"
   ]
  },
  {
   "cell_type": "code",
   "execution_count": 110,
   "metadata": {},
   "outputs": [],
   "source": [
    "_4_hydroxytryptamine_kinase.add_metabolites({hydroxytryptamine: -1,\n",
    "                              model.metabolites.ATP: -1,\n",
    "                              norbaeocystin: 1, \n",
    "                              model.metabolites.ADP: 1,\n",
    "                              model.metabolites.H: 1 #skal dette H i virkeligheden ikke tilføjes her fordi det bliver sat på ADP?\n",
    "                             })"
   ]
  },
  {
   "cell_type": "code",
   "execution_count": 111,
   "metadata": {},
   "outputs": [],
   "source": [
    "psilocybin_synthase.add_metabolites(({norbaeocystin: -1,\n",
    "                             S_adenosyl_L_methionine: -2, \n",
    "                             psilocybin: 1, \n",
    "                             S_adenosyl_L_homocysteine: 2,\n",
    "                             model.metabolites.H: 2\n",
    "                             }))"
   ]
  },
  {
   "cell_type": "code",
   "execution_count": 112,
   "metadata": {},
   "outputs": [],
   "source": [
    "pho_or_spon.add_metabolites(({psilocybin: -1,\n",
    "                             model.metabolites.H: -1,\n",
    "                             psilocin: 1,\n",
    "                             model.metabolites.PI: 1,\n",
    "                             }))"
   ]
  },
  {
   "cell_type": "code",
   "execution_count": 113,
   "metadata": {},
   "outputs": [],
   "source": [
    "psilocybin_kinase.add_metabolites(({psilocin: -1,\n",
    "                             model.metabolites.ATP: -1, \n",
    "                             psilocybin: 1, \n",
    "                             model.metabolites.ADP: 1,\n",
    "                             model.metabolites.H: 1, #skal dette H i virkeligheden ikke tilføjes her fordi det bliver sat på ADP?  \n",
    "                             }))"
   ]
  },
  {
   "cell_type": "markdown",
   "metadata": {},
   "source": [
    "#### Adding the reactions to the model"
   ]
  },
  {
   "cell_type": "code",
   "execution_count": 114,
   "metadata": {},
   "outputs": [],
   "source": [
    "model.add_reactions([L_tryptophan_decarboxylase])\n",
    "model.add_reactions([tryptamine_4_monooxygenase])\n",
    "model.add_reactions([_4_hydroxytryptamine_kinase])\n",
    "model.add_reactions([psilocybin_synthase])\n",
    "model.add_reactions([pho_or_spon])\n",
    "model.add_reactions([psilocybin_kinase])"
   ]
  },
  {
   "cell_type": "code",
   "execution_count": 128,
   "metadata": {},
   "outputs": [
    {
     "ename": "ValueError",
     "evalue": "Boundary reaction 'DM_TRYP' already exists.",
     "output_type": "error",
     "traceback": [
      "\u001b[0;31m---------------------------------------------------------------------------\u001b[0m",
      "\u001b[0;31mValueError\u001b[0m                                Traceback (most recent call last)",
      "\u001b[0;32m<ipython-input-128-5be15fc69aab>\u001b[0m in \u001b[0;36m<module>\u001b[0;34m\u001b[0m\n\u001b[0;32m----> 1\u001b[0;31m \u001b[0mmodel\u001b[0m\u001b[0;34m.\u001b[0m\u001b[0madd_boundary\u001b[0m\u001b[0;34m(\u001b[0m\u001b[0mmodel\u001b[0m\u001b[0;34m.\u001b[0m\u001b[0mmetabolites\u001b[0m\u001b[0;34m.\u001b[0m\u001b[0mTRYP\u001b[0m\u001b[0;34m,\u001b[0m \u001b[0mtype\u001b[0m\u001b[0;34m=\u001b[0m\u001b[0;34m'demand'\u001b[0m\u001b[0;34m)\u001b[0m\u001b[0;34m\u001b[0m\u001b[0;34m\u001b[0m\u001b[0m\n\u001b[0m\u001b[1;32m      2\u001b[0m \u001b[0mmodel\u001b[0m\u001b[0;34m.\u001b[0m\u001b[0madd_boundary\u001b[0m\u001b[0;34m(\u001b[0m\u001b[0mmodel\u001b[0m\u001b[0;34m.\u001b[0m\u001b[0mmetabolites\u001b[0m\u001b[0;34m.\u001b[0m\u001b[0m_4HTRYP\u001b[0m\u001b[0;34m,\u001b[0m \u001b[0mtype\u001b[0m\u001b[0;34m=\u001b[0m\u001b[0;34m'demand'\u001b[0m\u001b[0;34m)\u001b[0m\u001b[0;34m\u001b[0m\u001b[0;34m\u001b[0m\u001b[0m\n\u001b[1;32m      3\u001b[0m \u001b[0mmodel\u001b[0m\u001b[0;34m.\u001b[0m\u001b[0madd_boundary\u001b[0m\u001b[0;34m(\u001b[0m\u001b[0mmodel\u001b[0m\u001b[0;34m.\u001b[0m\u001b[0mmetabolites\u001b[0m\u001b[0;34m.\u001b[0m\u001b[0mNBC\u001b[0m\u001b[0;34m,\u001b[0m \u001b[0mtype\u001b[0m\u001b[0;34m=\u001b[0m\u001b[0;34m'demand'\u001b[0m\u001b[0;34m)\u001b[0m\u001b[0;34m\u001b[0m\u001b[0;34m\u001b[0m\u001b[0m\n\u001b[1;32m      4\u001b[0m \u001b[0mmodel\u001b[0m\u001b[0;34m.\u001b[0m\u001b[0madd_boundary\u001b[0m\u001b[0;34m(\u001b[0m\u001b[0mmodel\u001b[0m\u001b[0;34m.\u001b[0m\u001b[0mmetabolites\u001b[0m\u001b[0;34m.\u001b[0m\u001b[0mpsi\u001b[0m\u001b[0;34m,\u001b[0m \u001b[0mtype\u001b[0m\u001b[0;34m=\u001b[0m\u001b[0;34m'demand'\u001b[0m\u001b[0;34m)\u001b[0m\u001b[0;34m\u001b[0m\u001b[0;34m\u001b[0m\u001b[0m\n\u001b[1;32m      5\u001b[0m \u001b[0mmodel\u001b[0m\u001b[0;34m.\u001b[0m\u001b[0madd_boundary\u001b[0m\u001b[0;34m(\u001b[0m\u001b[0mmodel\u001b[0m\u001b[0;34m.\u001b[0m\u001b[0mmetabolites\u001b[0m\u001b[0;34m.\u001b[0m\u001b[0mSAM\u001b[0m\u001b[0;34m,\u001b[0m \u001b[0mtype\u001b[0m\u001b[0;34m=\u001b[0m\u001b[0;34m'demand'\u001b[0m\u001b[0;34m)\u001b[0m\u001b[0;34m\u001b[0m\u001b[0;34m\u001b[0m\u001b[0m\n",
      "\u001b[0;32m/usr/local/lib/python3.6/dist-packages/cobra/core/model.py\u001b[0m in \u001b[0;36madd_boundary\u001b[0;34m(self, metabolite, type, reaction_id, lb, ub, sbo_term)\u001b[0m\n\u001b[1;32m    617\u001b[0m         \u001b[0;32mif\u001b[0m \u001b[0mreaction_id\u001b[0m \u001b[0;32min\u001b[0m \u001b[0mself\u001b[0m\u001b[0;34m.\u001b[0m\u001b[0mreactions\u001b[0m\u001b[0;34m:\u001b[0m\u001b[0;34m\u001b[0m\u001b[0;34m\u001b[0m\u001b[0m\n\u001b[1;32m    618\u001b[0m             raise ValueError(\n\u001b[0;32m--> 619\u001b[0;31m                 \"Boundary reaction '{}' already exists.\".format(reaction_id))\n\u001b[0m\u001b[1;32m    620\u001b[0m         \u001b[0mname\u001b[0m \u001b[0;34m=\u001b[0m \u001b[0;34m\"{} {}\"\u001b[0m\u001b[0;34m.\u001b[0m\u001b[0mformat\u001b[0m\u001b[0;34m(\u001b[0m\u001b[0mmetabolite\u001b[0m\u001b[0;34m.\u001b[0m\u001b[0mname\u001b[0m\u001b[0;34m,\u001b[0m \u001b[0mtype\u001b[0m\u001b[0;34m)\u001b[0m\u001b[0;34m\u001b[0m\u001b[0;34m\u001b[0m\u001b[0m\n\u001b[1;32m    621\u001b[0m         rxn = Reaction(id=reaction_id, name=name, lower_bound=lb,\n",
      "\u001b[0;31mValueError\u001b[0m: Boundary reaction 'DM_TRYP' already exists."
     ]
    }
   ],
   "source": [
    "model.add_boundary(model.metabolites.TRYP, type='demand')\n",
    "model.add_boundary(model.metabolites._4HTRYP, type='demand')\n",
    "model.add_boundary(model.metabolites.NBC, type='demand')\n",
    "model.add_boundary(model.metabolites.psi, type='demand')\n",
    "model.add_boundary(model.metabolites.SAM, type='demand')\n",
    "model.add_boundary(model.metabolites.SAH, type='demand')\n",
    "model.add_boundary(model.metabolites.psii, type='demand');"
   ]
  }
 ],
 "metadata": {
  "kernelspec": {
   "display_name": "python3.6",
   "language": "python",
   "name": "python3.6"
  },
  "language_info": {
   "codemirror_mode": {
    "name": "ipython",
    "version": 3
   },
   "file_extension": ".py",
   "mimetype": "text/x-python",
   "name": "python",
   "nbconvert_exporter": "python",
   "pygments_lexer": "ipython3",
   "version": "3.6.12"
  }
 },
 "nbformat": 4,
 "nbformat_minor": 4
}
