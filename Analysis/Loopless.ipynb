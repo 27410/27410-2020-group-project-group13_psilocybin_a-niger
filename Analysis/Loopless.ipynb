{
 "cells": [
  {
   "cell_type": "markdown",
   "metadata": {},
   "source": [
    "# Loopless FBA"
   ]
  },
  {
   "cell_type": "markdown",
   "metadata": {},
   "source": [
    "To simulate FBA, loopless was also used, as it might be the better solution, compared to dFBA, as psilocybin is spontaneously dephosphorylated and phosphorylated again using the psiK enzyme, which is a looped reaction. "
   ]
  },
  {
   "cell_type": "markdown",
   "metadata": {},
   "source": [
    "#### Importing the model with the YEPD medium and libraries used for visualization."
   ]
  },
  {
   "cell_type": "code",
   "execution_count": 1,
   "metadata": {},
   "outputs": [
    {
     "name": "stderr",
     "output_type": "stream",
     "text": [
      "'' is not a valid SBML 'SId'.\n"
     ]
    },
    {
     "name": "stdout",
     "output_type": "stream",
     "text": [
      "Maximum theoretical biomass productivity: 0.9398547241492574 mmol-biomass mmol-glc^-1\n",
      "Maximum theoretical productivity of psilocybin_synthase reaction: 3.13958086200079 mmol-psi mmol-glc^-1\n",
      "Maximum theoretical biomass productivity: 14.928778362120335 mmol-biomass mmol-glc^-1\n",
      "Maximum theoretical productivity of psilocybin_synthase reaction: 55.59495850947237 mmol-psi mmol-glc^-1\n",
      "0.0\n",
      "53.88680131517143\n",
      "0.0\n",
      "55.59495850947234\n",
      "0.0\n",
      "53.730233286362896\n",
      "0.0\n",
      "54.662595897917605\n",
      "0.0\n",
      "51.86550806325348\n",
      "0.0\n",
      "53.65429779239081\n",
      "0.0\n",
      "53.73023328636294\n",
      "0.0\n",
      "53.419445749177974\n"
     ]
    }
   ],
   "source": [
    "%run Medium_significance.ipynb\n",
    "\n",
    "from cobra.flux_analysis.loopless import add_loopless, loopless_solution\n",
    "from cobra.flux_analysis import pfba"
   ]
  },
  {
   "cell_type": "markdown",
   "metadata": {},
   "source": [
    "Running the medium significance notebook (above) produces an output as some statements are printet in the notebook. These statements can be ignored.\n",
    "\n",
    "Setting the model objective to psilocybin synthase and creating two variables containing the nominal optimal solution and the loopless solution, which has the goal of identifying a thermodynamically consistent flux state without the loops in the model."
   ]
  },
  {
   "cell_type": "code",
   "execution_count": 2,
   "metadata": {},
   "outputs": [],
   "source": [
    "model.objective = model.reactions.psiM \n",
    "nominal = model.optimize()\n",
    "loopless = loopless_solution(model)"
   ]
  },
  {
   "cell_type": "markdown",
   "metadata": {},
   "source": [
    "Importing pandas to make a dataframe with a dict containing the loopless and nominal fluxes."
   ]
  },
  {
   "cell_type": "code",
   "execution_count": 8,
   "metadata": {},
   "outputs": [
    {
     "data": {
      "text/html": [
       "<div>\n",
       "<style scoped>\n",
       "    .dataframe tbody tr th:only-of-type {\n",
       "        vertical-align: middle;\n",
       "    }\n",
       "\n",
       "    .dataframe tbody tr th {\n",
       "        vertical-align: top;\n",
       "    }\n",
       "\n",
       "    .dataframe thead th {\n",
       "        text-align: right;\n",
       "    }\n",
       "</style>\n",
       "<table border=\"1\" class=\"dataframe\">\n",
       "  <thead>\n",
       "    <tr style=\"text-align: right;\">\n",
       "      <th></th>\n",
       "      <th>loopless</th>\n",
       "      <th>nominal</th>\n",
       "    </tr>\n",
       "  </thead>\n",
       "  <tbody>\n",
       "    <tr>\n",
       "      <th>NE1</th>\n",
       "      <td>7.575488e-27</td>\n",
       "      <td>2.139500e-15</td>\n",
       "    </tr>\n",
       "    <tr>\n",
       "      <th>NE2</th>\n",
       "      <td>-1.422893e-26</td>\n",
       "      <td>0.000000e+00</td>\n",
       "    </tr>\n",
       "    <tr>\n",
       "      <th>r1</th>\n",
       "      <td>0.000000e+00</td>\n",
       "      <td>-1.433465e-15</td>\n",
       "    </tr>\n",
       "    <tr>\n",
       "      <th>r2</th>\n",
       "      <td>0.000000e+00</td>\n",
       "      <td>0.000000e+00</td>\n",
       "    </tr>\n",
       "    <tr>\n",
       "      <th>r3</th>\n",
       "      <td>0.000000e+00</td>\n",
       "      <td>0.000000e+00</td>\n",
       "    </tr>\n",
       "    <tr>\n",
       "      <th>...</th>\n",
       "      <td>...</td>\n",
       "      <td>...</td>\n",
       "    </tr>\n",
       "    <tr>\n",
       "      <th>DM_NBC</th>\n",
       "      <td>0.000000e+00</td>\n",
       "      <td>0.000000e+00</td>\n",
       "    </tr>\n",
       "    <tr>\n",
       "      <th>DM_psi</th>\n",
       "      <td>0.000000e+00</td>\n",
       "      <td>0.000000e+00</td>\n",
       "    </tr>\n",
       "    <tr>\n",
       "      <th>DM_SAM</th>\n",
       "      <td>0.000000e+00</td>\n",
       "      <td>0.000000e+00</td>\n",
       "    </tr>\n",
       "    <tr>\n",
       "      <th>DM_SAH</th>\n",
       "      <td>0.000000e+00</td>\n",
       "      <td>0.000000e+00</td>\n",
       "    </tr>\n",
       "    <tr>\n",
       "      <th>DM_psii</th>\n",
       "      <td>5.559496e+01</td>\n",
       "      <td>5.559496e+01</td>\n",
       "    </tr>\n",
       "  </tbody>\n",
       "</table>\n",
       "<p>2333 rows × 2 columns</p>\n",
       "</div>"
      ],
      "text/plain": [
       "             loopless       nominal\n",
       "NE1      7.575488e-27  2.139500e-15\n",
       "NE2     -1.422893e-26  0.000000e+00\n",
       "r1       0.000000e+00 -1.433465e-15\n",
       "r2       0.000000e+00  0.000000e+00\n",
       "r3       0.000000e+00  0.000000e+00\n",
       "...               ...           ...\n",
       "DM_NBC   0.000000e+00  0.000000e+00\n",
       "DM_psi   0.000000e+00  0.000000e+00\n",
       "DM_SAM   0.000000e+00  0.000000e+00\n",
       "DM_SAH   0.000000e+00  0.000000e+00\n",
       "DM_psii  5.559496e+01  5.559496e+01\n",
       "\n",
       "[2333 rows x 2 columns]"
      ]
     },
     "execution_count": 8,
     "metadata": {},
     "output_type": "execute_result"
    }
   ],
   "source": [
    "import pandas\n",
    "df = pandas.DataFrame(dict(loopless=loopless.fluxes, nominal=nominal.fluxes))\n",
    "df"
   ]
  },
  {
   "cell_type": "markdown",
   "metadata": {},
   "source": [
    "Plotting the loopless and nominal values to visualize the results."
   ]
  },
  {
   "cell_type": "code",
   "execution_count": 4,
   "metadata": {},
   "outputs": [
    {
     "data": {
      "text/plain": [
       "<matplotlib.axes._subplots.AxesSubplot at 0x7fec2adc5ca0>"
      ]
     },
     "execution_count": 4,
     "metadata": {},
     "output_type": "execute_result"
    },
    {
     "data": {
      "image/png": "[encoded data removed]",
      "text/plain": [
       "<Figure size 432x288 with 1 Axes>"
      ]
     },
     "metadata": {
      "needs_background": "light"
     },
     "output_type": "display_data"
    }
   ],
   "source": [
    "df.plot.scatter(x='loopless', y='nominal')"
   ]
  },
  {
   "cell_type": "markdown",
   "metadata": {},
   "source": [
    "Last, but not least, finding the solution status and the loopless solution flux for psiM (= to the flux of psiM)."
   ]
  },
  {
   "cell_type": "code",
   "execution_count": 5,
   "metadata": {},
   "outputs": [
    {
     "name": "stdout",
     "output_type": "stream",
     "text": [
      "parsimonious solution: status = optimal\n",
      "loopless solution flux: psiM = 55.5950\n"
     ]
    }
   ],
   "source": [
    "solution = pfba(model)\n",
    "print(\"parsimonious solution: status = \" + solution.status)\n",
    "print(\"loopless solution flux: psiM = %.4f\" % solution.fluxes[\"psiM\"])"
   ]
  }
 ],
 "metadata": {
  "kernelspec": {
   "display_name": "Python 3",
   "language": "python",
   "name": "python3"
  },
  "language_info": {
   "codemirror_mode": {
    "name": "ipython",
    "version": 3
   },
   "file_extension": ".py",
   "mimetype": "text/x-python",
   "name": "python",
   "nbconvert_exporter": "python",
   "pygments_lexer": "ipython3",
   "version": "3.8.5"
  }
 },
 "nbformat": 4,
 "nbformat_minor": 4
}
