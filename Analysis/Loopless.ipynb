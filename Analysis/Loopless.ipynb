{
 "cells": [
  {
   "cell_type": "markdown",
   "metadata": {},
   "source": [
    "# Loopless FBA"
   ]
  },
  {
   "cell_type": "markdown",
   "metadata": {},
   "source": [
    "To simulate FBA, loopless was also used, as it might be the better solution, compared to dFBA, as psilocybin is spontaneously dephosphorylated and phosphorylated again using the psiK enzyme, which is a looped reaction. "
   ]
  },
  {
   "cell_type": "markdown",
   "metadata": {},
   "source": [
    "#### Importing the model with the YEPD medium and libraries used for visualization."
   ]
  },
  {
   "cell_type": "code",
   "execution_count": 1,
   "metadata": {},
   "outputs": [
    {
     "name": "stderr",
     "output_type": "stream",
     "text": [
      "'' is not a valid SBML 'SId'.\n"
     ]
    },
    {
     "name": "stdout",
     "output_type": "stream",
     "text": [
      "Maximum theoretical biomass productivity: 0.9398547241492603 mmol/(gdw*h)\n",
      "Maximum theoretical productivity of psilocybin_synthase reaction: 3.0787126793330786 mmol/(gdw*h)\n",
      "Maximum theoretical biomass productivity: 15.115388091646897 mmol/(gdw*h)\n",
      "Maximum theoretical productivity of psilocybin_synthase reaction: 53.867217378002216 mmol/(gdw*h\n",
      "0.0\n",
      "48.55438274437815\n",
      "0.0\n",
      "50.223344041609295\n",
      "0.0\n",
      "48.40140737341289\n",
      "0.0\n",
      "49.312375707511094\n",
      "0.0\n",
      "46.57947070521645\n",
      "0.0\n",
      "48.327214318494725\n",
      "0.0\n",
      "48.40140737341289\n",
      "0.0\n",
      "48.0977512620468\n"
     ]
    }
   ],
   "source": [
    "%run Medium_significance.ipynb\n",
    "\n",
    "from cobra.flux_analysis.loopless import add_loopless, loopless_solution\n",
    "from cobra.flux_analysis import pfba"
   ]
  },
  {
   "cell_type": "markdown",
   "metadata": {},
   "source": [
    "Running the medium significance notebook (above) produces an output as some statements are printet in the notebook. These statements can be ignored. \n",
    "\n",
    "The model in the Medium_significance notebook is applied, as the medium is changed from minimal medium to YEPD, a complex media, which is more industrially relevant. \n",
    "\n",
    "The model objective is set to psilocybin synthase and two variables are made to contain the nominal optimal solution and the loopless solution. The loopless solution tries to identify a thermodynamically consistent flux state, by removing the loops in the model (cobrapy - loopless)."
   ]
  },
  {
   "cell_type": "code",
   "execution_count": 2,
   "metadata": {},
   "outputs": [],
   "source": [
    "model.objective = model.reactions.psiM \n",
    "nominal = model.optimize()\n",
    "loopless = loopless_solution(model)"
   ]
  },
  {
   "cell_type": "markdown",
   "metadata": {},
   "source": [
    "Importing pandas to make a dataframe with a dict containing the loopless and nominal fluxes."
   ]
  },
  {
   "cell_type": "code",
   "execution_count": 3,
   "metadata": {},
   "outputs": [],
   "source": [
    "import pandas\n",
    "df = pandas.DataFrame(dict(loopless=loopless.fluxes, nominal=nominal.fluxes))"
   ]
  },
  {
   "cell_type": "markdown",
   "metadata": {},
   "source": [
    "Plotting the loopless and nominal values to visualize the results."
   ]
  },
  {
   "cell_type": "code",
   "execution_count": 4,
   "metadata": {},
   "outputs": [
    {
     "data": {
      "text/plain": [
       "<matplotlib.axes._subplots.AxesSubplot at 0x7f8de50c3100>"
      ]
     },
     "execution_count": 4,
     "metadata": {},
     "output_type": "execute_result"
    },
    {
     "data": {
      "image/png": "[encoded data removed]",
      "text/plain": [
       "<Figure size 432x288 with 1 Axes>"
      ]
     },
     "metadata": {
      "needs_background": "light"
     },
     "output_type": "display_data"
    }
   ],
   "source": [
    "df.plot.scatter(x='loopless', y='nominal')"
   ]
  },
  {
   "cell_type": "markdown",
   "metadata": {},
   "source": [
    "Last, but not least, finding the solution status and the loopless solution flux for psiM."
   ]
  },
  {
   "cell_type": "code",
   "execution_count": 5,
   "metadata": {},
   "outputs": [
    {
     "name": "stdout",
     "output_type": "stream",
     "text": [
      "parsimonious solution: status = optimal\n",
      "loopless solution flux: psiM = 53.8672 mmol/(gdw*h)\n"
     ]
    }
   ],
   "source": [
    "solution = pfba(model)\n",
    "print(\"parsimonious solution: status = \" + solution.status)\n",
    "print(\"loopless solution flux: psiM = %.4f\" % solution.fluxes[\"psiM\"], \"mmol/(gdw*h)\")"
   ]
  },
  {
   "cell_type": "markdown",
   "metadata": {},
   "source": [
    "1. https://cobrapy.readthedocs.io/en/latest/loopless.html."
   ]
  }
 ],
 "metadata": {
  "kernelspec": {
   "display_name": "Python 3",
   "language": "python",
   "name": "python3"
  },
  "language_info": {
   "codemirror_mode": {
    "name": "ipython",
    "version": 3
   },
   "file_extension": ".py",
   "mimetype": "text/x-python",
   "name": "python",
   "nbconvert_exporter": "python",
   "pygments_lexer": "ipython3",
   "version": "3.8.5"
  }
 },
 "nbformat": 4,
 "nbformat_minor": 4
}
