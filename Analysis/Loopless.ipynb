{
 "cells": [
  {
   "cell_type": "markdown",
   "metadata": {},
   "source": [
    "# Loopless FBA"
   ]
  },
  {
   "cell_type": "markdown",
   "metadata": {},
   "source": [
    "To simulate FBA, loopless was also used, as it might be the better solution, compared to dFBA, as psilocybin is spontaneously dephosphorylated and phosphorylated again using the psiK enzyme, which is a looped reaction. "
   ]
  },
  {
   "cell_type": "markdown",
   "metadata": {},
   "source": [
    "#### Importing the model with the YEPD medium and libraries used for visualization."
   ]
  },
  {
   "cell_type": "code",
   "execution_count": 6,
   "metadata": {},
   "outputs": [
    {
     "name": "stderr",
     "output_type": "stream",
     "text": [
      "'' is not a valid SBML 'SId'.\n"
     ]
    },
    {
     "name": "stdout",
     "output_type": "stream",
     "text": [
      "Maximum theoretical biomass productivity: 0.9398547241492603 mmol/(gdw*h)\n",
      "Maximum theoretical productivity of psilocybin_synthase reaction: 3.0787126793330786 mmol/(gdw*h)\n",
      "Maximum theoretical biomass productivity: 15.675217280226356 mmol/(gdw*h)\n",
      "Maximum theoretical productivity of psilocybin_synthase reaction: 57.96313293559737 mmol/(gdw*h\n",
      "0.0\n",
      "52.65029830197339\n",
      "0.0\n",
      "54.31925959920456\n",
      "0.0\n",
      "52.497322931008114\n",
      "0.0\n",
      "53.40829126510632\n",
      "0.0\n",
      "50.67538626281172\n",
      "0.0\n",
      "52.42312987608998\n",
      "0.0\n",
      "52.497322931008114\n",
      "0.0\n",
      "52.193666819642075\n"
     ]
    }
   ],
   "source": [
    "%run Medium_significance.ipynb\n",
    "\n",
    "from cobra.flux_analysis.loopless import add_loopless, loopless_solution\n",
    "from cobra.flux_analysis import pfba"
   ]
  },
  {
   "cell_type": "markdown",
   "metadata": {},
   "source": [
    "Running the medium significance notebook (above) produces an output as some statements are printet in the notebook. These statements can be ignored.\n",
    "\n",
    "Setting the model objective to psilocybin synthase and creating two variables containing the nominal optimal solution and the loopless solution, which has the goal of identifying a thermodynamically consistent flux state without the loops in the model."
   ]
  },
  {
   "cell_type": "code",
   "execution_count": 7,
   "metadata": {},
   "outputs": [],
   "source": [
    "model.objective = model.reactions.psiM \n",
    "nominal = model.optimize()\n",
    "loopless = loopless_solution(model)"
   ]
  },
  {
   "cell_type": "markdown",
   "metadata": {},
   "source": [
    "Importing pandas to make a dataframe with a dict containing the loopless and nominal fluxes."
   ]
  },
  {
   "cell_type": "code",
   "execution_count": 8,
   "metadata": {},
   "outputs": [],
   "source": [
    "import pandas\n",
    "df = pandas.DataFrame(dict(loopless=loopless.fluxes, nominal=nominal.fluxes))"
   ]
  },
  {
   "cell_type": "markdown",
   "metadata": {},
   "source": [
    "Plotting the loopless and nominal values to visualize the results."
   ]
  },
  {
   "cell_type": "code",
   "execution_count": 9,
   "metadata": {},
   "outputs": [
    {
     "data": {
      "text/plain": [
       "<matplotlib.axes._subplots.AxesSubplot at 0x7f5e14219ee0>"
      ]
     },
     "execution_count": 9,
     "metadata": {},
     "output_type": "execute_result"
    },
    {
     "data": {
      "image/png": "[encoded data removed]",
      "text/plain": [
       "<Figure size 432x288 with 1 Axes>"
      ]
     },
     "metadata": {
      "needs_background": "light"
     },
     "output_type": "display_data"
    }
   ],
   "source": [
    "df.plot.scatter(x='loopless', y='nominal')"
   ]
  },
  {
   "cell_type": "markdown",
   "metadata": {},
   "source": [
    "Last, but not least, finding the solution status and the loopless solution flux for psiM."
   ]
  },
  {
   "cell_type": "code",
   "execution_count": 10,
   "metadata": {},
   "outputs": [
    {
     "name": "stdout",
     "output_type": "stream",
     "text": [
      "parsimonious solution: status = optimal\n",
      "loopless solution flux: psiM = 57.9631\n"
     ]
    }
   ],
   "source": [
    "solution = pfba(model)\n",
    "print(\"parsimonious solution: status = \" + solution.status)\n",
    "print(\"loopless solution flux: psiM = %.4f\" % solution.fluxes[\"psiM\"])"
   ]
  }
 ],
 "metadata": {
  "kernelspec": {
   "display_name": "Python 3",
   "language": "python",
   "name": "python3"
  },
  "language_info": {
   "codemirror_mode": {
    "name": "ipython",
    "version": 3
   },
   "file_extension": ".py",
   "mimetype": "text/x-python",
   "name": "python",
   "nbconvert_exporter": "python",
   "pygments_lexer": "ipython3",
   "version": "3.8.5"
  }
 },
 "nbformat": 4,
 "nbformat_minor": 4
}
