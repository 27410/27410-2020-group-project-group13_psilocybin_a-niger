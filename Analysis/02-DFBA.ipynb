{
 "cells": [
  {
   "cell_type": "markdown",
   "metadata": {},
   "source": [
    "## Dynamic flux based analysis\n"
   ]
  },
  {
   "cell_type": "markdown",
   "metadata": {},
   "source": [
    "#### Introductory stuff - import of various libraries needed for DFBA and the model"
   ]
  },
  {
   "cell_type": "code",
   "execution_count": 2,
   "metadata": {},
   "outputs": [],
   "source": [
    "%run 01-model.ipynb\n",
    "\n",
    "from dfba import DfbaModel, ExchangeFlux, KineticVariable\n",
    "from dfba.plot.plotly import *"
   ]
  },
  {
   "cell_type": "markdown",
   "metadata": {},
   "source": [
    "### DFBA STARTS"
   ]
  },
  {
   "cell_type": "code",
   "execution_count": null,
   "metadata": {},
   "outputs": [],
   "source": [
    "model.solver = \"glpk\"\n",
    "dfba_model = DfbaModel(model)"
   ]
  },
  {
   "cell_type": "code",
   "execution_count": null,
   "metadata": {},
   "outputs": [],
   "source": [
    "model.medium"
   ]
  },
  {
   "cell_type": "code",
   "execution_count": null,
   "metadata": {},
   "outputs": [],
   "source": [
    "X = KineticVariable(\"Biomass\")\n",
    "Gluc = KineticVariable(\"Glucose\")\n",
    "H2o = KineticVariable(\"Water\")\n",
    "NitrA = KineticVariable(\"Nitric Acid\")\n",
    "Oxy = KineticVariable(\"Oxygen\")\n",
    "Phos = KineticVariable(\"Phosphate\")\n",
    "Slf = KineticVariable(\"SLF\")\n",
    "Pota = KineticVariable(\"Potassium\")\n",
    "Calc = KineticVariable(\"Calcium\")\n",
    "Psi = KineticVariable(\"Psilocybin\")\n",
    "\n",
    "\n",
    "dfba_model.add_kinetic_variables([X, Gluc, H2o, NitrA, Oxy, Phos, Slf, Pota, Calc, Psi])"
   ]
  },
  {
   "cell_type": "code",
   "execution_count": null,
   "metadata": {},
   "outputs": [],
   "source": [
    "mu = ExchangeFlux(\"DRAIN_Biomass\")\n",
    "v_G = ExchangeFlux(\"BOUNDARY_GLCe\")\n",
    "v_W = ExchangeFlux(\"BOUNDARY_H2Oe\")\n",
    "v_N = ExchangeFlux(\"BOUNDARY_HNO3e\")\n",
    "v_O = ExchangeFlux(\"BOUNDARY_O2e\")\n",
    "v_P = ExchangeFlux(\"BOUNDARY_PIe\")\n",
    "v_S = ExchangeFlux(\"BOUNDARY_SLFe\")\n",
    "v_Po = ExchangeFlux(\"BOUNDARY_Ke\")\n",
    "v_C = ExchangeFlux(\"BOUNDARY_CAe\")\n",
    "v_Psi = ExchangeFlux(\"Bjarne\")\n",
    "\n",
    "\n",
    "dfba_model.add_exchange_fluxes([mu, v_G, v_W, v_N, v_O, v_P, v_S, v_Po, v_C, v_Psi])"
   ]
  },
  {
   "cell_type": "code",
   "execution_count": null,
   "metadata": {},
   "outputs": [],
   "source": [
    "dfba_model.add_rhs_expression(\"Biomass\", mu * X)\n",
    "dfba_model.add_rhs_expression(\"Glucose\", v_G * X / 1000.0)\n",
    "dfba_model.add_rhs_expression(\"Water\", v_W * X / 1000.0)\n",
    "dfba_model.add_rhs_expression(\"Nitric Acid\", v_N * X / 1000.0)\n",
    "dfba_model.add_rhs_expression(\"Oxygen\", v_O * X / 1000.0)\n",
    "dfba_model.add_rhs_expression(\"Phosphate\", v_P * X)\n",
    "dfba_model.add_rhs_expression(\"SLF\", v_S * X / 1000.0)\n",
    "dfba_model.add_rhs_expression(\"Potassium\", v_Po * X / 1000.0)\n",
    "dfba_model.add_rhs_expression(\"Calcium\", v_C * X / 1000.0)\n",
    "dfba_model.add_rhs_expression(\"Psilocybin\", v_Psi * X / 1000.0)"
   ]
  },
  {
   "cell_type": "code",
   "execution_count": null,
   "metadata": {},
   "outputs": [],
   "source": [
    "dfba_model.add_exchange_flux_lb(\"BOUNDARY_O2e\", 15.0 * (Oxy / (0.024 + Oxy)), Oxy)"
   ]
  },
  {
   "cell_type": "code",
   "execution_count": null,
   "metadata": {},
   "outputs": [],
   "source": [
    "dfba_model.add_initial_conditions(\n",
    "    {\n",
    "        \"Biomass\": 0.03,\n",
    "        \"Glucose\": 4.0,\n",
    "        \"Water\": 10.0,\n",
    "        \"Nitric Acid\": 0.5,\n",
    "        \"Oxygen\": 4.0,\n",
    "        \"Phosphate\": 0.5,\n",
    "        \"SLF\": 0.5,\n",
    "        \"Potassium\":0.1,\n",
    "        \"Calcium\": 0.1,\n",
    "        \"Psilocybin\": 0.0\n",
    "    }\n",
    ")\n",
    "concentrations, tradjectories = dfba_model.simulate(0.0, 10.0, 0.1, [\"BOUNDARY_GLCe\",\"BOUNDARY_HNO3e\" ,\"Bjarne\"])"
   ]
  },
  {
   "cell_type": "code",
   "execution_count": null,
   "metadata": {},
   "outputs": [],
   "source": [
    "fig = plot_concentrations(concentrations)\n",
    "fig.show()"
   ]
  }
 ],
 "metadata": {
  "kernelspec": {
   "display_name": "Python 3",
   "language": "python",
   "name": "python3"
  },
  "language_info": {
   "codemirror_mode": {
    "name": "ipython",
    "version": 3
   },
   "file_extension": ".py",
   "mimetype": "text/x-python",
   "name": "python",
   "nbconvert_exporter": "python",
   "pygments_lexer": "ipython3",
   "version": "3.8.5"
  }
 },
 "nbformat": 4,
 "nbformat_minor": 4
}
