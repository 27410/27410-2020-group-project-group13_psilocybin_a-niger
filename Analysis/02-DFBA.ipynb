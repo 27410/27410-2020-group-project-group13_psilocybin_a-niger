{
 "cells": [
  {
   "cell_type": "markdown",
   "metadata": {},
   "source": [
    "## Dynamic flux based analysis\n"
   ]
  },
  {
   "cell_type": "markdown",
   "metadata": {},
   "source": [
    "dFBA is used to simulate the fermenation processes using our strain.\n",
    "\n",
    "Here we try to maximize psilocybin production, and visualize the psilocybin production over time, with glucose as the carbon source."
   ]
  },
  {
   "cell_type": "markdown",
   "metadata": {},
   "source": [
    "#### Introductory stuff - import of various libraries needed for DFBA and the model"
   ]
  },
  {
   "cell_type": "code",
   "execution_count": 1,
   "metadata": {},
   "outputs": [
    {
     "name": "stderr",
     "output_type": "stream",
     "text": [
      "'' is not a valid SBML 'SId'.\n"
     ]
    },
    {
     "name": "stdout",
     "output_type": "stream",
     "text": [
      "Maximum theoretical biomass productivity: 0.9398547241492574 mmol-biomass mmol-glc^-1\n",
      "Maximum theoretical productivity of psilocybin_synthase reaction: 3.13958086200079 mmol-psi mmol-glc^-1\n",
      "Maximum theoretical biomass productivity: 14.928778362120335 mmol-biomass mmol-glc^-1\n",
      "Maximum theoretical productivity of psilocybin_synthase reaction: 55.59495850947237 mmol-psi mmol-glc^-1\n",
      "0.0\n",
      "53.88680131517143\n",
      "0.0\n",
      "55.59495850947234\n",
      "0.0\n",
      "53.730233286362896\n",
      "0.0\n",
      "54.662595897917605\n",
      "0.0\n",
      "51.86550806325348\n",
      "0.0\n",
      "53.65429779239081\n",
      "0.0\n",
      "53.73023328636294\n",
      "0.0\n",
      "53.419445749177974\n"
     ]
    }
   ],
   "source": [
    "%run Medium_significance.ipynb\n",
    "\n",
    "from dfba import DfbaModel, ExchangeFlux, KineticVariable\n",
    "from dfba.plot.matplotlib import *"
   ]
  },
  {
   "cell_type": "markdown",
   "metadata": {},
   "source": [
    "Defining the model objective to optimize the psilosybin synthase along with optimization of the model "
   ]
  },
  {
   "cell_type": "code",
   "execution_count": 2,
   "metadata": {},
   "outputs": [],
   "source": [
    "model.objective = model.reactions.psiM\n",
    "model.optimize();"
   ]
  },
  {
   "cell_type": "markdown",
   "metadata": {},
   "source": [
    "### DFBA starts here"
   ]
  },
  {
   "cell_type": "markdown",
   "metadata": {},
   "source": [
    "The solver is set to glpk"
   ]
  },
  {
   "cell_type": "code",
   "execution_count": 3,
   "metadata": {},
   "outputs": [],
   "source": [
    "model.solver = \"glpk\"\n",
    "dfba_model = DfbaModel(model)"
   ]
  },
  {
   "cell_type": "markdown",
   "metadata": {},
   "source": [
    "The apparent important metabolites for psilosybin production are added to the model as kinetic variables."
   ]
  },
  {
   "cell_type": "code",
   "execution_count": 4,
   "metadata": {},
   "outputs": [],
   "source": [
    "X = KineticVariable(\"Biomass\")\n",
    "Glc = KineticVariable(\"Glucose\")\n",
    "Psi = KineticVariable(\"Psilocybin\")\n",
    "Oxy = KineticVariable(\"Oxygen\")\n",
    "\n",
    "dfba_model.add_kinetic_variables([X, Glc, Psi, Oxy])"
   ]
  },
  {
   "cell_type": "markdown",
   "metadata": {},
   "source": [
    "Adding the exchange fluxes to appear the model using the reaction ID's"
   ]
  },
  {
   "cell_type": "code",
   "execution_count": 5,
   "metadata": {},
   "outputs": [],
   "source": [
    "mu = ExchangeFlux(\"DRAIN_Biomass\")\n",
    "v_G = ExchangeFlux(\"BOUNDARY_GLCe\")\n",
    "v_Psi = ExchangeFlux(\"psiM\")\n",
    "v_O = ExchangeFlux(\"BOUNDARY_O2e\")\n",
    "\n",
    "dfba_model.add_exchange_fluxes([mu, v_G, v_Psi, v_O])"
   ]
  },
  {
   "cell_type": "markdown",
   "metadata": {},
   "source": [
    "Adding the right hand expressions for calculating the time derivative of each kinetic variable."
   ]
  },
  {
   "cell_type": "code",
   "execution_count": 6,
   "metadata": {},
   "outputs": [],
   "source": [
    "dfba_model.add_rhs_expression(\"Biomass\", mu * X)\n",
    "dfba_model.add_rhs_expression(\"Glucose\", v_G * 180.1559/1000 * X)\n",
    "dfba_model.add_rhs_expression(\"Psilocybin\", v_Psi * 284.25/1000.0 * X)\n",
    "dfba_model.add_rhs_expression(\"Oxygen\", 0) # O2 is kept constant"
   ]
  },
  {
   "cell_type": "markdown",
   "metadata": {},
   "source": [
    "Adding expressions for calculating lower/upper bounds of the selected exchange fluxes. "
   ]
  },
  {
   "cell_type": "code",
   "execution_count": 7,
   "metadata": {},
   "outputs": [],
   "source": [
    "dfba_model.add_exchange_flux_lb(\"BOUNDARY_GLCe\", 2.5 * (Glc / (0.0027 + Glc)), Glc)\n",
    "dfba_model.add_exchange_flux_lb(\"BOUNDARY_O2e\", 15.0 * (Oxy / (0.024 + Oxy)), Oxy)\n",
    "dfba_model.add_exchange_flux_lb(\"psiM\", 3.14 * (Psi / (0.01 + Psi)), Psi)       #Guesstimates"
   ]
  },
  {
   "cell_type": "markdown",
   "metadata": {},
   "source": [
    "Adding initial conditions. Biomass is set high and kept constant, as psilocyibin is set as the objective -> all glucose will be used for converstion to psilocybin."
   ]
  },
  {
   "cell_type": "code",
   "execution_count": null,
   "metadata": {},
   "outputs": [],
   "source": [
    "dfba_model.add_initial_conditions(\n",
    "    {\n",
    "        \"Biomass\": 1,         # (gDW/L)\n",
    "        \"Glucose\": 20.0,      # (g/L)\n",
    "        \"Psilocybin\": 0.0,    # (g/L)\n",
    "        \"Oxygen\": 39          # (mmol/L)\n",
    "    }\n",
    ")\n",
    "concentrations, trajectories = dfba_model.simulate(0.0, 75.0, 0.5, [\"BOUNDARY_GLCe\", \"psiM\"])"
   ]
  },
  {
   "cell_type": "markdown",
   "metadata": {},
   "source": [
    "Plotting the concentrations and tradjectories."
   ]
  },
  {
   "cell_type": "code",
   "execution_count": null,
   "metadata": {},
   "outputs": [],
   "source": [
    "plot_concentrations(concentrations)"
   ]
  },
  {
   "cell_type": "code",
   "execution_count": null,
   "metadata": {},
   "outputs": [],
   "source": [
    "plot_trajectories(trajectories)"
   ]
  },
  {
   "cell_type": "markdown",
   "metadata": {},
   "source": [
    "As the reader may notice, the above plots doesn't give the full picture as trp, the precurser to psilocybin, is not in the picture. Therefore, new caluclations will be performed adding trp to the model."
   ]
  },
  {
   "cell_type": "code",
   "execution_count": null,
   "metadata": {},
   "outputs": [],
   "source": [
    "Trp = KineticVariable(\"Tryptophan\")\n",
    "dfba_model.add_kinetic_variables([Trp])\n",
    "\n",
    "v_Trp = ExchangeFlux(\"r385\")\n",
    "dfba_model.add_exchange_fluxes([v_Trp])\n",
    "\n",
    "dfba_model.add_rhs_expression(\"Tryptophan\", v_Trp * 204.22/1000.0 * X)\n",
    "\n",
    "dfba_model.add_exchange_flux_lb(\"r385\", 0.7 * (Trp / (0.3 + Trp)), Trp)"
   ]
  },
  {
   "cell_type": "markdown",
   "metadata": {},
   "source": [
    "Setting the initial conditions while including trp"
   ]
  },
  {
   "cell_type": "code",
   "execution_count": null,
   "metadata": {},
   "outputs": [],
   "source": [
    "dfba_model.add_initial_conditions(\n",
    "    {\n",
    "        \"Biomass\": 1,         # (gDW/L)\n",
    "        \"Tryptophan\": 0.1,    # (g/L)\n",
    "        \"Glucose\": 20.0,      # (g/L)\n",
    "        \"Psilocybin\": 0.0,    # (g/L)\n",
    "        \"Oxygen\": 39          # (mmol/L)\n",
    "    }\n",
    ")\n",
    "concentrations, trajectories = dfba_model.simulate(0.0, 100.0, 0.5, [\"BOUNDARY_GLCe\", \"r385\", \"psiM\"])"
   ]
  },
  {
   "cell_type": "code",
   "execution_count": null,
   "metadata": {},
   "outputs": [],
   "source": [
    "plot_concentrations(concentrations)"
   ]
  },
  {
   "cell_type": "markdown",
   "metadata": {},
   "source": [
    "As seen from the plot, no trp is converted to psilocybin. Therefore, we tried to increase the simulation time and the glucose concentration, to see how, this would affect the simulation."
   ]
  },
  {
   "cell_type": "code",
   "execution_count": null,
   "metadata": {},
   "outputs": [],
   "source": [
    "dfba_model.add_initial_conditions(\n",
    "    {\n",
    "        \"Biomass\": 1,         # (gDW/L)\n",
    "        \"Tryptophan\": 0.1,    # (g/L)\n",
    "        \"Glucose\": 200.0,     # (g/L)\n",
    "        \"Psilocybin\": 0.0,    # (g/L)\n",
    "        \"Oxygen\": 39          # (mmol/L)\n",
    "    }\n",
    ")\n",
    "concentrations, trajectories = dfba_model.simulate(0.0, 1000.0, 0.5, [\"BOUNDARY_GLCe\", \"r385\", \"psiM\"])"
   ]
  },
  {
   "cell_type": "code",
   "execution_count": null,
   "metadata": {},
   "outputs": [],
   "source": [
    "plot_concentrations(concentrations)"
   ]
  },
  {
   "cell_type": "markdown",
   "metadata": {},
   "source": [
    "As nothing was changed, except the glucosce concentration and runtime, no changes was expected in the plot. However, to try and fix this, we set the lower bounds of psiM to be high and therefore, try to push the flux towards psilocybin production."
   ]
  },
  {
   "cell_type": "code",
   "execution_count": null,
   "metadata": {},
   "outputs": [],
   "source": [
    "model.reactions.psiM.lower_bounds = 100\n",
    "model.optimize();"
   ]
  },
  {
   "cell_type": "code",
   "execution_count": null,
   "metadata": {},
   "outputs": [],
   "source": [
    "dfba_model.add_initial_conditions(\n",
    "    {\n",
    "        \"Biomass\": 1,         # (gDW/L)\n",
    "        \"Tryptophan\": 0.1,    # (g/L)\n",
    "        \"Glucose\": 20.0,      # (g/L)\n",
    "        \"Psilocybin\": 0.0,    # (g/L)\n",
    "        \"Oxygen\": 39          # (mmol/L)\n",
    "    }\n",
    ")\n",
    "concentrations, trajectories = dfba_model.simulate(0.0, 200.0, 0.5, [\"BOUNDARY_GLCe\", \"r385\", \"psiM\"])"
   ]
  },
  {
   "cell_type": "code",
   "execution_count": null,
   "metadata": {},
   "outputs": [],
   "source": [
    "plot_concentrations(concentrations)"
   ]
  },
  {
   "cell_type": "markdown",
   "metadata": {},
   "source": [
    "As seen from the plot above no psilocybin is produced. This may be because reaction flux is not forced through the psilocybin pathway."
   ]
  }
 ],
 "metadata": {
  "kernelspec": {
   "display_name": "Python 3",
   "language": "python",
   "name": "python3"
  },
  "language_info": {
   "codemirror_mode": {
    "name": "ipython",
    "version": 3
   },
   "file_extension": ".py",
   "mimetype": "text/x-python",
   "name": "python",
   "nbconvert_exporter": "python",
   "pygments_lexer": "ipython3",
   "version": "3.8.5"
  }
 },
 "nbformat": 4,
 "nbformat_minor": 4
}
