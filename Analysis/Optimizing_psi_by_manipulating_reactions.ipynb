{
 "cells": [
  {
   "cell_type": "code",
   "execution_count": 1,
   "metadata": {},
   "outputs": [
    {
     "name": "stderr",
     "output_type": "stream",
     "text": [
      "'' is not a valid SBML 'SId'.\n"
     ]
    }
   ],
   "source": [
    "%run 01-model.ipynb"
   ]
  },
  {
   "cell_type": "code",
   "execution_count": null,
   "metadata": {},
   "outputs": [],
   "source": [
    "model.metabolites.TRP"
   ]
  },
  {
   "cell_type": "code",
   "execution_count": null,
   "metadata": {},
   "outputs": [],
   "source": [
    "print(model.reactions.r1080)\n",
    "print(model.reactions.psiD)\n",
    "print(model.reactions.psiD)\n",
    "print(model.reactions.r1266)\n",
    "print(model.reactions.r1265)\n",
    "print(model.reactions.r3008)\n",
    "print(model.reactions.r2402)\n",
    "print(model.reactions.r385)\n",
    "print(model.reactions.r400)"
   ]
  },
  {
   "cell_type": "code",
   "execution_count": null,
   "metadata": {},
   "outputs": [],
   "source": [
    "model.metabolites.get_by_id('T3P1')"
   ]
  },
  {
   "cell_type": "code",
   "execution_count": null,
   "metadata": {},
   "outputs": [],
   "source": [
    "model.metabolites.get_by_id('FKYN')"
   ]
  },
  {
   "cell_type": "code",
   "execution_count": null,
   "metadata": {},
   "outputs": [],
   "source": [
    "model.metabolites.get_by_id('GAMYLe')"
   ]
  },
  {
   "cell_type": "code",
   "execution_count": null,
   "metadata": {},
   "outputs": [],
   "source": [
    "model.metabolites.get_by_id('PI')"
   ]
  },
  {
   "cell_type": "code",
   "execution_count": null,
   "metadata": {},
   "outputs": [],
   "source": [
    "model.metabolites.get_by_id('AAMYLe')"
   ]
  },
  {
   "cell_type": "code",
   "execution_count": null,
   "metadata": {},
   "outputs": [],
   "source": [
    "model.metabolites.get_by_id('AATRNA_TRP')"
   ]
  },
  {
   "cell_type": "code",
   "execution_count": null,
   "metadata": {},
   "outputs": [],
   "source": [
    "model.metabolites.get_by_id('FKYN')"
   ]
  },
  {
   "cell_type": "code",
   "execution_count": null,
   "metadata": {},
   "outputs": [],
   "source": [
    "model.metabolites.get_by_id('PPI')"
   ]
  },
  {
   "cell_type": "code",
   "execution_count": null,
   "metadata": {},
   "outputs": [],
   "source": [
    "TRP_participation = A_x[model.metabolites.index('TRP'),model.metabolites.index('TRP')]"
   ]
  },
  {
   "cell_type": "code",
   "execution_count": null,
   "metadata": {},
   "outputs": [],
   "source": [
    "TRP_participation"
   ]
  },
  {
   "cell_type": "code",
   "execution_count": null,
   "metadata": {},
   "outputs": [],
   "source": [
    "S_psi_pathway = np.array([[ 1.  , -1.  ,  -1.  ,  0. ,  0.  ,  0.  ,  0.  ],\n",
    "                          [ 0.  ,  1.  ,   0.  , -1. ,  0.  ,  0.  ,  0.  ],\n",
    "                          [ 0.  ,  0.  ,   0.  ,  0. ,  1.  , -1.  ,  0.  ],\n",
    "                          [ 0.  ,  0.  ,   0.  ,  0. ,  0.  ,  1.  , -1.  ]])"
   ]
  },
  {
   "cell_type": "markdown",
   "metadata": {},
   "source": [
    "TRY CHANGING BOUNDS OF REACTIONS TO PUSH TOWARDS PSILOCYBIN PRODUCTION\n",
    "START WITH TRP PATHWAYS"
   ]
  },
  {
   "cell_type": "code",
   "execution_count": null,
   "metadata": {},
   "outputs": [],
   "source": [
    "model.reactions.r1266"
   ]
  },
  {
   "cell_type": "code",
   "execution_count": null,
   "metadata": {},
   "outputs": [],
   "source": []
  },
  {
   "cell_type": "code",
   "execution_count": null,
   "metadata": {},
   "outputs": [],
   "source": []
  },
  {
   "cell_type": "code",
   "execution_count": null,
   "metadata": {},
   "outputs": [],
   "source": [
    "model.objective = model.reactions.r385\n",
    "print(model.optimize().fluxes[\"r385\"])"
   ]
  },
  {
   "cell_type": "code",
   "execution_count": null,
   "metadata": {},
   "outputs": [],
   "source": [
    "with model:\n",
    "    model.reactions.r1266.bounds = 0, 0\n",
    "    model.objective = model.reactions.psiM\n",
    "    max = model.optimize().fluxes[\"psiM\"]\n",
    "    print(max)"
   ]
  },
  {
   "cell_type": "code",
   "execution_count": null,
   "metadata": {},
   "outputs": [],
   "source": [
    "with model:\n",
    "    model.reactions.r1265.bounds = 0, 0\n",
    "    model.objective = model.reactions.r385\n",
    "    max = model.optimize().fluxes[\"r385\"]\n",
    "    print(max)"
   ]
  },
  {
   "cell_type": "code",
   "execution_count": null,
   "metadata": {},
   "outputs": [],
   "source": [
    "with model:\n",
    "    model.reactions.r3008.bounds = 0, 0\n",
    "    model.objective = model.reactions.r385\n",
    "    max = model.optimize().fluxes[\"r385\"]\n",
    "    print(max)"
   ]
  },
  {
   "cell_type": "code",
   "execution_count": null,
   "metadata": {},
   "outputs": [],
   "source": [
    "with model:\n",
    "    model.reactions.r2402.bounds = 0, 0\n",
    "    model.objective = model.reactions.r385\n",
    "    max = model.optimize().fluxes[\"r385\"]\n",
    "    print(max)"
   ]
  },
  {
   "cell_type": "code",
   "execution_count": null,
   "metadata": {},
   "outputs": [],
   "source": [
    "with model:\n",
    "    model.reactions.r400.bounds = 0, 1000\n",
    "    model.objective = model.reactions.psiM\n",
    "    max = model.optimize().fluxes[\"psiM\"]\n",
    "    print(max)"
   ]
  },
  {
   "cell_type": "code",
   "execution_count": null,
   "metadata": {},
   "outputs": [],
   "source": [
    "model.metabolites.CHOR"
   ]
  },
  {
   "cell_type": "code",
   "execution_count": null,
   "metadata": {},
   "outputs": [],
   "source": [
    "with model:\n",
    "    model.reactions.r381.bounds = 0, 0\n",
    "    model.objective = model.reactions.r385\n",
    "    max = model.optimize().fluxes[\"r385\"]\n",
    "    print(max)"
   ]
  },
  {
   "cell_type": "code",
   "execution_count": null,
   "metadata": {},
   "outputs": [],
   "source": [
    "with model:\n",
    "    model.reactions.r82.bounds = 0, 0\n",
    "    model.objective = model.reactions.r385\n",
    "    max = model.optimize().fluxes[\"r385\"]\n",
    "    print(max)"
   ]
  },
  {
   "cell_type": "code",
   "execution_count": null,
   "metadata": {},
   "outputs": [],
   "source": [
    "with model:\n",
    "    model.reactions.r375.bounds = 0, 0\n",
    "    model.objective = model.reactions.r385\n",
    "    max = model.optimize().fluxes[\"r385\"]\n",
    "    print(max)"
   ]
  },
  {
   "cell_type": "code",
   "execution_count": null,
   "metadata": {},
   "outputs": [],
   "source": [
    "with model:\n",
    "    model.reactions.r376.bounds = 0, 0\n",
    "    model.objective = model.reactions.r385\n",
    "    max = model.optimize().fluxes[\"r385\"]\n",
    "    print(max)"
   ]
  },
  {
   "cell_type": "code",
   "execution_count": null,
   "metadata": {},
   "outputs": [],
   "source": [
    "model.metabolites.name('Chorismate')"
   ]
  },
  {
   "cell_type": "code",
   "execution_count": null,
   "metadata": {},
   "outputs": [],
   "source": []
  },
  {
   "cell_type": "code",
   "execution_count": null,
   "metadata": {},
   "outputs": [],
   "source": []
  }
 ],
 "metadata": {
  "kernelspec": {
   "display_name": "python3.6",
   "language": "python",
   "name": "python3.6"
  },
  "language_info": {
   "codemirror_mode": {
    "name": "ipython",
    "version": 3
   },
   "file_extension": ".py",
   "mimetype": "text/x-python",
   "name": "python",
   "nbconvert_exporter": "python",
   "pygments_lexer": "ipython3",
   "version": "3.6.12"
  }
 },
 "nbformat": 4,
 "nbformat_minor": 4
}
