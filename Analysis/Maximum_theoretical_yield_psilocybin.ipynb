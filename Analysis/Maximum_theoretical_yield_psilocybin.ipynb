{
 "cells": [
  {
   "cell_type": "code",
   "execution_count": 3,
   "metadata": {},
   "outputs": [
    {
     "name": "stderr",
     "output_type": "stream",
     "text": [
      "'' is not a valid SBML 'SId'.\n"
     ]
    }
   ],
   "source": [
    "%run 01-model.ipynb"
   ]
  },
  {
   "cell_type": "markdown",
   "metadata": {},
   "source": [
    "#### Maximum theoretical yield in mmol/mmol"
   ]
  },
  {
   "cell_type": "code",
   "execution_count": 25,
   "metadata": {},
   "outputs": [
    {
     "name": "stdout",
     "output_type": "stream",
     "text": [
      "Maximum productivity =  3.1395808620007775 mmol gDW^-1 h^-1\n",
      "Maximum theoretical yield =  0.31395808620007776 mmol-psi mmol-glc^-1\n"
     ]
    }
   ],
   "source": [
    "with model:\n",
    "    model.objective = model.reactions.psiM\n",
    "    psi_production = model.optimize().objective_value\n",
    "    print('Maximum productivity = ', psi_production, 'mmol gDW^-1 h^-1')\n",
    "    \n",
    "    print('Maximum theoretical yield = ', psi_production / (-1*(model.reactions.BOUNDARY_GLCe.flux)), 'mmol-psi mmol-glc^-1')"
   ]
  },
  {
   "cell_type": "markdown",
   "metadata": {},
   "source": [
    "#### Maximum theoretical yield in cmol/cmol"
   ]
  },
  {
   "cell_type": "code",
   "execution_count": 1,
   "metadata": {},
   "outputs": [],
   "source": [
    "CV_psi = 12 # Cmol/mol conversion factor for psilocybin"
   ]
  },
  {
   "cell_type": "code",
   "execution_count": 2,
   "metadata": {},
   "outputs": [],
   "source": [
    "CV_glc = 6 # Cmol/mol conversion factor glucose"
   ]
  },
  {
   "cell_type": "code",
   "execution_count": 10,
   "metadata": {},
   "outputs": [
    {
     "name": "stdout",
     "output_type": "stream",
     "text": [
      "Maximum theoretical yield =  0.62 cmol-psi cmol-glc^-1\n"
     ]
    }
   ],
   "source": [
    "psi_production_cmol = (0.31*CV_psi)/(1*CV_glc)\n",
    "print('Maximum theoretical yield = ', psi_production_cmol, 'cmol-psi cmol-glc^-1')"
   ]
  }
 ],
 "metadata": {
  "kernelspec": {
   "display_name": "python3.6",
   "language": "python",
   "name": "python3.6"
  },
  "language_info": {
   "codemirror_mode": {
    "name": "ipython",
    "version": 3
   },
   "file_extension": ".py",
   "mimetype": "text/x-python",
   "name": "python",
   "nbconvert_exporter": "python",
   "pygments_lexer": "ipython3",
   "version": "3.6.12"
  }
 },
 "nbformat": 4,
 "nbformat_minor": 4
}
