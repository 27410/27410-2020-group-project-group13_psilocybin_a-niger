{
 "cells": [
  {
   "cell_type": "markdown",
   "metadata": {},
   "source": [
    "# Maximum theoretical yield of psilocybin production"
   ]
  },
  {
   "cell_type": "code",
   "execution_count": 1,
   "metadata": {},
   "outputs": [
    {
     "name": "stderr",
     "output_type": "stream",
     "text": [
      "'' is not a valid SBML 'SId'.\n"
     ]
    }
   ],
   "source": [
    "%run 01-model.ipynb"
   ]
  },
  {
   "cell_type": "markdown",
   "metadata": {},
   "source": [
    "### Maximum theoretical yield using default media\n",
    "#### In mmol/mmol:"
   ]
  },
  {
   "cell_type": "code",
   "execution_count": 2,
   "metadata": {},
   "outputs": [
    {
     "name": "stdout",
     "output_type": "stream",
     "text": [
      "Maximum productivity = 3.078712679333071 mmol gDW^-1 h^-1\n",
      "Maximum theoretical yield = 0.3078712679333071 mmol-psi mmol-glc^-1\n"
     ]
    }
   ],
   "source": [
    "model.objective = model.reactions.psiM\n",
    "psi_production = model.optimize().objective_value\n",
    "print('Maximum productivity =', psi_production, 'mmol gDW^-1 h^-1')\n",
    "   \n",
    "maximum_yield = psi_production / (-1*(model.reactions.BOUNDARY_GLCe.flux))\n",
    "print('Maximum theoretical yield =', maximum_yield, 'mmol-psi mmol-glc^-1')"
   ]
  },
  {
   "cell_type": "markdown",
   "metadata": {},
   "source": [
    "#### In cmol/cmol: "
   ]
  },
  {
   "cell_type": "code",
   "execution_count": 3,
   "metadata": {},
   "outputs": [],
   "source": [
    "CV_psi = 12 # Cmol/mol conversion factor for psilocybin"
   ]
  },
  {
   "cell_type": "code",
   "execution_count": 4,
   "metadata": {},
   "outputs": [],
   "source": [
    "CV_glc = 6 # Cmol/mol conversion factor for glucose"
   ]
  },
  {
   "cell_type": "code",
   "execution_count": 5,
   "metadata": {},
   "outputs": [
    {
     "name": "stdout",
     "output_type": "stream",
     "text": [
      "Maximum theoretical yield = 0.6157425358666142 cmol-psi cmol-glc^-1\n"
     ]
    }
   ],
   "source": [
    "psi_production_cmol = (maximum_yield*CV_psi)/(1*CV_glc)\n",
    "print('Maximum theoretical yield =', psi_production_cmol, 'cmol-psi cmol-glc^-1')"
   ]
  },
  {
   "cell_type": "markdown",
   "metadata": {},
   "source": [
    "### Maximum theoretical yield using YEPD media"
   ]
  },
  {
   "cell_type": "markdown",
   "metadata": {},
   "source": [
    "#### Creating the YEPD media:"
   ]
  },
  {
   "cell_type": "code",
   "execution_count": 6,
   "metadata": {},
   "outputs": [],
   "source": [
    "YEPDmedium = model.medium\n",
    "YEPDmedium['BOUNDARY_GLCe'] = 20\n",
    "YEPDmedium['BOUNDARY_ALAe'] = 10\n",
    "YEPDmedium['BOUNDARY_ARGe'] = 10\n",
    "YEPDmedium['BOUNDARY_ASPe'] = 10\n",
    "YEPDmedium['BOUNDARY_CYSe'] = 10\n",
    "YEPDmedium['BOUNDARY_GLUe'] = 10\n",
    "YEPDmedium['BOUNDARY_GLYe'] = 10\n",
    "YEPDmedium['BOUNDARY_HISe'] = 10\n",
    "YEPDmedium['BOUNDARY_ILEe'] = 10\n",
    "YEPDmedium['BOUNDARY_LEUe'] = 10\n",
    "YEPDmedium['BOUNDARY_LYSe'] = 10\n",
    "YEPDmedium['BOUNDARY_METe'] = 10\n",
    "YEPDmedium['BOUNDARY_PHEe'] = 10\n",
    "YEPDmedium['BOUNDARY_PROe'] = 10\n",
    "YEPDmedium['BOUNDARY_SERe'] = 10\n",
    "YEPDmedium['BOUNDARY_THRe'] = 10\n",
    "YEPDmedium['BOUNDARY_TRPe'] = 10\n",
    "YEPDmedium['BOUNDARY_TYRe'] = 10\n",
    "YEPDmedium['BOUNDARY_VALe'] = 10\n",
    "YEPDmedium['BOUNDARY_ZNe'] = 10\n",
    "YEPDmedium['BOUNDARY_FE2e'] = 10"
   ]
  },
  {
   "cell_type": "markdown",
   "metadata": {},
   "source": [
    "#### Setting the bounds of the exchange reactions in order to create the fluxes:"
   ]
  },
  {
   "cell_type": "code",
   "execution_count": 7,
   "metadata": {},
   "outputs": [],
   "source": [
    "model.reactions.BOUNDARY_GLCe.bounds = -20, 1000\n",
    "model.reactions.BOUNDARY_ALAe.bounds = -10, 0\n",
    "model.reactions.BOUNDARY_ARGe.bounds = -10, 0\n",
    "model.reactions.BOUNDARY_ASPe.bounds = -10, 0\n",
    "model.reactions.BOUNDARY_CYSe.bounds = -10, 0\n",
    "model.reactions.BOUNDARY_GLUe.bounds = -10, 0\n",
    "model.reactions.BOUNDARY_GLYe.bounds = -10, 0\n",
    "model.reactions.BOUNDARY_HISe.bounds = -10, 0\n",
    "model.reactions.BOUNDARY_ILEe.bounds = -10, 0\n",
    "model.reactions.BOUNDARY_LEUe.bounds = -10, 0\n",
    "model.reactions.BOUNDARY_LYSe.bounds = -10, 0\n",
    "model.reactions.BOUNDARY_METe.bounds = -10, 0\n",
    "model.reactions.BOUNDARY_PHEe.bounds = -10, 0\n",
    "model.reactions.BOUNDARY_PROe.bounds = -10, 0\n",
    "model.reactions.BOUNDARY_SERe.bounds = -10, 0\n",
    "model.reactions.BOUNDARY_THRe.bounds = -10, 0\n",
    "model.reactions.BOUNDARY_TRPe.bounds = -10, 0\n",
    "model.reactions.BOUNDARY_TYRe.bounds = -10, 0\n",
    "model.reactions.BOUNDARY_VALe.bounds = -10, 0"
   ]
  },
  {
   "cell_type": "code",
   "execution_count": 8,
   "metadata": {},
   "outputs": [
    {
     "data": {
      "text/html": [
       "<strong><em>Optimal</em> solution with objective value 53.867</strong><br><div>\n",
       "<style scoped>\n",
       "    .dataframe tbody tr th:only-of-type {\n",
       "        vertical-align: middle;\n",
       "    }\n",
       "\n",
       "    .dataframe tbody tr th {\n",
       "        vertical-align: top;\n",
       "    }\n",
       "\n",
       "    .dataframe thead th {\n",
       "        text-align: right;\n",
       "    }\n",
       "</style>\n",
       "<table border=\"1\" class=\"dataframe\">\n",
       "  <thead>\n",
       "    <tr style=\"text-align: right;\">\n",
       "      <th></th>\n",
       "      <th>fluxes</th>\n",
       "      <th>reduced_costs</th>\n",
       "    </tr>\n",
       "  </thead>\n",
       "  <tbody>\n",
       "    <tr>\n",
       "      <th>NE1</th>\n",
       "      <td>0.000000</td>\n",
       "      <td>2.775558e-17</td>\n",
       "    </tr>\n",
       "    <tr>\n",
       "      <th>NE2</th>\n",
       "      <td>0.000000</td>\n",
       "      <td>5.551115e-17</td>\n",
       "    </tr>\n",
       "    <tr>\n",
       "      <th>r1</th>\n",
       "      <td>0.000000</td>\n",
       "      <td>0.000000e+00</td>\n",
       "    </tr>\n",
       "    <tr>\n",
       "      <th>r2</th>\n",
       "      <td>0.000000</td>\n",
       "      <td>0.000000e+00</td>\n",
       "    </tr>\n",
       "    <tr>\n",
       "      <th>r3</th>\n",
       "      <td>0.000000</td>\n",
       "      <td>0.000000e+00</td>\n",
       "    </tr>\n",
       "    <tr>\n",
       "      <th>...</th>\n",
       "      <td>...</td>\n",
       "      <td>...</td>\n",
       "    </tr>\n",
       "    <tr>\n",
       "      <th>DM_NBC</th>\n",
       "      <td>0.000000</td>\n",
       "      <td>-1.546581e+00</td>\n",
       "    </tr>\n",
       "    <tr>\n",
       "      <th>DM_psi</th>\n",
       "      <td>0.000000</td>\n",
       "      <td>0.000000e+00</td>\n",
       "    </tr>\n",
       "    <tr>\n",
       "      <th>DM_SAM</th>\n",
       "      <td>0.000000</td>\n",
       "      <td>-1.336087e+00</td>\n",
       "    </tr>\n",
       "    <tr>\n",
       "      <th>DM_SAH</th>\n",
       "      <td>0.000000</td>\n",
       "      <td>-1.109377e+00</td>\n",
       "    </tr>\n",
       "    <tr>\n",
       "      <th>DM_psii</th>\n",
       "      <td>53.867217</td>\n",
       "      <td>0.000000e+00</td>\n",
       "    </tr>\n",
       "  </tbody>\n",
       "</table>\n",
       "<p>2333 rows × 2 columns</p>\n",
       "</div>"
      ],
      "text/plain": [
       "<Solution 53.867 at 0x7efda46ad0b8>"
      ]
     },
     "execution_count": 8,
     "metadata": {},
     "output_type": "execute_result"
    }
   ],
   "source": [
    "model.optimize() \n",
    "# denne kommando optimiserer for biomass, hvis ikke jeg kører denne, så kan den ikke udregne fluxene af \n",
    "# exchangereaktionerne nedenfor\n"
   ]
  },
  {
   "cell_type": "markdown",
   "metadata": {},
   "source": [
    "#### Computing the summed carbon source fluxes: "
   ]
  },
  {
   "cell_type": "code",
   "execution_count": 9,
   "metadata": {},
   "outputs": [],
   "source": [
    "CSource_fluxes = [model.reactions.BOUNDARY_ALAe.flux,\n",
    "       model.reactions.BOUNDARY_ARGe.flux,\n",
    "       model.reactions.BOUNDARY_ASPe.flux,\n",
    "       model.reactions.BOUNDARY_CYSe.flux,\n",
    "       model.reactions.BOUNDARY_GLUe.flux,\n",
    "       model.reactions.BOUNDARY_GLYe.flux,\n",
    "       model.reactions.BOUNDARY_HISe.flux,\n",
    "       model.reactions.BOUNDARY_ILEe.flux,\n",
    "       model.reactions.BOUNDARY_LEUe.flux,\n",
    "       model.reactions.BOUNDARY_LYSe.flux,\n",
    "       model.reactions.BOUNDARY_METe.flux,\n",
    "       model.reactions.BOUNDARY_PHEe.flux,\n",
    "       model.reactions.BOUNDARY_PROe.flux,\n",
    "       model.reactions.BOUNDARY_SERe.flux,\n",
    "       model.reactions.BOUNDARY_THRe.flux,\n",
    "       model.reactions.BOUNDARY_TRPe.flux,\n",
    "       model.reactions.BOUNDARY_TYRe.flux,\n",
    "       model.reactions.BOUNDARY_VALe.flux,\n",
    "       model.reactions.BOUNDARY_GLCe.flux ]"
   ]
  },
  {
   "cell_type": "code",
   "execution_count": 10,
   "metadata": {},
   "outputs": [
    {
     "data": {
      "text/plain": [
       "-180.0"
      ]
     },
     "execution_count": 10,
     "metadata": {},
     "output_type": "execute_result"
    }
   ],
   "source": [
    "sum_CSource_fluxes = sum(CSource_fluxes)\n",
    "sum_CSource_fluxes"
   ]
  },
  {
   "cell_type": "markdown",
   "metadata": {},
   "source": [
    "#### Computing the maximum theoretical yield using YEPD media:"
   ]
  },
  {
   "cell_type": "code",
   "execution_count": 11,
   "metadata": {},
   "outputs": [
    {
     "name": "stdout",
     "output_type": "stream",
     "text": [
      "Maximum productivity = 53.867217378002124 mmol gDW^-1 h^-1\n",
      "Maximum theoretical yield = 0.29926231876667847 mmol-psi mmol-glc^-1\n"
     ]
    }
   ],
   "source": [
    "with model:\n",
    "    model.objective = model.reactions.psiM\n",
    "    psi_production = model.optimize().objective_value\n",
    "    print('Maximum productivity =', psi_production, 'mmol gDW^-1 h^-1')\n",
    "   \n",
    "    maximum_yield2 = psi_production / (-1*(sum_CSource_fluxes))\n",
    "    print('Maximum theoretical yield =', maximum_yield2, 'mmol-psi mmol-glc^-1')"
   ]
  }
 ],
 "metadata": {
  "kernelspec": {
   "display_name": "python3.6",
   "language": "python",
   "name": "python3.6"
  },
  "language_info": {
   "codemirror_mode": {
    "name": "ipython",
    "version": 3
   },
   "file_extension": ".py",
   "mimetype": "text/x-python",
   "name": "python",
   "nbconvert_exporter": "python",
   "pygments_lexer": "ipython3",
   "version": "3.6.12"
  }
 },
 "nbformat": 4,
 "nbformat_minor": 4
}
