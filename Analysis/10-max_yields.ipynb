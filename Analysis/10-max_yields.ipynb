{
 "cells": [
  {
   "cell_type": "markdown",
   "metadata": {},
   "source": [
    "# Maximum yields"
   ]
  },
  {
   "cell_type": "markdown",
   "metadata": {},
   "source": [
    "Here we aim to calculate the maxiumum theoretical yields achieved using this model and the setup.\n",
    "\n",
    "First the model is loaded."
   ]
  },
  {
   "cell_type": "code",
   "execution_count": 3,
   "metadata": {},
   "outputs": [
    {
     "name": "stderr",
     "output_type": "stream",
     "text": [
      "'' is not a valid SBML 'SId'.\n"
     ]
    }
   ],
   "source": [
    "%run 01-model.ipynb"
   ]
  },
  {
   "cell_type": "markdown",
   "metadata": {},
   "source": [
    "Then the theoretical maximum yield of the metabolites from the added reactions are calculated.\n",
    "\n",
    "Starting with L_tryptophan decarboxylase (psiD)"
   ]
  },
  {
   "cell_type": "code",
   "execution_count": 14,
   "metadata": {},
   "outputs": [
    {
     "name": "stdout",
     "output_type": "stream",
     "text": [
      "38.70967741935482 %\n"
     ]
    }
   ],
   "source": [
    "with model:\n",
    "    model.objective = model.reactions.psiD\n",
    "    max_1 = model.optimize().objective_value\n",
    "    \n",
    "print(str((max_1/10)*100) + \" %\")"
   ]
  },
  {
   "cell_type": "markdown",
   "metadata": {},
   "source": [
    "Making it for tryptamine 4_monooxygenase (psiM)"
   ]
  },
  {
   "cell_type": "code",
   "execution_count": 16,
   "metadata": {},
   "outputs": [
    {
     "name": "stdout",
     "output_type": "stream",
     "text": [
      "31.395808620007926 %\n"
     ]
    }
   ],
   "source": [
    "with model:\n",
    "    model.objective = model.reactions.psiM\n",
    "    max_2 = model.optimize().objective_value\n",
    "    \n",
    "print(str((max_2/10)*100) + \" %\")"
   ]
  },
  {
   "cell_type": "markdown",
   "metadata": {},
   "source": [
    "Making it for 4-hydroxytryptamine kinase (psiK)"
   ]
  },
  {
   "cell_type": "code",
   "execution_count": 17,
   "metadata": {},
   "outputs": [
    {
     "name": "stdout",
     "output_type": "stream",
     "text": [
      "35.294117647058826 %\n"
     ]
    }
   ],
   "source": [
    "with model:\n",
    "    model.objective = model.reactions.psiK\n",
    "    max_3 = model.optimize().objective_value\n",
    "    \n",
    "print(str((max_3/10)*100) + \" %\")"
   ]
  },
  {
   "cell_type": "markdown",
   "metadata": {},
   "source": [
    "Making it for psilocybin synthase (psiM)"
   ]
  },
  {
   "cell_type": "code",
   "execution_count": 18,
   "metadata": {},
   "outputs": [
    {
     "name": "stdout",
     "output_type": "stream",
     "text": [
      "31.39580862000787 %\n"
     ]
    }
   ],
   "source": [
    "with model:\n",
    "    model.objective = model.reactions.psiM\n",
    "    max_4 = model.optimize().objective_value\n",
    "    \n",
    "print(str((max_4/10)*100) + \" %\")"
   ]
  }
 ],
 "metadata": {
  "kernelspec": {
   "display_name": "Python 3",
   "language": "python",
   "name": "python3"
  },
  "language_info": {
   "codemirror_mode": {
    "name": "ipython",
    "version": 3
   },
   "file_extension": ".py",
   "mimetype": "text/x-python",
   "name": "python",
   "nbconvert_exporter": "python",
   "pygments_lexer": "ipython3",
   "version": "3.8.5"
  }
 },
 "nbformat": 4,
 "nbformat_minor": 4
}
