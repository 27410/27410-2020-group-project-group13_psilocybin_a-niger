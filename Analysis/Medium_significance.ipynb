{
 "cells": [
  {
   "cell_type": "code",
   "execution_count": 2,
   "metadata": {},
   "outputs": [],
   "source": [
    "from cobra.io import read_sbml_model\n",
    "from cobra import Reaction, Metabolite\n",
    "\n",
    "%run 01-model.ipynb"
   ]
  },
  {
   "cell_type": "code",
   "execution_count": null,
   "metadata": {},
   "outputs": [],
   "source": []
  },
  {
   "cell_type": "code",
   "execution_count": 200,
   "metadata": {},
   "outputs": [],
   "source": [
    "tryptamine = Metabolite(id = 'TRYP', compartment='c', name='tryptamine', formula='C10H12N2')"
   ]
  },
  {
   "cell_type": "code",
   "execution_count": 201,
   "metadata": {},
   "outputs": [],
   "source": [
    "hydroxytryptamine = Metabolite(id='_4HTRYP', compartment='c', name='_4hydroxytryptamine', formula='C10H12N2O') "
   ]
  },
  {
   "cell_type": "code",
   "execution_count": 202,
   "metadata": {},
   "outputs": [],
   "source": [
    "norbaeocystin = Metabolite(id='NBC' , compartment='c', name='norbaeocystin', formula='C10H13N2O4P') "
   ]
  },
  {
   "cell_type": "code",
   "execution_count": 203,
   "metadata": {},
   "outputs": [],
   "source": [
    "psilocybin = Metabolite(id='psi', compartment='c', name='psilocybin', formula='C12H17N2O4P')"
   ]
  },
  {
   "cell_type": "code",
   "execution_count": 204,
   "metadata": {},
   "outputs": [],
   "source": [
    "S_adenosyl_L_methionine = Metabolite(id='SAM', compartment='c', name='S-adenosyl-L-Methionine', formula='C15H22N6O5S')"
   ]
  },
  {
   "cell_type": "code",
   "execution_count": 205,
   "metadata": {},
   "outputs": [],
   "source": [
    "S_adenosyl_L_homocysteine = Metabolite(id='SAH', compartment='c', name='S-adenosyl-L-homocysteine', formula='C14H20N6O5S' )"
   ]
  },
  {
   "cell_type": "code",
   "execution_count": 206,
   "metadata": {},
   "outputs": [],
   "source": [
    "reaction_1 = Reaction('PsiD')  "
   ]
  },
  {
   "cell_type": "code",
   "execution_count": 207,
   "metadata": {},
   "outputs": [],
   "source": [
    "reaction_2 = Reaction('PsiH')"
   ]
  },
  {
   "cell_type": "code",
   "execution_count": 208,
   "metadata": {},
   "outputs": [],
   "source": [
    "reaction_3 = Reaction('PsiK')"
   ]
  },
  {
   "cell_type": "code",
   "execution_count": 209,
   "metadata": {},
   "outputs": [],
   "source": [
    "reaction_4 = Reaction('PsiM')"
   ]
  },
  {
   "cell_type": "code",
   "execution_count": 210,
   "metadata": {},
   "outputs": [],
   "source": [
    "reaction_1.add_metabolites(({model.metabolites.TRP: -1,  \n",
    "                              tryptamine: 1, \n",
    "                              model.metabolites.CO2: 1, \n",
    "                            }))"
   ]
  },
  {
   "cell_type": "code",
   "execution_count": 211,
   "metadata": {},
   "outputs": [],
   "source": [
    "reaction_2.add_metabolites({tryptamine: -1,\n",
    "                              model.metabolites.O2: -1,\n",
    "                              model.metabolites.H: -2, \n",
    "                              hydroxytryptamine: 1, \n",
    "                              model.metabolites.H2O: 1\n",
    "                             })"
   ]
  },
  {
   "cell_type": "code",
   "execution_count": 212,
   "metadata": {},
   "outputs": [],
   "source": [
    "reaction_3.add_metabolites({hydroxytryptamine: -1,\n",
    "                              model.metabolites.ATP: -1,\n",
    "                              norbaeocystin: 1, \n",
    "                              model.metabolites.ADP: 1, # our newly created metabolites\n",
    "                              model.metabolites.H: 1\n",
    "                             })"
   ]
  },
  {
   "cell_type": "code",
   "execution_count": 213,
   "metadata": {},
   "outputs": [],
   "source": [
    "reaction_4.add_metabolites(({norbaeocystin: -1,\n",
    "                             S_adenosyl_L_methionine: -2, \n",
    "                             psilocybin: 1, \n",
    "                             S_adenosyl_L_homocysteine: 2,\n",
    "                             model.metabolites.H: 2\n",
    "                             }))"
   ]
  },
  {
   "cell_type": "code",
   "execution_count": 214,
   "metadata": {},
   "outputs": [],
   "source": [
    "model.add_reactions([reaction_1])\n",
    "model.add_reactions([reaction_2])\n",
    "model.add_reactions([reaction_3])\n",
    "model.add_reactions([reaction_4])"
   ]
  },
  {
   "cell_type": "code",
   "execution_count": 215,
   "metadata": {},
   "outputs": [
    {
     "name": "stdout",
     "output_type": "stream",
     "text": [
      "TRP --> CO2 + TRYP\n",
      "2 H + O2 + TRYP --> H2O + _4HTRYP\n",
      "ATP + _4HTRYP --> ADP + H + NBC\n",
      "NBC + 2 SAM --> 2 H + 2 SAH + psi\n"
     ]
    }
   ],
   "source": [
    "print(reaction_1.build_reaction_string())\n",
    "print(reaction_2.build_reaction_string())\n",
    "print(reaction_3.build_reaction_string())\n",
    "print(reaction_4.build_reaction_string())"
   ]
  },
  {
   "cell_type": "code",
   "execution_count": 216,
   "metadata": {},
   "outputs": [
    {
     "data": {
      "text/html": [
       "\n",
       "        <table>\n",
       "            <tr>\n",
       "                <td><strong>Reaction identifier</strong></td><td>DM_SAH</td>\n",
       "            </tr><tr>\n",
       "                <td><strong>Name</strong></td><td>S-Adenosyl-L-homocysteine demand</td>\n",
       "            </tr><tr>\n",
       "                <td><strong>Memory address</strong></td>\n",
       "                <td>0x07f705c38d198</td>\n",
       "            </tr><tr>\n",
       "                <td><strong>Stoichiometry</strong></td>\n",
       "                <td>\n",
       "                    <p style='text-align:right'>SAH --> </p>\n",
       "                    <p style='text-align:right'>S-Adenosyl-L-homocysteine --> </p>\n",
       "                </td>\n",
       "            </tr><tr>\n",
       "                <td><strong>GPR</strong></td><td></td>\n",
       "            </tr><tr>\n",
       "                <td><strong>Lower bound</strong></td><td>0</td>\n",
       "            </tr><tr>\n",
       "                <td><strong>Upper bound</strong></td><td>1000.0</td>\n",
       "            </tr>\n",
       "        </table>\n",
       "        "
      ],
      "text/plain": [
       "<Reaction DM_SAH at 0x7f705c38d198>"
      ]
     },
     "execution_count": 216,
     "metadata": {},
     "output_type": "execute_result"
    }
   ],
   "source": [
    "model.add_boundary(model.metabolites.TRYP, type='demand')\n",
    "model.add_boundary(model.metabolites._4HTRYP, type='demand')\n",
    "model.add_boundary(model.metabolites.NBC, type='demand')\n",
    "model.add_boundary(model.metabolites.psi, type='demand')\n",
    "model.add_boundary(model.metabolites.SAM, type='demand')\n",
    "model.add_boundary(model.metabolites.SAH, type='demand')"
   ]
  },
  {
   "cell_type": "code",
   "execution_count": 220,
   "metadata": {},
   "outputs": [
    {
     "data": {
      "text/plain": [
       "3.139580862000786"
      ]
     },
     "execution_count": 220,
     "metadata": {},
     "output_type": "execute_result"
    }
   ],
   "source": [
    "with model:\n",
    "    model.objective = model.reactions.PsiM\n",
    "    max_4 = model.optimize().objective_value\n",
    "    \n",
    "max_4"
   ]
  },
  {
   "cell_type": "markdown",
   "metadata": {},
   "source": [
    "### Changing the carbon source: "
   ]
  },
  {
   "cell_type": "markdown",
   "metadata": {},
   "source": [
    "Kan prøve at lave med LB, men så skal jeg prøve at \n",
    "\n",
    "Kan også bare prøve at ændre carbon source og se hvad er så sker "
   ]
  },
  {
   "cell_type": "code",
   "execution_count": 164,
   "metadata": {},
   "outputs": [
    {
     "data": {
      "text/plain": [
       "{'BOUNDARY_GLCe': 10.0,\n",
       " 'BOUNDARY_H2Oe': 1000.0,\n",
       " 'BOUNDARY_HNO3e': 1000.0,\n",
       " 'BOUNDARY_O2e': 1000.0,\n",
       " 'BOUNDARY_PIe': 1000.0,\n",
       " 'BOUNDARY_SLFe': 1000.0,\n",
       " 'BOUNDARY_Ke': 1000.0,\n",
       " 'BOUNDARY_CAe': 1000.0}"
      ]
     },
     "execution_count": 164,
     "metadata": {},
     "output_type": "execute_result"
    }
   ],
   "source": [
    "model.medium"
   ]
  },
  {
   "cell_type": "code",
   "execution_count": 224,
   "metadata": {},
   "outputs": [
    {
     "name": "stdout",
     "output_type": "stream",
     "text": [
      "0.5093838996124338\n",
      "0.0\n",
      "1.6216216216215553\n"
     ]
    }
   ],
   "source": [
    "medium = model.medium\n",
    "with model:\n",
    "    medium['BOUNDARY_GLCe'] = 0\n",
    "    medium['BOUNDARY_SUCCe'] = 10\n",
    "    model.medium = medium\n",
    "    solution2 = model.optimize()\n",
    "    print(solution2.fluxes['DRAIN_Biomass'])\n",
    "    \n",
    "    print(solution2.fluxes['PsiM']) # i would have like this to function but it doesnt\n",
    "    \n",
    "\n",
    "    model.objective = model.reactions.PsiM\n",
    "    psi_production2 = model.optimize().objective_value\n",
    "    print(psi_production2)"
   ]
  },
  {
   "cell_type": "markdown",
   "metadata": {},
   "source": [
    "Note for me: see below that the result does not change even thouhg i put in in a seperate \"with model\" code:"
   ]
  },
  {
   "cell_type": "code",
   "execution_count": 225,
   "metadata": {},
   "outputs": [
    {
     "name": "stdout",
     "output_type": "stream",
     "text": [
      "1.6216216216215553\n"
     ]
    }
   ],
   "source": [
    "medium = model.medium\n",
    "with model:\n",
    "    medium['BOUNDARY_GLCe'] = 0\n",
    "    medium['BOUNDARY_SUCCe'] = 10\n",
    "    model.medium = medium\n",
    "    model.objective = model.reactions.PsiM\n",
    "    psi_production2 = model.optimize().objective_value\n",
    "    print(psi_production2)"
   ]
  },
  {
   "cell_type": "code",
   "execution_count": 226,
   "metadata": {},
   "outputs": [
    {
     "name": "stdout",
     "output_type": "stream",
     "text": [
      "0.9398547241492703\n",
      "3.1395808620007815\n"
     ]
    }
   ],
   "source": [
    "medium = model.medium\n",
    "with model:\n",
    "    medium['BOUNDARY_GLCe'] = 0\n",
    "    medium['BOUNDARY_FRUe'] = 10\n",
    "    model.medium = medium\n",
    "    solution3 = model.optimize()\n",
    "    print(solution3.fluxes['DRAIN_Biomass'])\n",
    "    \n",
    "    model.medium = medium\n",
    "    model.objective = model.reactions.PsiM\n",
    "    psi_production3 = model.optimize().objective_value\n",
    "    print(psi_production3)"
   ]
  },
  {
   "cell_type": "code",
   "execution_count": 228,
   "metadata": {},
   "outputs": [
    {
     "name": "stdout",
     "output_type": "stream",
     "text": [
      "0.46992736207460967\n",
      "1.5697904310004\n"
     ]
    }
   ],
   "source": [
    "medium = model.medium\n",
    "with model:\n",
    "    medium['BOUNDARY_GLCe'] = 0\n",
    "    medium['BOUNDARY_FUMe'] = 10\n",
    "    model.medium = medium\n",
    "    solution4 = model.optimize()\n",
    "    print(solution4.fluxes['DRAIN_Biomass'])\n",
    "  \n",
    "    model.medium = medium\n",
    "    model.objective = model.reactions.PsiM\n",
    "    psi_production4 = model.optimize().objective_value\n",
    "    print(psi_production4)"
   ]
  },
  {
   "cell_type": "code",
   "execution_count": 229,
   "metadata": {},
   "outputs": [
    {
     "name": "stdout",
     "output_type": "stream",
     "text": [
      "0.7825699540236831\n",
      "2.797087834664154\n"
     ]
    }
   ],
   "source": [
    "medium = model.medium\n",
    "with model:\n",
    "    medium['BOUNDARY_GLCe'] = 0\n",
    "    medium['BOUNDARY_GLNe'] = 10\n",
    "    model.medium = medium\n",
    "    solution5 = model.optimize()\n",
    "    print(solution5.fluxes['DRAIN_Biomass'])\n",
    "    \n",
    "    model.medium = medium\n",
    "    model.objective = model.reactions.PsiM\n",
    "    psi_production5 = model.optimize().objective_value\n",
    "    print(psi_production5)\n",
    "    "
   ]
  },
  {
   "cell_type": "code",
   "execution_count": 230,
   "metadata": {},
   "outputs": [
    {
     "name": "stdout",
     "output_type": "stream",
     "text": [
      "0.7825699540236909\n",
      "2.797087834664169\n"
     ]
    }
   ],
   "source": [
    "medium = model.medium\n",
    "with model:\n",
    "    medium['BOUNDARY_GLCe'] = 0\n",
    "    medium['BOUNDARY_GLUe'] = 10\n",
    "    model.medium = medium\n",
    "    solution6 = model.optimize()\n",
    "    print(solution6.fluxes['DRAIN_Biomass'])\n",
    "    \n",
    "    model.medium = medium\n",
    "    model.objective = model.reactions.PsiM\n",
    "    psi_production6 = model.optimize().objective_value\n",
    "    print(psi_production6)\n"
   ]
  },
  {
   "cell_type": "code",
   "execution_count": 231,
   "metadata": {},
   "outputs": [
    {
     "name": "stdout",
     "output_type": "stream",
     "text": [
      "0.45079094136881587\n",
      "1.5058652959008532\n"
     ]
    }
   ],
   "source": [
    "medium = model.medium\n",
    "with model:\n",
    "    medium['BOUNDARY_GLCe'] = 0\n",
    "    medium['BOUNDARY_LACe'] = 10\n",
    "    model.medium = medium\n",
    "    solution7 = model.optimize()\n",
    "    print(solution7.fluxes['DRAIN_Biomass']) \n",
    "    \n",
    "    model.medium = medium\n",
    "    model.objective = model.reactions.PsiM\n",
    "    psi_production7 = model.optimize().objective_value\n",
    "    print(psi_production7)"
   ]
  },
  {
   "cell_type": "code",
   "execution_count": 232,
   "metadata": {},
   "outputs": [
    {
     "name": "stdout",
     "output_type": "stream",
     "text": [
      "0.4699273620747224\n",
      "1.5697904310004152\n"
     ]
    }
   ],
   "source": [
    "medium = model.medium # don't delete this, because then the result changes\n",
    "with model:\n",
    "    medium['BOUNDARY_GLCe'] = 0\n",
    "    medium['BOUNDARY_MALe'] = 10\n",
    "    model.medium = medium\n",
    "    solution8 = model.optimize()\n",
    "    print(solution8.fluxes['DRAIN_Biomass'])\n",
    "    \n",
    "    model.medium = medium\n",
    "    model.objective = model.reactions.PsiM\n",
    "    psi_production8 = model.optimize().objective_value\n",
    "    print(psi_production8)"
   ]
  },
  {
   "cell_type": "code",
   "execution_count": 233,
   "metadata": {},
   "outputs": [
    {
     "name": "stdout",
     "output_type": "stream",
     "text": [
      "0.3916061350621861\n",
      "1.308158692500327\n"
     ]
    }
   ],
   "source": [
    "medium = model.medium # don't delete this, because then the result changes\n",
    "with model:\n",
    "    medium['BOUNDARY_GLCe'] = 0\n",
    "    medium['BOUNDARY_PYRe'] = 10\n",
    "    model.medium = medium\n",
    "    solution9 = model.optimize()\n",
    "    print(solution9.fluxes['DRAIN_Biomass'])\n",
    "    \n",
    "    model.medium = medium\n",
    "    model.objective = model.reactions.PsiM\n",
    "    psi_production9 = model.optimize().objective_value\n",
    "    print(psi_production9)"
   ]
  }
 ],
 "metadata": {
  "kernelspec": {
   "display_name": "python3.6",
   "language": "python",
   "name": "python3.6"
  },
  "language_info": {
   "codemirror_mode": {
    "name": "ipython",
    "version": 3
   },
   "file_extension": ".py",
   "mimetype": "text/x-python",
   "name": "python",
   "nbconvert_exporter": "python",
   "pygments_lexer": "ipython3",
   "version": "3.6.12"
  }
 },
 "nbformat": 4,
 "nbformat_minor": 4
}
