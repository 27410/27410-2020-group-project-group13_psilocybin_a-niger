{
 "cells": [
  {
   "cell_type": "markdown",
   "metadata": {},
   "source": [
    "# Medium significance "
   ]
  },
  {
   "cell_type": "code",
   "execution_count": 1,
   "metadata": {},
   "outputs": [
    {
     "name": "stderr",
     "output_type": "stream",
     "text": [
      "'' is not a valid SBML 'SId'.\n"
     ]
    }
   ],
   "source": [
    "%run 01-model.ipynb"
   ]
  },
  {
   "cell_type": "markdown",
   "metadata": {},
   "source": [
    "### Standard medium content of the model\n"
   ]
  },
  {
   "cell_type": "code",
   "execution_count": 2,
   "metadata": {},
   "outputs": [
    {
     "data": {
      "text/plain": [
       "{'BOUNDARY_GLCe': 10.0,\n",
       " 'BOUNDARY_H2Oe': 1000.0,\n",
       " 'BOUNDARY_HNO3e': 1000.0,\n",
       " 'BOUNDARY_O2e': 1000.0,\n",
       " 'BOUNDARY_PIe': 1000.0,\n",
       " 'BOUNDARY_SLFe': 1000.0,\n",
       " 'BOUNDARY_Ke': 1000.0,\n",
       " 'BOUNDARY_CAe': 1000.0}"
      ]
     },
     "execution_count": 2,
     "metadata": {},
     "output_type": "execute_result"
    }
   ],
   "source": [
    "model.medium"
   ]
  },
  {
   "cell_type": "markdown",
   "metadata": {},
   "source": [
    "#### Productivities using standard medium:"
   ]
  },
  {
   "cell_type": "code",
   "execution_count": 3,
   "metadata": {},
   "outputs": [
    {
     "name": "stdout",
     "output_type": "stream",
     "text": [
      "Maximum theoretical biomass productivity: 0.9398547241492622 /h\n",
      "Maximum theoretical productivity of psilocybin_synthase reaction: 3.0787126793330604 mmol/gDW*h\n"
     ]
    }
   ],
   "source": [
    "with model:\n",
    "    solution = model.optimize()\n",
    "    print('Maximum theoretical biomass productivity:', solution.fluxes['DRAIN_Biomass'], '/h')\n",
    "    \n",
    "    model.objective = model.reactions.psiM\n",
    "    psi_production = model.optimize().objective_value\n",
    "    print('Maximum theoretical productivity of psilocybin_synthase reaction:', psi_production, 'mmol/gDW*h')"
   ]
  },
  {
   "cell_type": "markdown",
   "metadata": {},
   "source": [
    "### Changing media to an YEPD-mimicked media"
   ]
  },
  {
   "cell_type": "code",
   "execution_count": 12,
   "metadata": {},
   "outputs": [],
   "source": [
    "YEPDmedium = model.medium\n",
    "YEPDmedium['BOUNDARY_GLCe'] = 20\n",
    "YEPDmedium['BOUNDARY_ALAe'] = 10\n",
    "YEPDmedium['BOUNDARY_ARGe'] = 10\n",
    "YEPDmedium['BOUNDARY_ASPe'] = 10\n",
    "YEPDmedium['BOUNDARY_CYSe'] = 10\n",
    "YEPDmedium['BOUNDARY_GLUe'] = 10\n",
    "YEPDmedium['BOUNDARY_GLYe'] = 10\n",
    "YEPDmedium['BOUNDARY_HISe'] = 10\n",
    "YEPDmedium['BOUNDARY_ILEe'] = 10\n",
    "YEPDmedium['BOUNDARY_LEUe'] = 10\n",
    "YEPDmedium['BOUNDARY_LYSe'] = 10\n",
    "YEPDmedium['BOUNDARY_METe'] = 10\n",
    "YEPDmedium['BOUNDARY_PHEe'] = 10\n",
    "YEPDmedium['BOUNDARY_PROe'] = 10\n",
    "YEPDmedium['BOUNDARY_SERe'] = 10\n",
    "YEPDmedium['BOUNDARY_THRe'] = 10\n",
    "YEPDmedium['BOUNDARY_TRPe'] = 10\n",
    "YEPDmedium['BOUNDARY_TYRe'] = 10\n",
    "YEPDmedium['BOUNDARY_VALe'] = 10\n",
    "YEPDmedium['BOUNDARY_ZNe'] = 10\n",
    "YEPDmedium['BOUNDARY_FE2e'] = 10"
   ]
  },
  {
   "cell_type": "markdown",
   "metadata": {},
   "source": [
    "#### Productivities using YEPD medium:"
   ]
  },
  {
   "cell_type": "code",
   "execution_count": 13,
   "metadata": {},
   "outputs": [
    {
     "name": "stdout",
     "output_type": "stream",
     "text": [
      "Maximum theoretical biomass productivity: 15.115388091646892 /h\n",
      "Maximum theoretical productivity of psilocybin_synthase reaction: 53.867217378002145 mmol/gDW*h\n"
     ]
    }
   ],
   "source": [
    "model.medium = YEPDmedium\n",
    "solution = model.optimize()\n",
    "print('Maximum theoretical biomass productivity:', solution.fluxes['DRAIN_Biomass'], '/h') \n",
    "    \n",
    "model.objective = model.reactions.psiM\n",
    "psi_production = model.optimize().objective_value\n",
    "print('Maximum theoretical productivity of psilocybin_synthase reaction:', psi_production, 'mmol/gDW*h')"
   ]
  },
  {
   "cell_type": "markdown",
   "metadata": {},
   "source": [
    "### Changing glucose to a different carbon source\n",
    "#### Productivities using the alternative carbon source:"
   ]
  },
  {
   "cell_type": "code",
   "execution_count": 4,
   "metadata": {},
   "outputs": [
    {
     "name": "stdout",
     "output_type": "stream",
     "text": [
      "Maximum theoretical biomass productivity: 0.5093838996124204 /h\n",
      "Maximum theoretical productivity of psilocybin_synthase reaction: 1.5789473684210469 mmol/gDW*h\n"
     ]
    }
   ],
   "source": [
    "medium = model.medium\n",
    "with model:\n",
    "    medium['BOUNDARY_GLCe'] = 0\n",
    "    medium['BOUNDARY_SUCCe'] = 10\n",
    "    model.medium = medium\n",
    "    \n",
    "    solution2 = model.optimize()\n",
    "    print('Maximum theoretical biomass productivity:', solution2.fluxes['DRAIN_Biomass'], '/h')\n",
    "    \n",
    "    model.objective = model.reactions.psiM\n",
    "    psi_production2 = model.optimize().objective_value\n",
    "    print('Maximum theoretical productivity of psilocybin_synthase reaction:', psi_production2, 'mmol/gDW*h')"
   ]
  },
  {
   "cell_type": "code",
   "execution_count": 5,
   "metadata": {},
   "outputs": [
    {
     "name": "stdout",
     "output_type": "stream",
     "text": [
      "Maximum theoretical biomass productivity: 0.9398547241491949 /h\n",
      "Maximum theoretical productivity of psilocybin_synthase reaction: 3.0787126793330293 mmol/gDW*h\n"
     ]
    }
   ],
   "source": [
    "medium = model.medium\n",
    "with model:\n",
    "    medium['BOUNDARY_GLCe'] = 0\n",
    "    medium['BOUNDARY_FRUe'] = 10\n",
    "    model.medium = medium\n",
    "    solution3 = model.optimize()\n",
    "    print('Maximum theoretical biomass productivity:', solution3.fluxes['DRAIN_Biomass'], '/h')\n",
    "    \n",
    "    model.medium = medium\n",
    "    model.objective = model.reactions.psiM\n",
    "    psi_production3 = model.optimize().objective_value\n",
    "    print('Maximum theoretical productivity of psilocybin_synthase reaction:', psi_production3, 'mmol/gDW*h')"
   ]
  },
  {
   "cell_type": "code",
   "execution_count": 6,
   "metadata": {},
   "outputs": [
    {
     "name": "stdout",
     "output_type": "stream",
     "text": [
      "Maximum theoretical biomass productivity: 0.469927362074562 /h\n",
      "Maximum theoretical productivity of psilocybin_synthase reaction: 1.5393563396664942 mmol/gDW*h\n"
     ]
    }
   ],
   "source": [
    "medium = model.medium\n",
    "with model:\n",
    "    medium['BOUNDARY_GLCe'] = 0\n",
    "    medium['BOUNDARY_FUMe'] = 10\n",
    "    model.medium = medium\n",
    "    solution4 = model.optimize()\n",
    "    print('Maximum theoretical biomass productivity:', solution4.fluxes['DRAIN_Biomass'], '/h')\n",
    "  \n",
    "    model.medium = medium\n",
    "    model.objective = model.reactions.psiM\n",
    "    psi_production4 = model.optimize().objective_value\n",
    "    print('Maximum theoretical productivity of psilocybin_synthase reaction:', psi_production4, 'mmol/gDW*h')"
   ]
  },
  {
   "cell_type": "code",
   "execution_count": 7,
   "metadata": {},
   "outputs": [
    {
     "name": "stdout",
     "output_type": "stream",
     "text": [
      "Maximum theoretical biomass productivity: 0.7825699540236571 /h\n",
      "Maximum theoretical productivity of psilocybin_synthase reaction: 2.7329050022946415 mmol/gDW*h\n"
     ]
    }
   ],
   "source": [
    "medium = model.medium\n",
    "with model:\n",
    "    medium['BOUNDARY_GLCe'] = 0\n",
    "    medium['BOUNDARY_GLNe'] = 10\n",
    "    model.medium = medium\n",
    "    solution5 = model.optimize()\n",
    "    print('Maximum theoretical biomass productivity:', solution5.fluxes['DRAIN_Biomass'], '/h')\n",
    "    \n",
    "    model.medium = medium\n",
    "    model.objective = model.reactions.psiM\n",
    "    psi_production5 = model.optimize().objective_value\n",
    "    print('Maximum theoretical productivity of psilocybin_synthase reaction:', psi_production5, 'mmol/gDW*h')"
   ]
  },
  {
   "cell_type": "code",
   "execution_count": 8,
   "metadata": {},
   "outputs": [
    {
     "name": "stdout",
     "output_type": "stream",
     "text": [
      "Maximum theoretical biomass productivity: 0.7825699540236892 /h\n",
      "Maximum theoretical productivity of psilocybin_synthase reaction: 2.7329050022946273 mmol/gDW*h\n"
     ]
    }
   ],
   "source": [
    "medium = model.medium\n",
    "with model:\n",
    "    medium['BOUNDARY_GLCe'] = 0\n",
    "    medium['BOUNDARY_GLUe'] = 10\n",
    "    model.medium = medium\n",
    "    solution6 = model.optimize()\n",
    "    print('Maximum theoretical biomass productivity:', solution6.fluxes['DRAIN_Biomass'], '/h')\n",
    "    \n",
    "    model.medium = medium\n",
    "    model.objective = model.reactions.psiM\n",
    "    psi_production6 = model.optimize().objective_value\n",
    "    print('Maximum theoretical productivity of psilocybin_synthase reaction:', psi_production6, 'mmol/gDW*h')"
   ]
  },
  {
   "cell_type": "code",
   "execution_count": 9,
   "metadata": {},
   "outputs": [
    {
     "name": "stdout",
     "output_type": "stream",
     "text": [
      "Maximum theoretical biomass productivity: 0.4507909413688001 /h\n",
      "Maximum theoretical productivity of psilocybin_synthase reaction: 1.476670544138563 mmol/gDW*h\n"
     ]
    }
   ],
   "source": [
    "medium = model.medium\n",
    "with model:\n",
    "    medium['BOUNDARY_GLCe'] = 0\n",
    "    medium['BOUNDARY_LACe'] = 10\n",
    "    model.medium = medium\n",
    "    solution7 = model.optimize()\n",
    "    print('Maximum theoretical biomass productivity:', solution7.fluxes['DRAIN_Biomass'], '/h') \n",
    "    \n",
    "    model.medium = medium\n",
    "    model.objective = model.reactions.psiM\n",
    "    psi_production7 = model.optimize().objective_value\n",
    "    print('Maximum theoretical productivity of psilocybin_synthase reaction:', psi_production7, 'mmol/gDW*h')"
   ]
  },
  {
   "cell_type": "code",
   "execution_count": 10,
   "metadata": {},
   "outputs": [
    {
     "name": "stdout",
     "output_type": "stream",
     "text": [
      "Maximum theoretical biomass productivity: 0.4699273620746312 /h\n",
      "Maximum theoretical productivity of psilocybin_synthase reaction: 1.5393563396665346 mmol/gDW*h\n"
     ]
    }
   ],
   "source": [
    "medium = model.medium\n",
    "with model:\n",
    "    medium['BOUNDARY_GLCe'] = 0\n",
    "    medium['BOUNDARY_MALe'] = 10\n",
    "    model.medium = medium\n",
    "    solution8 = model.optimize()\n",
    "    print('Maximum theoretical biomass productivity:', solution8.fluxes['DRAIN_Biomass'], '/h')\n",
    "    \n",
    "    model.medium = medium\n",
    "    model.objective = model.reactions.psiM\n",
    "    psi_production8 = model.optimize().objective_value\n",
    "    print('Maximum theoretical productivity of psilocybin_synthase reaction:', psi_production8, 'mmol/gDW*h')"
   ]
  },
  {
   "cell_type": "code",
   "execution_count": 11,
   "metadata": {},
   "outputs": [
    {
     "name": "stdout",
     "output_type": "stream",
     "text": [
      "Maximum theoretical biomass productivity: 0.3916061350622011 /h\n",
      "Maximum theoretical productivity of psilocybin_synthase reaction: 1.2827969497221146 mmol/gDW*h\n"
     ]
    }
   ],
   "source": [
    "medium = model.medium\n",
    "with model:\n",
    "    medium['BOUNDARY_GLCe'] = 0\n",
    "    medium['BOUNDARY_PYRe'] = 10\n",
    "    model.medium = medium\n",
    "    solution9 = model.optimize()\n",
    "    print('Maximum theoretical biomass productivity:', solution9.fluxes['DRAIN_Biomass'], '/h')\n",
    "    \n",
    "    model.medium = medium\n",
    "    model.objective = model.reactions.psiM\n",
    "    psi_production9 = model.optimize().objective_value\n",
    "    print('Maximum theoretical productivity of psilocybin_synthase reaction:', psi_production9, 'mmol/gDW*h')"
   ]
  }
 ],
 "metadata": {
  "kernelspec": {
   "display_name": "python3.6",
   "language": "python",
   "name": "python3.6"
  },
  "language_info": {
   "codemirror_mode": {
    "name": "ipython",
    "version": 3
   },
   "file_extension": ".py",
   "mimetype": "text/x-python",
   "name": "python",
   "nbconvert_exporter": "python",
   "pygments_lexer": "ipython3",
   "version": "3.6.12"
  }
 },
 "nbformat": 4,
 "nbformat_minor": 4
}
