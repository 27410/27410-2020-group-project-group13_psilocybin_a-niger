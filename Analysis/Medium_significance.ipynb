{
 "cells": [
  {
   "cell_type": "markdown",
   "metadata": {},
   "source": [
    "# Medium significance "
   ]
  },
  {
   "cell_type": "code",
   "execution_count": 75,
   "metadata": {},
   "outputs": [],
   "source": [
    "%run 01-model.ipynb"
   ]
  },
  {
   "cell_type": "markdown",
   "metadata": {},
   "source": [
    "## Standard medium content of the model\n"
   ]
  },
  {
   "cell_type": "code",
   "execution_count": 76,
   "metadata": {},
   "outputs": [
    {
     "data": {
      "text/plain": [
       "{'BOUNDARY_GLCe': 10.0,\n",
       " 'BOUNDARY_H2Oe': 1000.0,\n",
       " 'BOUNDARY_HNO3e': 1000.0,\n",
       " 'BOUNDARY_O2e': 1000.0,\n",
       " 'BOUNDARY_PIe': 1000.0,\n",
       " 'BOUNDARY_SLFe': 1000.0,\n",
       " 'BOUNDARY_Ke': 1000.0,\n",
       " 'BOUNDARY_CAe': 1000.0}"
      ]
     },
     "execution_count": 76,
     "metadata": {},
     "output_type": "execute_result"
    }
   ],
   "source": [
    "basic_medium = model.medium\n",
    "basic_medium"
   ]
  },
  {
   "cell_type": "code",
   "execution_count": null,
   "metadata": {},
   "outputs": [],
   "source": []
  },
  {
   "cell_type": "markdown",
   "metadata": {},
   "source": [
    "#### Productivities using standard medium"
   ]
  },
  {
   "cell_type": "code",
   "execution_count": 68,
   "metadata": {},
   "outputs": [
    {
     "name": "stdout",
     "output_type": "stream",
     "text": [
      "Maximum theoretical biomass productivity: 0.9398547241492624 mmol-biomass mmol-glc^-1\n",
      "Maximum theoretical productivity of psilocybin_synthase reaction: 3.1395808620007832 mmol-psi mmol-glc^-1\n"
     ]
    }
   ],
   "source": [
    "with model:\n",
    "    solution = model.optimize()\n",
    "    model.objective = model.reactions.psiM\n",
    "    psi_production = model.optimize().objective_value\n",
    "\n",
    "    # SPØRGSMÅL: giver det mening at regne dette sådan for biomass?\n",
    "print('Maximum theoretical biomass productivity:', solution.fluxes['DRAIN_Biomass'], 'mmol-biomass mmol-glc^-1')\n",
    "print('Maximum theoretical productivity of psilocybin_synthase reaction:', psi_production, 'mmol-psi mmol-glc^-1')"
   ]
  },
  {
   "cell_type": "markdown",
   "metadata": {},
   "source": [
    "## Changing media to an YEPD-mimicked media"
   ]
  },
  {
   "cell_type": "code",
   "execution_count": 69,
   "metadata": {},
   "outputs": [],
   "source": [
    "YEPDmedium = model.medium\n",
    "YEPDmedium['BOUNDARY_ALAe'] = 10\n",
    "YEPDmedium['BOUNDARY_ARGe'] = 10\n",
    "YEPDmedium['BOUNDARY_ASPe'] = 10\n",
    "YEPDmedium['BOUNDARY_CYSe'] = 10\n",
    "YEPDmedium['BOUNDARY_GLUe'] = 10\n",
    "YEPDmedium['BOUNDARY_GLYe'] = 10\n",
    "YEPDmedium['BOUNDARY_HISe'] = 10\n",
    "YEPDmedium['BOUNDARY_ILEe'] = 10\n",
    "YEPDmedium['BOUNDARY_LEUe'] = 10\n",
    "YEPDmedium['BOUNDARY_LYSe'] = 10\n",
    "YEPDmedium['BOUNDARY_METe'] = 10\n",
    "YEPDmedium['BOUNDARY_PHEe'] = 10\n",
    "YEPDmedium['BOUNDARY_PROe'] = 10\n",
    "YEPDmedium['BOUNDARY_SERe'] = 10\n",
    "YEPDmedium['BOUNDARY_THRe'] = 10\n",
    "YEPDmedium['BOUNDARY_TRPe'] = 10\n",
    "YEPDmedium['BOUNDARY_TYRe'] = 10\n",
    "YEPDmedium['BOUNDARY_VALe'] = 10\n",
    "YEPDmedium['BOUNDARY_ZNe'] = 10\n",
    "YEPDmedium['BOUNDARY_MNe'] = 10 # Hvad skal denne være på?\n",
    "YEPDmedium['BOUNDARY_FE2e'] = 10"
   ]
  },
  {
   "cell_type": "markdown",
   "metadata": {},
   "source": [
    "#### Productivities using YEPD medium"
   ]
  },
  {
   "cell_type": "code",
   "execution_count": 70,
   "metadata": {},
   "outputs": [
    {
     "name": "stdout",
     "output_type": "stream",
     "text": [
      "Maximum theoretical biomass productivity: 14.928778362120559 mmol-biomass mmol-glc^-1\n",
      "Maximum theoretical productivity of psilocybin_synthase reaction: 55.594958509472356 mmol-psi mmol-glc^-1\n"
     ]
    }
   ],
   "source": [
    "model.medium = YEPDmedium\n",
    "solution = model.optimize()\n",
    "print('Maximum theoretical biomass productivity:', solution.fluxes['DRAIN_Biomass'], 'mmol-biomass mmol-glc^-1') \n",
    "    \n",
    "model.objective = model.reactions.psiM\n",
    "psi_production = model.optimize().objective_value\n",
    "print('Maximum theoretical productivity of psilocybin_synthase reaction:', psi_production, 'mmol-psi mmol-glc^-1')"
   ]
  },
  {
   "cell_type": "markdown",
   "metadata": {},
   "source": [
    "## Changing glucose to a different carbon source\n",
    "#### And productivities using the alternative carbon source"
   ]
  },
  {
   "cell_type": "code",
   "execution_count": 71,
   "metadata": {},
   "outputs": [
    {
     "data": {
      "text/plain": [
       "{'BOUNDARY_GLCe': 10.0,\n",
       " 'BOUNDARY_H2Oe': 1000.0,\n",
       " 'BOUNDARY_HNO3e': 1000.0,\n",
       " 'BOUNDARY_O2e': 1000.0,\n",
       " 'BOUNDARY_PIe': 1000.0,\n",
       " 'BOUNDARY_SLFe': 1000.0,\n",
       " 'BOUNDARY_Ke': 1000.0,\n",
       " 'BOUNDARY_CAe': 1000.0}"
      ]
     },
     "execution_count": 71,
     "metadata": {},
     "output_type": "execute_result"
    }
   ],
   "source": [
    "standard_medium"
   ]
  },
  {
   "cell_type": "code",
   "execution_count": 60,
   "metadata": {},
   "outputs": [
    {
     "name": "stdout",
     "output_type": "stream",
     "text": [
      "-0.0\n",
      "53.88680131517144\n"
     ]
    }
   ],
   "source": [
    "medium = model.medium\n",
    "with model:\n",
    "    medium['BOUNDARY_GLCe'] = 0\n",
    "    medium['BOUNDARY_SUCCe'] = 10\n",
    "    model.medium = medium\n",
    "    \n",
    "    solution2 = model.optimize()\n",
    "    print(solution2.fluxes['DRAIN_Biomass'])\n",
    "    \n",
    "    model.objective = model.reactions.psiM\n",
    "    psi_production2 = model.optimize().objective_value\n",
    "    print(psi_production2)"
   ]
  },
  {
   "cell_type": "code",
   "execution_count": 41,
   "metadata": {},
   "outputs": [
    {
     "name": "stdout",
     "output_type": "stream",
     "text": [
      "-0.0\n",
      "55.594958509472235\n"
     ]
    }
   ],
   "source": [
    "medium = model.medium\n",
    "with model:\n",
    "    medium['BOUNDARY_GLCe'] = 0\n",
    "    medium['BOUNDARY_FRUe'] = 10\n",
    "    model.medium = medium\n",
    "    solution3 = model.optimize()\n",
    "    print(solution3.fluxes['DRAIN_Biomass'])\n",
    "    \n",
    "    model.medium = medium\n",
    "    model.objective = model.reactions.psiM\n",
    "    psi_production3 = model.optimize().objective_value\n",
    "    print(psi_production3)"
   ]
  },
  {
   "cell_type": "code",
   "execution_count": 35,
   "metadata": {},
   "outputs": [
    {
     "name": "stdout",
     "output_type": "stream",
     "text": [
      "0.4699273620746356\n",
      "1.5697904310003992\n"
     ]
    }
   ],
   "source": [
    "medium = model.medium\n",
    "with model:\n",
    "    medium['BOUNDARY_GLCe'] = 0\n",
    "    medium['BOUNDARY_FUMe'] = 10\n",
    "    model.medium = medium\n",
    "    solution4 = model.optimize()\n",
    "    print(solution4.fluxes['DRAIN_Biomass'])\n",
    "  \n",
    "    model.medium = medium\n",
    "    model.objective = model.reactions.psiM\n",
    "    psi_production4 = model.optimize().objective_value\n",
    "    print(psi_production4)"
   ]
  },
  {
   "cell_type": "code",
   "execution_count": 36,
   "metadata": {},
   "outputs": [
    {
     "name": "stdout",
     "output_type": "stream",
     "text": [
      "0.7825699540236876\n",
      "2.797087834664155\n"
     ]
    }
   ],
   "source": [
    "medium = model.medium\n",
    "with model:\n",
    "    medium['BOUNDARY_GLCe'] = 0\n",
    "    medium['BOUNDARY_GLNe'] = 10\n",
    "    model.medium = medium\n",
    "    solution5 = model.optimize()\n",
    "    print(solution5.fluxes['DRAIN_Biomass'])\n",
    "    \n",
    "    model.medium = medium\n",
    "    model.objective = model.reactions.psiM\n",
    "    psi_production5 = model.optimize().objective_value\n",
    "    print(psi_production5)\n",
    "    "
   ]
  },
  {
   "cell_type": "code",
   "execution_count": 37,
   "metadata": {},
   "outputs": [
    {
     "name": "stdout",
     "output_type": "stream",
     "text": [
      "0.7825699540236859\n",
      "2.7970878346641648\n"
     ]
    }
   ],
   "source": [
    "medium = model.medium\n",
    "with model:\n",
    "    medium['BOUNDARY_GLCe'] = 0\n",
    "    medium['BOUNDARY_GLUe'] = 10\n",
    "    model.medium = medium\n",
    "    solution6 = model.optimize()\n",
    "    print(solution6.fluxes['DRAIN_Biomass'])\n",
    "    \n",
    "    model.medium = medium\n",
    "    model.objective = model.reactions.psiM\n",
    "    psi_production6 = model.optimize().objective_value\n",
    "    print(psi_production6)\n"
   ]
  },
  {
   "cell_type": "code",
   "execution_count": 38,
   "metadata": {},
   "outputs": [
    {
     "name": "stdout",
     "output_type": "stream",
     "text": [
      "0.4507909413688361\n",
      "1.5058652959008842\n"
     ]
    }
   ],
   "source": [
    "medium = model.medium\n",
    "with model:\n",
    "    medium['BOUNDARY_GLCe'] = 0\n",
    "    medium['BOUNDARY_LACe'] = 10\n",
    "    model.medium = medium\n",
    "    solution7 = model.optimize()\n",
    "    print(solution7.fluxes['DRAIN_Biomass']) \n",
    "    \n",
    "    model.medium = medium\n",
    "    model.objective = model.reactions.psiM\n",
    "    psi_production7 = model.optimize().objective_value\n",
    "    print(psi_production7)"
   ]
  },
  {
   "cell_type": "code",
   "execution_count": 39,
   "metadata": {},
   "outputs": [
    {
     "name": "stdout",
     "output_type": "stream",
     "text": [
      "0.4699273620746319\n",
      "1.5697904310003938\n"
     ]
    }
   ],
   "source": [
    "medium = model.medium # don't delete this, because then the result changes\n",
    "with model:\n",
    "    medium['BOUNDARY_GLCe'] = 0\n",
    "    medium['BOUNDARY_MALe'] = 10\n",
    "    model.medium = medium\n",
    "    solution8 = model.optimize()\n",
    "    print(solution8.fluxes['DRAIN_Biomass'])\n",
    "    \n",
    "    model.medium = medium\n",
    "    model.objective = model.reactions.psiM\n",
    "    psi_production8 = model.optimize().objective_value\n",
    "    print(psi_production8)"
   ]
  },
  {
   "cell_type": "code",
   "execution_count": 40,
   "metadata": {},
   "outputs": [
    {
     "name": "stdout",
     "output_type": "stream",
     "text": [
      "0.3916061350622045\n",
      "1.3081586925003166\n"
     ]
    }
   ],
   "source": [
    "medium = model.medium # don't delete this, because then the result changes\n",
    "with model:\n",
    "    medium['BOUNDARY_GLCe'] = 0\n",
    "    medium['BOUNDARY_PYRe'] = 10\n",
    "    model.medium = medium\n",
    "    solution9 = model.optimize()\n",
    "    print(solution9.fluxes['DRAIN_Biomass'])\n",
    "    \n",
    "    model.medium = medium\n",
    "    model.objective = model.reactions.psiM\n",
    "    psi_production9 = model.optimize().objective_value\n",
    "    print(psi_production9)"
   ]
  },
  {
   "cell_type": "code",
   "execution_count": null,
   "metadata": {},
   "outputs": [],
   "source": []
  },
  {
   "cell_type": "markdown",
   "metadata": {},
   "source": [
    "### Defining basic media again"
   ]
  },
  {
   "cell_type": "code",
   "execution_count": 74,
   "metadata": {},
   "outputs": [
    {
     "data": {
      "text/plain": [
       "{'BOUNDARY_ALAe': 10,\n",
       " 'BOUNDARY_ARGe': 10,\n",
       " 'BOUNDARY_ASPe': 10,\n",
       " 'BOUNDARY_CYSe': 10,\n",
       " 'BOUNDARY_GLCe': 10.0,\n",
       " 'BOUNDARY_GLUe': 10,\n",
       " 'BOUNDARY_GLYe': 10,\n",
       " 'BOUNDARY_H2Oe': 1000.0,\n",
       " 'BOUNDARY_HISe': 10,\n",
       " 'BOUNDARY_HNO3e': 1000.0,\n",
       " 'BOUNDARY_ILEe': 10,\n",
       " 'BOUNDARY_LEUe': 10,\n",
       " 'BOUNDARY_LYSe': 10,\n",
       " 'BOUNDARY_METe': 10,\n",
       " 'BOUNDARY_O2e': 1000.0,\n",
       " 'BOUNDARY_PHEe': 10,\n",
       " 'BOUNDARY_PIe': 1000.0,\n",
       " 'BOUNDARY_PROe': 10,\n",
       " 'BOUNDARY_SERe': 10,\n",
       " 'BOUNDARY_SLFe': 1000.0,\n",
       " 'BOUNDARY_THRe': 10,\n",
       " 'BOUNDARY_TRPe': 10,\n",
       " 'BOUNDARY_TYRe': 10,\n",
       " 'BOUNDARY_VALe': 10,\n",
       " 'BOUNDARY_Ke': 1000.0,\n",
       " 'BOUNDARY_CAe': 1000.0,\n",
       " 'BOUNDARY_MNe': 10,\n",
       " 'BOUNDARY_ZNe': 10,\n",
       " 'BOUNDARY_FE2e': 10}"
      ]
     },
     "execution_count": 74,
     "metadata": {},
     "output_type": "execute_result"
    }
   ],
   "source": [
    "basic_medium = model.medium\n",
    "basic_medium"
   ]
  },
  {
   "cell_type": "code",
   "execution_count": null,
   "metadata": {},
   "outputs": [],
   "source": []
  }
 ],
 "metadata": {
  "kernelspec": {
   "display_name": "python3.6",
   "language": "python",
   "name": "python3.6"
  },
  "language_info": {
   "codemirror_mode": {
    "name": "ipython",
    "version": 3
   },
   "file_extension": ".py",
   "mimetype": "text/x-python",
   "name": "python",
   "nbconvert_exporter": "python",
   "pygments_lexer": "ipython3",
   "version": "3.6.12"
  }
 },
 "nbformat": 4,
 "nbformat_minor": 4
}
