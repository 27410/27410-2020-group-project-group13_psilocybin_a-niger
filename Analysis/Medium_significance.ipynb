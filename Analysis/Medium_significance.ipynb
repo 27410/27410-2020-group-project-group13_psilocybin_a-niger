{
 "cells": [
  {
   "cell_type": "code",
   "execution_count": 110,
   "metadata": {},
   "outputs": [],
   "source": [
    "%run 01-model.ipynb"
   ]
  },
  {
   "cell_type": "markdown",
   "metadata": {},
   "source": [
    "### Standard medium content of the model\n",
    "Values are in mmol gDW^-1 h^-1 i think\n"
   ]
  },
  {
   "cell_type": "code",
   "execution_count": 111,
   "metadata": {},
   "outputs": [
    {
     "data": {
      "text/plain": [
       "{'BOUNDARY_GLCe': 10.0,\n",
       " 'BOUNDARY_H2Oe': 1000.0,\n",
       " 'BOUNDARY_HNO3e': 1000.0,\n",
       " 'BOUNDARY_O2e': 1000.0,\n",
       " 'BOUNDARY_PIe': 1000.0,\n",
       " 'BOUNDARY_SLFe': 1000.0,\n",
       " 'BOUNDARY_Ke': 1000.0,\n",
       " 'BOUNDARY_CAe': 1000.0}"
      ]
     },
     "execution_count": 111,
     "metadata": {},
     "output_type": "execute_result"
    }
   ],
   "source": [
    "model.medium"
   ]
  },
  {
   "cell_type": "code",
   "execution_count": 129,
   "metadata": {},
   "outputs": [
    {
     "data": {
      "text/html": [
       "\n",
       "        <table>\n",
       "            <tr>\n",
       "                <td><strong>Metabolite identifier</strong></td><td>HNO3e</td>\n",
       "            </tr><tr>\n",
       "                <td><strong>Name</strong></td><td>Nitrate (extracellular)</td>\n",
       "            </tr><tr>\n",
       "                <td><strong>Memory address</strong></td>\n",
       "                <td>0x07fd91b3fb2e8</td>\n",
       "            </tr><tr>\n",
       "                <td><strong>Formula</strong></td><td>HNO3</td>\n",
       "            </tr><tr>\n",
       "                <td><strong>Compartment</strong></td><td>e</td>\n",
       "            </tr><tr>\n",
       "                <td><strong>In 2 reaction(s)</strong></td><td>\n",
       "                    r1086, BOUNDARY_HNO3e</td>\n",
       "            </tr>\n",
       "        </table>"
      ],
      "text/plain": [
       "<Metabolite HNO3e at 0x7fd91b3fb2e8>"
      ]
     },
     "execution_count": 129,
     "metadata": {},
     "output_type": "execute_result"
    }
   ],
   "source": [
    "model.metabolites.HNO3e"
   ]
  },
  {
   "cell_type": "code",
   "execution_count": 130,
   "metadata": {},
   "outputs": [
    {
     "data": {
      "text/html": [
       "\n",
       "        <table>\n",
       "            <tr>\n",
       "                <td><strong>Metabolite identifier</strong></td><td>PIe</td>\n",
       "            </tr><tr>\n",
       "                <td><strong>Name</strong></td><td>Orthophosphate (extracellular)</td>\n",
       "            </tr><tr>\n",
       "                <td><strong>Memory address</strong></td>\n",
       "                <td>0x07fd91b4d5ba8</td>\n",
       "            </tr><tr>\n",
       "                <td><strong>Formula</strong></td><td>H3PO4</td>\n",
       "            </tr><tr>\n",
       "                <td><strong>Compartment</strong></td><td>e</td>\n",
       "            </tr><tr>\n",
       "                <td><strong>In 5 reaction(s)</strong></td><td>\n",
       "                    r2156, r2052, r1095, r2172, BOUNDARY_PIe</td>\n",
       "            </tr>\n",
       "        </table>"
      ],
      "text/plain": [
       "<Metabolite PIe at 0x7fd91b4d5ba8>"
      ]
     },
     "execution_count": 130,
     "metadata": {},
     "output_type": "execute_result"
    }
   ],
   "source": [
    "model.metabolites.PIe"
   ]
  },
  {
   "cell_type": "code",
   "execution_count": 131,
   "metadata": {},
   "outputs": [
    {
     "data": {
      "text/html": [
       "\n",
       "        <table>\n",
       "            <tr>\n",
       "                <td><strong>Metabolite identifier</strong></td><td>SLFe</td>\n",
       "            </tr><tr>\n",
       "                <td><strong>Name</strong></td><td>Sulfate (extracellular)</td>\n",
       "            </tr><tr>\n",
       "                <td><strong>Memory address</strong></td>\n",
       "                <td>0x07fd91b49f588</td>\n",
       "            </tr><tr>\n",
       "                <td><strong>Formula</strong></td><td>H2O4S</td>\n",
       "            </tr><tr>\n",
       "                <td><strong>Compartment</strong></td><td>e</td>\n",
       "            </tr><tr>\n",
       "                <td><strong>In 2 reaction(s)</strong></td><td>\n",
       "                    r1090, BOUNDARY_SLFe</td>\n",
       "            </tr>\n",
       "        </table>"
      ],
      "text/plain": [
       "<Metabolite SLFe at 0x7fd91b49f588>"
      ]
     },
     "execution_count": 131,
     "metadata": {},
     "output_type": "execute_result"
    }
   ],
   "source": [
    "model.metabolites.SLFe"
   ]
  },
  {
   "cell_type": "code",
   "execution_count": 132,
   "metadata": {},
   "outputs": [
    {
     "data": {
      "text/html": [
       "\n",
       "        <table>\n",
       "            <tr>\n",
       "                <td><strong>Metabolite identifier</strong></td><td>Ke</td>\n",
       "            </tr><tr>\n",
       "                <td><strong>Name</strong></td><td>Potassium (extracellular)</td>\n",
       "            </tr><tr>\n",
       "                <td><strong>Memory address</strong></td>\n",
       "                <td>0x07fd91b4e7898</td>\n",
       "            </tr><tr>\n",
       "                <td><strong>Formula</strong></td><td>K</td>\n",
       "            </tr><tr>\n",
       "                <td><strong>Compartment</strong></td><td>e</td>\n",
       "            </tr><tr>\n",
       "                <td><strong>In 2 reaction(s)</strong></td><td>\n",
       "                    r247, BOUNDARY_Ke</td>\n",
       "            </tr>\n",
       "        </table>"
      ],
      "text/plain": [
       "<Metabolite Ke at 0x7fd91b4e7898>"
      ]
     },
     "execution_count": 132,
     "metadata": {},
     "output_type": "execute_result"
    }
   ],
   "source": [
    "model.metabolites.Ke"
   ]
  },
  {
   "cell_type": "code",
   "execution_count": 133,
   "metadata": {},
   "outputs": [
    {
     "data": {
      "text/html": [
       "\n",
       "        <table>\n",
       "            <tr>\n",
       "                <td><strong>Metabolite identifier</strong></td><td>CAe</td>\n",
       "            </tr><tr>\n",
       "                <td><strong>Name</strong></td><td>Calcium cation</td>\n",
       "            </tr><tr>\n",
       "                <td><strong>Memory address</strong></td>\n",
       "                <td>0x07fd91b4e7240</td>\n",
       "            </tr><tr>\n",
       "                <td><strong>Formula</strong></td><td>Ca</td>\n",
       "            </tr><tr>\n",
       "                <td><strong>Compartment</strong></td><td>e</td>\n",
       "            </tr><tr>\n",
       "                <td><strong>In 2 reaction(s)</strong></td><td>\n",
       "                    r248, BOUNDARY_CAe</td>\n",
       "            </tr>\n",
       "        </table>"
      ],
      "text/plain": [
       "<Metabolite CAe at 0x7fd91b4e7240>"
      ]
     },
     "execution_count": 133,
     "metadata": {},
     "output_type": "execute_result"
    }
   ],
   "source": [
    "model.metabolites.CAe"
   ]
  },
  {
   "cell_type": "code",
   "execution_count": 112,
   "metadata": {},
   "outputs": [
    {
     "data": {
      "text/plain": [
       "3.1395808620008268"
      ]
     },
     "execution_count": 112,
     "metadata": {},
     "output_type": "execute_result"
    }
   ],
   "source": [
    "with model:\n",
    "    model.objective = model.reactions.psiM\n",
    "    max_4 = model.optimize().objective_value\n",
    "    \n",
    "max_4"
   ]
  },
  {
   "cell_type": "markdown",
   "metadata": {},
   "source": [
    "### YEPD media mimick: \n",
    "\"YEPD typically contains 1% yeast extract, 2% peptone, and 2% glucose/dextrose in distilled water.\"\n",
    "\n",
    "peptoner precursors til aminosyrer: \n",
    "\n",
    "yeast extract:\n",
    "\"Yeast extract has a protein content of about 50%, of which about 20% is glutathione, 6% is nucleic acid. It is rich in 18 kinds of amino acids, functional peptides glutathione, dextran, mannan, trehalose, flavoring nucleotide, B vitamins, biotin, trace elements and volatile aromatic compounds and other components. Calcium, phosphorus and trace element contents (μg / g) in yeast extract: Calcium 1120, Phosphorus 18020, Zinc 190, Iron 162, Chromium 5, Potassium 9300, Cobalt 1.2, Manganese 15, Strontium 3.5, Magnesium 2150.\"\n",
    "\n",
    "\n",
    "Jeg kan ikke tilføje DNA, eller RNA til mediet. glutathione tilføjer jeg ikke. \n",
    "glucose = dextrose, det er det samme\n",
    "\n",
    "Jeg tilføjer Zink+ andre selvom det ikke gør nogen forskel på tallene fordi det kunne være fedt at komme så tæt på YEPD medium as possible. Cobalt, strontium, magnesium kan jeg ikke finde med model.metabolites (men de findes også i yeast extract i meget små mængder sammenlignet med de andre)"
   ]
  },
  {
   "cell_type": "markdown",
   "metadata": {},
   "source": [
    "##### Spørgsmål: \n",
    "kan man regne med nogle af svarene når de growth er over 1?\n",
    "\n",
    "Hvilken værdi skal aminosyrerne være på? I LB media i session 5, der er de på 10, men i det tilfælde får vi en hel vanvittig vækst.\n",
    "\n",
    "Hvilken værdi skal metallerne være på?\n"
   ]
  },
  {
   "cell_type": "code",
   "execution_count": 38,
   "metadata": {
    "jupyter": {
     "source_hidden": true
    }
   },
   "outputs": [
    {
     "name": "stdout",
     "output_type": "stream",
     "text": [
      "2.2014831730037328\n",
      "7.343482272307904\n"
     ]
    }
   ],
   "source": [
    "medium = model.medium\n",
    "with model:\n",
    "    medium['BOUNDARY_LEUe'] = 10 \n",
    "    model.medium = medium\n",
    "    solution10 = model.optimize()\n",
    "    print(solution10.fluxes['DRAIN_Biomass'])\n",
    "    \n",
    "    model.objective = model.reactions.psiM\n",
    "    psi_production10 = model.optimize().objective_value\n",
    "    print(psi_production10)"
   ]
  },
  {
   "cell_type": "code",
   "execution_count": 39,
   "metadata": {
    "jupyter": {
     "source_hidden": true
    }
   },
   "outputs": [
    {
     "name": "stdout",
     "output_type": "stream",
     "text": [
      "1.5415217795997003\n",
      "5.436272571503859\n"
     ]
    }
   ],
   "source": [
    "medium = model.medium\n",
    "with model:\n",
    "    medium['BOUNDARY_ALAe'] = 10 \n",
    "    model.medium = medium\n",
    "    solution11 = model.optimize()\n",
    "    print(solution11.fluxes['DRAIN_Biomass'])\n",
    "    \n",
    "    model.objective = model.reactions.psiM\n",
    "    psi_production11 = model.optimize().objective_value\n",
    "    print(psi_production11)"
   ]
  },
  {
   "cell_type": "code",
   "execution_count": 40,
   "metadata": {
    "jupyter": {
     "source_hidden": true
    }
   },
   "outputs": [
    {
     "name": "stdout",
     "output_type": "stream",
     "text": [
      "1.3022786491014695\n",
      "4.6618130577736006\n"
     ]
    }
   ],
   "source": [
    "medium = model.medium\n",
    "with model:\n",
    "    medium['BOUNDARY_GLYe'] = 10 \n",
    "    model.medium = medium\n",
    "    solution12 = model.optimize()\n",
    "    print(solution12.fluxes['DRAIN_Biomass'])\n",
    "    \n",
    "    model.objective = model.reactions.psiM\n",
    "    psi_production12 = model.optimize().objective_value\n",
    "    print(psi_production12)"
   ]
  },
  {
   "cell_type": "code",
   "execution_count": 41,
   "metadata": {
    "jupyter": {
     "source_hidden": true
    }
   },
   "outputs": [
    {
     "name": "stdout",
     "output_type": "stream",
     "text": [
      "1.4971284016370539\n",
      "5.302491103202819\n"
     ]
    }
   ],
   "source": [
    "medium = model.medium\n",
    "with model:\n",
    "    medium['BOUNDARY_SERe'] = 10 #jeg e mediet?\n",
    "    model.medium = medium\n",
    "    solution13 = model.optimize()\n",
    "    print(solution13.fluxes['DRAIN_Biomass'])\n",
    "    \n",
    "    model.objective = model.reactions.psiM\n",
    "    psi_production13 = model.optimize().objective_value\n",
    "    print(psi_production13)"
   ]
  },
  {
   "cell_type": "code",
   "execution_count": 42,
   "metadata": {
    "jupyter": {
     "source_hidden": true
    }
   },
   "outputs": [
    {
     "name": "stdout",
     "output_type": "stream",
     "text": [
      "1.6956836644748785\n",
      "5.8956109134045045\n"
     ]
    }
   ],
   "source": [
    "medium = model.medium\n",
    "with model:\n",
    "    medium['BOUNDARY_THRe'] = 10 #jeg er jo ikke sikker på at denne kommando rent faktisk tilføjer det til mediet?\n",
    "    model.medium = medium\n",
    "    solution14 = model.optimize()\n",
    "    print(solution14.fluxes['DRAIN_Biomass'])\n",
    "    \n",
    "    model.objective = model.reactions.psiM\n",
    "    psi_production14 = model.optimize().objective_value\n",
    "    print(psi_production14)"
   ]
  },
  {
   "cell_type": "code",
   "execution_count": 43,
   "metadata": {
    "jupyter": {
     "source_hidden": true
    }
   },
   "outputs": [
    {
     "name": "stdout",
     "output_type": "stream",
     "text": [
      "1.9596715958871718\n",
      "6.996242367308574\n"
     ]
    }
   ],
   "source": [
    "medium = model.medium\n",
    "with model:\n",
    "    medium['BOUNDARY_ARGe'] = 10 #jeg er jo ikke sikker på at denne kommando rent faktisk tilføjer det til mediet?\n",
    "    model.medium = medium\n",
    "    solution15 = model.optimize()\n",
    "    print(solution15.fluxes['DRAIN_Biomass'])\n",
    "    \n",
    "    model.objective = model.reactions.psiM\n",
    "    psi_production15 = model.optimize().objective_value\n",
    "    print(psi_production15)"
   ]
  },
  {
   "cell_type": "code",
   "execution_count": 47,
   "metadata": {
    "jupyter": {
     "source_hidden": true
    }
   },
   "outputs": [
    {
     "name": "stdout",
     "output_type": "stream",
     "text": [
      "0.9658158778657431\n",
      "3.139580862000866\n"
     ]
    }
   ],
   "source": [
    "medium = model.medium\n",
    "with model:\n",
    "    medium['BOUNDARY_LYSe'] = 10 #jeg er jo ikke sikker på at denne kommando rent faktisk tilføjer det til mediet?\n",
    "    model.medium = medium\n",
    "    solution16 = model.optimize()\n",
    "    print(solution16.fluxes['DRAIN_Biomass'])\n",
    "    \n",
    "    model.objective = model.reactions.psiM\n",
    "    psi_production16 = model.optimize().objective_value\n",
    "    print(psi_production16)"
   ]
  },
  {
   "cell_type": "code",
   "execution_count": 48,
   "metadata": {
    "jupyter": {
     "source_hidden": true
    }
   },
   "outputs": [
    {
     "name": "stdout",
     "output_type": "stream",
     "text": [
      "1.562734378921751\n",
      "5.500197706603625\n"
     ]
    }
   ],
   "source": [
    "medium = model.medium\n",
    "with model:\n",
    "    medium['BOUNDARY_ASPe'] = 10 #jeg er jo ikke sikker på at denne kommando rent faktisk tilføjer det til mediet?\n",
    "    model.medium = medium\n",
    "    solution17 = model.optimize()\n",
    "    print(solution17.fluxes['DRAIN_Biomass'])\n",
    "    \n",
    "    model.objective = model.reactions.psiM\n",
    "    psi_production17 = model.optimize().objective_value\n",
    "    print(psi_production17)"
   ]
  },
  {
   "cell_type": "code",
   "execution_count": 59,
   "metadata": {
    "jupyter": {
     "source_hidden": true
    }
   },
   "outputs": [
    {
     "name": "stdout",
     "output_type": "stream",
     "text": [
      "1.9574104895354156\n",
      "6.680506128904603\n"
     ]
    }
   ],
   "source": [
    "medium = model.medium\n",
    "with model:\n",
    "    medium['BOUNDARY_PROe'] = 10 #jeg er jo ikke sikker på at denne kommando rent faktisk tilføjer det til mediet?\n",
    "    model.medium = medium\n",
    "    solution18 = model.optimize()\n",
    "    print(solution18.fluxes['DRAIN_Biomass'])\n",
    "    \n",
    "    model.objective = model.reactions.psiM\n",
    "    psi_production18 = model.optimize().objective_value\n",
    "    print(psi_production18)"
   ]
  },
  {
   "cell_type": "code",
   "execution_count": 60,
   "metadata": {
    "jupyter": {
     "source_hidden": true
    }
   },
   "outputs": [
    {
     "name": "stdout",
     "output_type": "stream",
     "text": [
      "1.8259965593885532\n",
      "6.285092922103608\n"
     ]
    }
   ],
   "source": [
    "medium = model.medium\n",
    "with model:\n",
    "    medium['BOUNDARY_GLUe'] = 10 #jeg er jo ikke sikker på at denne kommando rent faktisk tilføjer det til mediet?\n",
    "    model.medium = medium\n",
    "    solution19 = model.optimize()\n",
    "    print(solution19.fluxes['DRAIN_Biomass'])\n",
    "    \n",
    "    model.objective = model.reactions.psiM\n",
    "    psi_production19 = model.optimize().objective_value\n",
    "    print(psi_production19)"
   ]
  },
  {
   "cell_type": "code",
   "execution_count": 61,
   "metadata": {
    "jupyter": {
     "source_hidden": true
    }
   },
   "outputs": [
    {
     "name": "stdout",
     "output_type": "stream",
     "text": [
      "1.047806031204283\n",
      "3.7294504462188893\n"
     ]
    }
   ],
   "source": [
    "medium = model.medium\n",
    "with model:\n",
    "    medium['BOUNDARY_HISe'] = 10 #jeg er jo ikke sikker på at denne kommando rent faktisk tilføjer det til mediet?\n",
    "    model.medium = medium\n",
    "    solution20 = model.optimize()\n",
    "    print(solution20.fluxes['DRAIN_Biomass'])\n",
    "    \n",
    "    model.objective = model.reactions.psiM\n",
    "    psi_production20 = model.optimize().objective_value\n",
    "    print(psi_production20)"
   ]
  },
  {
   "cell_type": "code",
   "execution_count": 62,
   "metadata": {
    "jupyter": {
     "source_hidden": true
    }
   },
   "outputs": [
    {
     "name": "stdout",
     "output_type": "stream",
     "text": [
      "2.197518455094907\n",
      "7.340190223401951\n"
     ]
    }
   ],
   "source": [
    "medium = model.medium\n",
    "with model:\n",
    "    medium['BOUNDARY_ILEe'] = 10 #jeg er jo ikke sikker på at denne kommando rent faktisk tilføjer det til mediet?\n",
    "    model.medium = medium\n",
    "    solution21 = model.optimize()\n",
    "    print(solution21.fluxes['DRAIN_Biomass'])\n",
    "    \n",
    "    model.objective = model.reactions.psiM\n",
    "    psi_production21 = model.optimize().objective_value\n",
    "    print(psi_production21)"
   ]
  },
  {
   "cell_type": "code",
   "execution_count": 63,
   "metadata": {
    "jupyter": {
     "source_hidden": true
    }
   },
   "outputs": [
    {
     "name": "stdout",
     "output_type": "stream",
     "text": [
      "1.6958264677748356\n",
      "5.831685778304992\n"
     ]
    }
   ],
   "source": [
    "medium = model.medium\n",
    "with model:\n",
    "    medium['BOUNDARY_METe'] = 10 #jeg er jo ikke sikker på at denne kommando rent faktisk tilføjer det til mediet?\n",
    "    model.medium = medium\n",
    "    solution22 = model.optimize()\n",
    "    print(solution22.fluxes['DRAIN_Biomass'])\n",
    "    \n",
    "    model.objective = model.reactions.psiM\n",
    "    psi_production22 = model.optimize().objective_value\n",
    "    print(psi_production22)"
   ]
  },
  {
   "cell_type": "code",
   "execution_count": 64,
   "metadata": {
    "jupyter": {
     "source_hidden": true
    }
   },
   "outputs": [
    {
     "name": "stdout",
     "output_type": "stream",
     "text": [
      "1.9414367254581224\n",
      "6.558587056807695\n"
     ]
    }
   ],
   "source": [
    "medium = model.medium\n",
    "with model:\n",
    "    medium['BOUNDARY_VALe'] = 10 #jeg er jo ikke sikker på at denne kommando rent faktisk tilføjer det til mediet?\n",
    "    model.medium = medium\n",
    "    solution23 = model.optimize()\n",
    "    print(solution23.fluxes['DRAIN_Biomass'])\n",
    "    \n",
    "    model.objective = model.reactions.psiM\n",
    "    psi_production23 = model.optimize().objective_value\n",
    "    print(psi_production23)"
   ]
  },
  {
   "cell_type": "code",
   "execution_count": 66,
   "metadata": {
    "jupyter": {
     "source_hidden": true
    }
   },
   "outputs": [
    {
     "name": "stdout",
     "output_type": "stream",
     "text": [
      "1.2185972201196609\n",
      "4.351025520588697\n"
     ]
    }
   ],
   "source": [
    "medium = model.medium\n",
    "with model:\n",
    "    medium['BOUNDARY_CYSe'] = 10 #jeg er jo ikke sikker på at denne kommando rent faktisk tilføjer det til mediet?\n",
    "    model.medium = medium\n",
    "    solution24 = model.optimize()\n",
    "    print(solution24.fluxes['DRAIN_Biomass'])\n",
    "    \n",
    "    model.objective = model.reactions.psiM\n",
    "    psi_production24 = model.optimize().objective_value\n",
    "    print(psi_production24)"
   ]
  },
  {
   "cell_type": "code",
   "execution_count": 67,
   "metadata": {
    "jupyter": {
     "source_hidden": true
    }
   },
   "outputs": [
    {
     "name": "stdout",
     "output_type": "stream",
     "text": [
      "2.0479201583122393\n",
      "7.440973221998275\n"
     ]
    }
   ],
   "source": [
    "medium = model.medium\n",
    "with model:\n",
    "    medium['BOUNDARY_PHEe'] = 10 #jeg er jo ikke sikker på at denne kommando rent faktisk tilføjer det til mediet?\n",
    "    model.medium = medium\n",
    "    solution25 = model.optimize()\n",
    "    print(solution25.fluxes['DRAIN_Biomass'])\n",
    "    \n",
    "    model.objective = model.reactions.psiM\n",
    "    psi_production25 = model.optimize().objective_value\n",
    "    print(psi_production25)"
   ]
  },
  {
   "cell_type": "code",
   "execution_count": 68,
   "metadata": {
    "jupyter": {
     "source_hidden": true
    }
   },
   "outputs": [
    {
     "name": "stdout",
     "output_type": "stream",
     "text": [
      "2.5225866177023253\n",
      "11.12231448530385\n"
     ]
    }
   ],
   "source": [
    "medium = model.medium\n",
    "with model:\n",
    "    medium['BOUNDARY_TRPe'] = 10 #jeg er jo ikke sikker på at denne kommando rent faktisk tilføjer det til mediet?\n",
    "    model.medium = medium\n",
    "    solution26 = model.optimize()\n",
    "    print(solution26.fluxes['DRAIN_Biomass'])\n",
    "    \n",
    "    model.objective = model.reactions.psiM\n",
    "    psi_production26 = model.optimize().objective_value\n",
    "    print(psi_production26)"
   ]
  },
  {
   "cell_type": "code",
   "execution_count": 97,
   "metadata": {
    "jupyter": {
     "source_hidden": true
    }
   },
   "outputs": [
    {
     "name": "stdout",
     "output_type": "stream",
     "text": [
      "2.0834014679763895\n",
      "7.0060630025043285\n"
     ]
    }
   ],
   "source": [
    "medium = model.medium\n",
    "with model:\n",
    "    medium['BOUNDARY_TYRe'] = 10 #jeg er jo ikke sikker på at denne kommando rent faktisk tilføjer det til mediet?\n",
    "    model.medium = medium\n",
    "    solution27 = model.optimize()\n",
    "    print(solution27.fluxes['DRAIN_Biomass'])\n",
    "    \n",
    "    model.objective = model.reactions.psiM\n",
    "    psi_production27 = model.optimize().objective_value\n",
    "    print(psi_production27)"
   ]
  },
  {
   "cell_type": "code",
   "execution_count": 136,
   "metadata": {
    "jupyter": {
     "source_hidden": true
    }
   },
   "outputs": [
    {
     "name": "stdout",
     "output_type": "stream",
     "text": [
      "0.9398547241492647\n",
      "3.1395808620007877\n"
     ]
    }
   ],
   "source": [
    "medium = model.medium\n",
    "with model:\n",
    "    medium['BOUNDARY_ZNe'] = 1000 #jeg er jo ikke sikker på at denne kommando rent faktisk tilføjer det til mediet?\n",
    "    model.medium = medium\n",
    "    solution27 = model.optimize()\n",
    "    print(solution27.fluxes['DRAIN_Biomass'])\n",
    "    \n",
    "    model.objective = model.reactions.psiM\n",
    "    psi_production27 = model.optimize().objective_value\n",
    "    print(psi_production27)"
   ]
  },
  {
   "cell_type": "code",
   "execution_count": 182,
   "metadata": {},
   "outputs": [
    {
     "name": "stdout",
     "output_type": "stream",
     "text": [
      "1.8628936757366192\n",
      "6.408593647026256\n"
     ]
    }
   ],
   "source": [
    "medium = model.medium\n",
    "with model:\n",
    "    medium['BOUNDARY_ALAe'] = 0.5\n",
    "    medium['BOUNDARY_ARGe'] = 0.5\n",
    "    medium['BOUNDARY_ASPe'] = 0.5\n",
    "    medium['BOUNDARY_CYSe'] = 0.5\n",
    "    medium['BOUNDARY_GLUe'] = 0.5\n",
    "    medium['BOUNDARY_GLYe'] = 0.5\n",
    "    medium['BOUNDARY_HISe'] = 0.5\n",
    "    medium['BOUNDARY_ILEe'] = 0.5\n",
    "    medium['BOUNDARY_LEUe'] = 0.5\n",
    "    medium['BOUNDARY_LYSe'] = 0.5\n",
    "    medium['BOUNDARY_METe'] = 0.5\n",
    "    medium['BOUNDARY_PHEe'] = 0.5\n",
    "    medium['BOUNDARY_PROe'] = 0.5\n",
    "    medium['BOUNDARY_SERe'] = 0.5\n",
    "    medium['BOUNDARY_THRe'] = 0.5\n",
    "    medium['BOUNDARY_TRPe'] = 0.5\n",
    "    medium['BOUNDARY_TYRe'] = 0.5\n",
    "    medium['BOUNDARY_VALe'] = 0.5\n",
    "    medium['BOUNDARY_ZNe'] = 1000\n",
    "    medium['BOUNDARY_MNe'] = 1 # Hvad skal denne være på?\n",
    "    medium['BOUNDARY_FE2e'] = 1000\n",
    "    model.medium = medium\n",
    "    solution10 = model.optimize()\n",
    "    print(solution10.fluxes['DRAIN_Biomass'])\n",
    "    \n",
    "    model.objective = model.reactions.psiM\n",
    "    psi_production10 = model.optimize().objective_value\n",
    "    print(psi_production10)"
   ]
  },
  {
   "cell_type": "code",
   "execution_count": 71,
   "metadata": {},
   "outputs": [
    {
     "name": "stdout",
     "output_type": "stream",
     "text": [
      "2.4309764401232012\n",
      "8.49679035540936\n"
     ]
    }
   ],
   "source": [
    "medium = model.medium\n",
    "with model:\n",
    "    medium['BOUNDARY_ALAe'] = 1 \n",
    "    medium['BOUNDARY_ARGe'] = 1\n",
    "    medium['BOUNDARY_ASPe'] = 1\n",
    "    medium['BOUNDARY_CYSe'] = 1\n",
    "    medium['BOUNDARY_GLUe'] = 1\n",
    "    medium['BOUNDARY_GLYe'] = 1\n",
    "    medium['BOUNDARY_HISe'] = 1\n",
    "    medium['BOUNDARY_ILEe'] = 1\n",
    "    medium['BOUNDARY_LEUe'] = 1\n",
    "    medium['BOUNDARY_LYSe'] = 1\n",
    "    medium['BOUNDARY_METe'] = 1\n",
    "    medium['BOUNDARY_PHEe'] = 1\n",
    "    medium['BOUNDARY_PROe'] = 1\n",
    "    medium['BOUNDARY_SERe'] = 1\n",
    "    medium['BOUNDARY_THRe'] = 1\n",
    "    medium['BOUNDARY_TRPe'] = 1\n",
    "    medium['BOUNDARY_TYRe'] = 1\n",
    "    medium['BOUNDARY_VALe'] = 1\n",
    "    model.medium = medium\n",
    "    solution10 = model.optimize()\n",
    "    print(solution10.fluxes['DRAIN_Biomass'])\n",
    "    \n",
    "    model.objective = model.reactions.psiM\n",
    "    psi_production10 = model.optimize().objective_value\n",
    "    print(psi_production10)"
   ]
  },
  {
   "cell_type": "code",
   "execution_count": 187,
   "metadata": {},
   "outputs": [
    {
     "name": "stdout",
     "output_type": "stream",
     "text": [
      "14.319090469916949\n",
      "51.40284953812454\n"
     ]
    }
   ],
   "source": [
    "medium = model.medium\n",
    "with model:\n",
    "    medium['BOUNDARY_ALAe'] = 10\n",
    "    medium['BOUNDARY_ARGe'] = 10\n",
    "    medium['BOUNDARY_ASPe'] = 10\n",
    "    medium['BOUNDARY_CYSe'] = 10\n",
    "    medium['BOUNDARY_GLUe'] = 10\n",
    "    medium['BOUNDARY_GLYe'] = 10\n",
    "    medium['BOUNDARY_HISe'] = 10\n",
    "    medium['BOUNDARY_ILEe'] = 10\n",
    "    medium['BOUNDARY_LEUe'] = 10\n",
    "    medium['BOUNDARY_LYSe'] = 10\n",
    "    medium['BOUNDARY_METe'] = 10\n",
    "    medium['BOUNDARY_PHEe'] = 10\n",
    "    medium['BOUNDARY_PROe'] = 10\n",
    "    medium['BOUNDARY_SERe'] = 10\n",
    "    medium['BOUNDARY_THRe'] = 10\n",
    "    medium['BOUNDARY_TRPe'] = 10\n",
    "    medium['BOUNDARY_TYRe'] = 10\n",
    "    medium['BOUNDARY_VALe'] = 10\n",
    "    model.medium = medium\n",
    "    solution10 = model.optimize()\n",
    "    print(solution10.fluxes['DRAIN_Biomass'])\n",
    "    \n",
    "    model.objective = model.reactions.psiM\n",
    "    psi_production10 = model.optimize().objective_value\n",
    "    print(psi_production10)"
   ]
  },
  {
   "cell_type": "code",
   "execution_count": 170,
   "metadata": {},
   "outputs": [
    {
     "name": "stdout",
     "output_type": "stream",
     "text": [
      "psi\n"
     ]
    }
   ],
   "source": [
    "for met in model.metabolites.query('psi'):\n",
    "    print(met.id)"
   ]
  },
  {
   "cell_type": "code",
   "execution_count": 175,
   "metadata": {},
   "outputs": [],
   "source": [
    "for met in model.metabolites.query('psilocybin'):\n",
    "    print(met.id)"
   ]
  },
  {
   "cell_type": "markdown",
   "metadata": {},
   "source": [
    "### Changing the carbon source: "
   ]
  },
  {
   "cell_type": "code",
   "execution_count": 32,
   "metadata": {},
   "outputs": [
    {
     "name": "stdout",
     "output_type": "stream",
     "text": [
      "0.5093838996123824\n",
      "0.0\n",
      "1.6216216216215873\n"
     ]
    }
   ],
   "source": [
    "medium = model.medium\n",
    "with model:\n",
    "    medium['BOUNDARY_GLCe'] = 0\n",
    "    medium['BOUNDARY_SUCCe'] = 10\n",
    "    model.medium = medium\n",
    "    solution2 = model.optimize()\n",
    "    print(solution2.fluxes['DRAIN_Biomass'])\n",
    "    \n",
    "    print(solution2.fluxes['psiM']) # i would have like this to function but it doesnt\n",
    "    \n",
    "    model.objective = model.reactions.psiM\n",
    "    psi_production2 = model.optimize().objective_value\n",
    "    print(psi_production2)"
   ]
  },
  {
   "cell_type": "markdown",
   "metadata": {},
   "source": [
    "Note for me: see below that the result does not change even thouhg i put in in a seperate \"with model\" code:"
   ]
  },
  {
   "cell_type": "code",
   "execution_count": 33,
   "metadata": {},
   "outputs": [
    {
     "name": "stdout",
     "output_type": "stream",
     "text": [
      "1.621621621621617\n"
     ]
    }
   ],
   "source": [
    "medium = model.medium\n",
    "with model:\n",
    "    medium['BOUNDARY_GLCe'] = 0\n",
    "    medium['BOUNDARY_SUCCe'] = 10\n",
    "    model.medium = medium\n",
    "    model.objective = model.reactions.psiM\n",
    "    psi_production2 = model.optimize().objective_value\n",
    "    print(psi_production2)"
   ]
  },
  {
   "cell_type": "code",
   "execution_count": 34,
   "metadata": {},
   "outputs": [
    {
     "name": "stdout",
     "output_type": "stream",
     "text": [
      "0.9398547241492611\n",
      "3.1395808620008\n"
     ]
    }
   ],
   "source": [
    "medium = model.medium\n",
    "with model:\n",
    "    medium['BOUNDARY_GLCe'] = 0\n",
    "    medium['BOUNDARY_FRUe'] = 10\n",
    "    model.medium = medium\n",
    "    solution3 = model.optimize()\n",
    "    print(solution3.fluxes['DRAIN_Biomass'])\n",
    "    \n",
    "    model.medium = medium\n",
    "    model.objective = model.reactions.psiM\n",
    "    psi_production3 = model.optimize().objective_value\n",
    "    print(psi_production3)"
   ]
  },
  {
   "cell_type": "code",
   "execution_count": 35,
   "metadata": {},
   "outputs": [
    {
     "name": "stdout",
     "output_type": "stream",
     "text": [
      "0.4699273620746356\n",
      "1.5697904310003992\n"
     ]
    }
   ],
   "source": [
    "medium = model.medium\n",
    "with model:\n",
    "    medium['BOUNDARY_GLCe'] = 0\n",
    "    medium['BOUNDARY_FUMe'] = 10\n",
    "    model.medium = medium\n",
    "    solution4 = model.optimize()\n",
    "    print(solution4.fluxes['DRAIN_Biomass'])\n",
    "  \n",
    "    model.medium = medium\n",
    "    model.objective = model.reactions.psiM\n",
    "    psi_production4 = model.optimize().objective_value\n",
    "    print(psi_production4)"
   ]
  },
  {
   "cell_type": "code",
   "execution_count": 36,
   "metadata": {},
   "outputs": [
    {
     "name": "stdout",
     "output_type": "stream",
     "text": [
      "0.7825699540236876\n",
      "2.797087834664155\n"
     ]
    }
   ],
   "source": [
    "medium = model.medium\n",
    "with model:\n",
    "    medium['BOUNDARY_GLCe'] = 0\n",
    "    medium['BOUNDARY_GLNe'] = 10\n",
    "    model.medium = medium\n",
    "    solution5 = model.optimize()\n",
    "    print(solution5.fluxes['DRAIN_Biomass'])\n",
    "    \n",
    "    model.medium = medium\n",
    "    model.objective = model.reactions.psiM\n",
    "    psi_production5 = model.optimize().objective_value\n",
    "    print(psi_production5)\n",
    "    "
   ]
  },
  {
   "cell_type": "code",
   "execution_count": 37,
   "metadata": {},
   "outputs": [
    {
     "name": "stdout",
     "output_type": "stream",
     "text": [
      "0.7825699540236859\n",
      "2.7970878346641648\n"
     ]
    }
   ],
   "source": [
    "medium = model.medium\n",
    "with model:\n",
    "    medium['BOUNDARY_GLCe'] = 0\n",
    "    medium['BOUNDARY_GLUe'] = 10\n",
    "    model.medium = medium\n",
    "    solution6 = model.optimize()\n",
    "    print(solution6.fluxes['DRAIN_Biomass'])\n",
    "    \n",
    "    model.medium = medium\n",
    "    model.objective = model.reactions.psiM\n",
    "    psi_production6 = model.optimize().objective_value\n",
    "    print(psi_production6)\n"
   ]
  },
  {
   "cell_type": "code",
   "execution_count": 38,
   "metadata": {},
   "outputs": [
    {
     "name": "stdout",
     "output_type": "stream",
     "text": [
      "0.4507909413688361\n",
      "1.5058652959008842\n"
     ]
    }
   ],
   "source": [
    "medium = model.medium\n",
    "with model:\n",
    "    medium['BOUNDARY_GLCe'] = 0\n",
    "    medium['BOUNDARY_LACe'] = 10\n",
    "    model.medium = medium\n",
    "    solution7 = model.optimize()\n",
    "    print(solution7.fluxes['DRAIN_Biomass']) \n",
    "    \n",
    "    model.medium = medium\n",
    "    model.objective = model.reactions.psiM\n",
    "    psi_production7 = model.optimize().objective_value\n",
    "    print(psi_production7)"
   ]
  },
  {
   "cell_type": "code",
   "execution_count": 39,
   "metadata": {},
   "outputs": [
    {
     "name": "stdout",
     "output_type": "stream",
     "text": [
      "0.4699273620746319\n",
      "1.5697904310003938\n"
     ]
    }
   ],
   "source": [
    "medium = model.medium # don't delete this, because then the result changes\n",
    "with model:\n",
    "    medium['BOUNDARY_GLCe'] = 0\n",
    "    medium['BOUNDARY_MALe'] = 10\n",
    "    model.medium = medium\n",
    "    solution8 = model.optimize()\n",
    "    print(solution8.fluxes['DRAIN_Biomass'])\n",
    "    \n",
    "    model.medium = medium\n",
    "    model.objective = model.reactions.psiM\n",
    "    psi_production8 = model.optimize().objective_value\n",
    "    print(psi_production8)"
   ]
  },
  {
   "cell_type": "code",
   "execution_count": 40,
   "metadata": {},
   "outputs": [
    {
     "name": "stdout",
     "output_type": "stream",
     "text": [
      "0.3916061350622045\n",
      "1.3081586925003166\n"
     ]
    }
   ],
   "source": [
    "medium = model.medium # don't delete this, because then the result changes\n",
    "with model:\n",
    "    medium['BOUNDARY_GLCe'] = 0\n",
    "    medium['BOUNDARY_PYRe'] = 10\n",
    "    model.medium = medium\n",
    "    solution9 = model.optimize()\n",
    "    print(solution9.fluxes['DRAIN_Biomass'])\n",
    "    \n",
    "    model.medium = medium\n",
    "    model.objective = model.reactions.psiM\n",
    "    psi_production9 = model.optimize().objective_value\n",
    "    print(psi_production9)"
   ]
  },
  {
   "cell_type": "code",
   "execution_count": null,
   "metadata": {},
   "outputs": [],
   "source": []
  }
 ],
 "metadata": {
  "kernelspec": {
   "display_name": "python3.6",
   "language": "python",
   "name": "python3.6"
  },
  "language_info": {
   "codemirror_mode": {
    "name": "ipython",
    "version": 3
   },
   "file_extension": ".py",
   "mimetype": "text/x-python",
   "name": "python",
   "nbconvert_exporter": "python",
   "pygments_lexer": "ipython3",
   "version": "3.6.12"
  }
 },
 "nbformat": 4,
 "nbformat_minor": 4
}
