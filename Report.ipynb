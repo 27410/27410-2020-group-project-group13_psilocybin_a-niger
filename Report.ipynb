{
 "cells": [
  {
   "cell_type": "markdown",
   "metadata": {},
   "source": [
    "# Biosynthesis of Psylocybin in <i>Aspergillus niger</i>"
   ]
  },
  {
   "cell_type": "markdown",
   "metadata": {},
   "source": [
    "## 1. Introduction"
   ]
  },
  {
   "cell_type": "markdown",
   "metadata": {},
   "source": [
    "### 1.1 Literature review of the compound (<500 words)"
   ]
  },
  {
   "cell_type": "markdown",
   "metadata": {},
   "source": [
    "### - Applications of the product (What is the current use? Are there any potential new uses?)\n",
    "Psilocybin is a bioactive alkaloid derived from several mushrooms of the genus Psilocybe[1]. The use of the compound can be dated as back as to 2000 BC in north africa and mexico and has been used  for recreational and spiritual purposes because of its psychedelic effects. Psilocybin can cross the blood brain barrier and act on the central nerve system, and alter mood, consciousness and cognition[2]. \n",
    "Recently, Psilocybin has demonstrated efficient treatment of several different disorders including, alcoholism, tobacco addiction, depression and anxiety. At the time of writing 47 clinical studies are being conducted with a majority of them being focused on treating depression[2, 3]. Some of the present studies are also researching the potential neurodegenerative effect of psilocybin in treatment of Alzheimer's disease. If these clinical trials show successful results psilocybin could become a potential player in the pharmaceutical market. \n",
    "\n",
    "### - Evaluation of market potential (to the best of your ability)\n",
    "The Data Bridge Market Research has recently published a study on the psychedelic drugs market, forecasting its compound annual growth rate (CAGR) of 16.3%, with applications mainly in mental health. The psychedelic drugs market is expected to reach USD 6,859.95 billion by 2027 from USD 2,077.9 billion in 2019 [1]. Although the global antidepressants market was valued at $13,775 billion at 2016, the CAGR is only projected to be 2.1% from the period of 2017 to 2023, which shows that the psychedelic drugs market could soon be a lucrative alternative to the established antidepressants market [2].\n",
    "The growth in these markets is fueled by a growing awareness of mental illnesses like depression and anxiety; the lower CAGR for the antidepressant market is likely due to raising concerns about the efficacy and safety profile of antidepressants, and growing number of patent expirations is driving companies to invest in novel alternatives like psychedelics. For example, two widely used anxiety and depression medications Lexapro (escitalopram) and Celexa (citalopram), have been shown to cause side effects such as sweating, sleeplessness, nausea, drowsiness and even bleeding in some cases [3]. Psychedelics, on the other hand, have a high safety profile with only known side effects, and a single treatment of psilocybin lasting 2-6 hours can have anti-depressant and anti-anxiety effects for sometimes several months after treatment. (include safety profile here). Aside from treating mental illness, psilocybin has been shown in limited studies to aid individuals in coping with cancer-related distress and overcoming substance abuse problems [4]. Although psilocybin can be extracted from various psilocybe mushroom species, the psilocybin and psilocin concentration is 0.2-1% of dry weight, and is therefore not a commercially viable option [5]. \n",
    "\n",
    "### - Biosynthetic pathway/gene\n",
    "The biosynthesis of psilocybin involves enzymatic steps by the following enzymes: PsiD, PsiH,PsiK and PsiM. The first step in the pathway is catalyzed by the enzymes PsiD and PsiH. Here the precursor L‐tryptophan is decarboxylated by PsiD into tryptamine and  then the monooxygenase PsiH hydroxylates the C-4, yielding 4-hydroxytryptamine. The second step in pathway is mediated by a PsiK and here 4-hydroxytryptophan is phosphorylated into norbaeocystin (4-hydroxytryptophan-4-phosohat). The last step of the biosynthesis is made by PsiM which methylates the amine group twice making it a tertiary amine. The last methylation step is regenerated through the SAM salvage cycle and is therefore important for the production of psilocybin.  "
   ]
  },
  {
   "cell_type": "markdown",
   "metadata": {},
   "source": [
    "![Biosynthetic pathway of Psilocybin](Biosynthetic_pathway_of_psilocybin.png \"##Biosynthetic pathway of Psilocybin\")\n"
   ]
  },
  {
   "cell_type": "markdown",
   "metadata": {},
   "source": [
    "## 1.2 Literature review of the cell factory (<500 words)"
   ]
  },
  {
   "cell_type": "markdown",
   "metadata": {},
   "source": [
    "## 2. Problem definition (<300 words)"
   ]
  },
  {
   "cell_type": "markdown",
   "metadata": {},
   "source": [
    "## 3. *If Project category I:* Reconstruction of a new GSM for your cell factory host of interest (<1500 words)"
   ]
  },
  {
   "cell_type": "markdown",
   "metadata": {},
   "source": [
    "or"
   ]
  },
  {
   "cell_type": "markdown",
   "metadata": {},
   "source": [
    "## 3. *If Project category II:* Selection and assessment of existing GSM (<500 words)"
   ]
  },
  {
   "cell_type": "markdown",
   "metadata": {},
   "source": [
    "## 4. Computer-Aided Cell Factory Engineering (<1500 words if Category II project; <500 words for Category I project)"
   ]
  },
  {
   "cell_type": "markdown",
   "metadata": {},
   "source": [
    "## 5. Discussion (<500 words)"
   ]
  },
  {
   "cell_type": "markdown",
   "metadata": {},
   "source": [
    "## 6. Conclusion (<200 words)"
   ]
  },
  {
   "cell_type": "markdown",
   "metadata": {},
   "source": [
    "## References\n",
    "Brandl, J., Aguilar-Pontes, M.V., Schäpe, P. et al. A community-driven reconstruction of the Aspergillus niger metabolic network. Fungal Biol Biotechnol 5, 16 (2018). https://doi.org/10.1186/s40694-018-0060-7"
   ]
  },
  {
   "cell_type": "code",
   "execution_count": null,
   "metadata": {},
   "outputs": [],
   "source": []
  }
 ],
 "metadata": {
  "kernelspec": {
   "display_name": "python3.6",
   "language": "python",
   "name": "python3.6"
  },
  "language_info": {
   "codemirror_mode": {
    "name": "ipython",
    "version": 3
   },
   "file_extension": ".py",
   "mimetype": "text/x-python",
   "name": "python",
   "nbconvert_exporter": "python",
   "pygments_lexer": "ipython3",
   "version": "3.6.12"
  }
 },
 "nbformat": 4,
 "nbformat_minor": 4
}
