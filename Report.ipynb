{
 "cells": [
  {
   "cell_type": "code",
   "execution_count": 1,
   "metadata": {},
   "outputs": [],
   "source": [
    "from IPython.display import FileLink, FileLinks"
   ]
  },
  {
   "cell_type": "markdown",
   "metadata": {},
   "source": [
    "# Biosynthesis of Psylocybin in <i>Aspergillus niger</i>"
   ]
  },
  {
   "cell_type": "markdown",
   "metadata": {},
   "source": [
    "## 1. Introduction"
   ]
  },
  {
   "cell_type": "markdown",
   "metadata": {},
   "source": [
    "### 1.1 Literature review of the compound (<500 words)"
   ]
  },
  {
   "cell_type": "markdown",
   "metadata": {},
   "source": [
    "#### Applications of the product\n",
    "Psilocybin is a bioactive alkaloid derived from several mushrooms of the genus Psilocybe (James, Robertshaw, Hoskins and Sessa, 2020). The use of the compound can be dated as back as to 2000 BC in north africa and mexico and has been used  for recreational and spiritual purposes because of its psychedelic effects. Psilocybin can cross the blood brain barrier and act on the central nerve system, and alter mood, consciousness and cognition(Mahmood, 2013). \n",
    "Recently, Psilocybin has demonstrated efficient treatment of several different disorders including, alcoholism, tobacco addiction, depression and anxiety. At the time of writing 47 clinical studies are being conducted with a majority of them being focused on treating depression(Mahmood, 2013); (Search of: psilocybin - List Results - ClinicalTrials.gov, 2020). Some of the present studies are also researching the potential neurodegenerative effect of psilocybin in treatment of Alzheimer's disease. If these clinical trials show successful results psilocybin could become a potential player in the pharmaceutical market. \n",
    "\n",
    "#### Evaluation of market potential\n",
    "The Data Bridge Market Research has recently published a study on the psychedelic drugs market, forecasting its compound annual growth rate (CAGR) of 16.3%, with applications mainly in mental health. The psychedelic drugs market is expected to reach USD 6.85 billion by 2027 from USD 2.08 billion in 2019 (Psychedelic Drugs Market 2020). Although the global antidepressants market was valued at USD 13.78 billion at 2016, the CAGR is only projected to be 2.1% from the period of 2017 to 2023, which shows that the psychedelic drugs market could soon be a lucrative alternative to the established antidepressants market [2].\n",
    "The growth in these markets is fueled by a growing awareness of mental illnesses like depression and anxiety; the lower CAGR for the antidepressant market is likely due to raising concerns about the efficacy and safety profile of antidepressants, and growing number of patent expirations is driving companies to invest in novel alternatives like psychedelics. For example, two widely used anxiety and depression medications Lexapro (escitalopram) and Celexa (citalopram), have been shown to cause side effects such as sweating, sleeplessness, nausea, drowsiness and even bleeding in some cases [3]. Psychedelics, on the other hand, have a high safety profile with only known side effects, and a single treatment of psilocybin lasting 2-6 hours can have anti-depressant and anti-anxiety effects for sometimes several months after treatment. (include safety profile here). Aside from treating mental illness, psilocybin has been shown in limited studies to aid individuals in coping with cancer-related distress and overcoming substance abuse problems (Johnson, 2018). Although psilocybin can be extracted from various psilocybe mushroom species, the psilocybin and psilocin concentration is 0.2-1% of dry weight, and is therefore not a commercially viable option (N. Milne et al, 2020). \n",
    "\n",
    "#### Biosynthetic pathway/gene\n",
    "The biosynthesis of psilocybin involves enzymatic steps by the following enzymes: PsiD, PsiH,PsiK and PsiM (Fricke, Blei and Hoffmeister, 2017). The first step in the pathway is catalyzed by the enzymes PsiD and PsiH. Here the precursor L‐tryptophan is decarboxylated by PsiD into tryptamine and  then the monooxygenase PsiH hydroxylates the C-4, yielding 4-hydroxytryptamine. The second step in pathway is mediated by a PsiK and here 4-hydroxytryptophan is phosphorylated into norbaeocystin (4-hydroxytryptophan-4-phosohat). The last step of the biosynthesis is made by PsiM which methylates the amine group twice making it a tertiary amine. The last methylation step is regenerated through the SAM salvage cycle and is therefore important for the production of psilocybin(Fricke, Blei and Hoffmeister, 2017).  "
   ]
  },
  {
   "cell_type": "markdown",
   "metadata": {},
   "source": [
    "![Biosynthetic pathway of Psilocybin](Pics/biosynthetic_pathway_psilocybin1.png \"Biosynthetic pathway of psilocybin\") "
   ]
  },
  {
   "cell_type": "markdown",
   "metadata": {},
   "source": [
    "Fig 1. The biosynthetic pathway of Psilocybin. Adapted from (Fricke, Blei and Hoffmeister, 2017)\n"
   ]
  },
  {
   "cell_type": "markdown",
   "metadata": {},
   "source": [
    "## 1.2 Literature review of the cell factory (<500 words)\n",
    "#### The factory used in this report - introduction to Aspergillus niger\n",
    "In this report we have chosen to work with cell factory - Aspergillus niger (A. niger). Below is shown a picture of A. niger grown on different media. It shows the many forms A. niger is able to take. These forms or morphologies give A. niger advantages and disadvantages. \n",
    "\n",
    "![Biosynthetic pathway of Psilocybin](Pics/Aspergillus.png \"Aspergillus on different media\") \n",
    "\n",
    "Fig 2. Aspergillus niger grown on Yeast Extract Peptone Dextrose (YPD), Transformation Media (TM), Creatine Sucrose Agar (CREA) and Czepek Yeast Extract Agar (CYA). <i>Pro tip: the picture is alot nicer if you use the white jupyterlab theme</i>. \n",
    "\n",
    "#### General advantages\n",
    "A. niger has a great reputation for expression of products of industrial and commercial interest, such as proteins, enzymes and secondary metabolites (SMs), including therapeutics and drugs(Richter et al., 2014). A. niger is also commonly used for expression of heterologous proteins.\n",
    "A. niger has a sophisticated export machinery in the hyphal tips called “spitzenkörper”. The spitzenkörper is a collection of vesicles containing proteins, metabolites and other intracellular components to be secreted by the fungus into the extracellular space and can be hijacked to export products of interest to decrease downstream processing costs.Aspergillus niger is very good at making secondary metabolites at a affordable price which is emphazised by the fact that it produces more citric acid than by fermentation than any other procution of organic acids by fermentation (V. Meyer et al, 2016). \n",
    "\n",
    "#### General disadvantages\n",
    "In an industrial setting, filamentous fungi branch into the fermentation tank. This increases viscosity and limits oxygen transfer. Ultimately this can stress the cells and in some cases it can lead to decreased productivity. Some other disadvantages are found in the fact that A. niger despite being an industrial workhorse it is also less studied than the yeast Saccharomyces cerevisiae. A niger also produces more unwanted metabolites than S. cerevisiae, which can make downstream processing more cumbersome. Less genetic engineering tools are available for optimizing production of the A. niger.  However, this is being addressed and the state of the art genetic engineering tool, CRISPR, Clustered Regularly Interspaced Short Palindromic Repeats, with the CRISPR associated proteins, Cas9 and Cpf1, has recently been adapted and to the repertoar of tools (Nødvig, Nielsen, Kogle and Mortensen, 2015);(Vanegas, Jarczynska, Strucko and Mortensen, 2019).\n",
    "\n",
    "#### Suitability of the cell factory for the product\n",
    "The Aspergillus (ascomycete) and Psilocybe (basidiomycete) genuses are close relatives in the fungal kingdom. This makes A. niger a possible great candidate for hosting the psilocybin pathway. As mentioned above, A. niger has a great secretory pathway utilizing the spitzenkörper. Hijacking the spitzenkörper could allow for increased product secretion to the supernatant and therefore also increase the product accessibility."
   ]
  },
  {
   "cell_type": "markdown",
   "metadata": {},
   "source": [
    "## 2. Problem definition (<300 words)\n",
    "\n",
    "\n",
    "Currently psilocybin production depends on chemical synthesis, which is a costly and laborious production process (Milne et al., 2020). In this report we want to examine the feasibility of a different production mechanism/route for psilocybin production, one employing heterologous production in A. niger. We will perform this assessment in silico using the genome scale metabolic model (iJB1325) for the industrially relevant strain ATCC1015 (Brandl et al., 2018). The psilocybin pathway shown in figure 1 will be added to the GSM, after which we will use different computational methods to identify metabolic changes (as well as other types of changes) that will improve the production of psilocybin.\n",
    "\n",
    "Building a cell factory capable of producing Psilocybin will open a new routes for treatment of severe disseases and therefore a solid business. \n",
    "In order to have a successful production platform, the fermentation process needs to result in adequate yields, productivity and titer. First of all, we want to focus on achieving a high yield, which is the most crucial fermentation metric in order to make a viable production. Regardless, we must ensure that the metabolically engineered A. niger has a reasonable growth rate and titer, in order for the production to be economically viable. \n",
    "\n",
    "Compared to chemical synthesis, fermentation has the potential to be a more sustainable as well as a more economic manufacturing process, as it does not require extensive use of chemicals (is this correct? regarding extensive use of chemicals), and can potentially utilize a cheap waste product hydrolysate as feedstock (lignocellulosic biomass). With the still increasing human population and the reduction in arable land as a consequence of climate change, using a waste product hydrolysate is of great importance since it is avoiding the issue of indirect land use change.\n"
   ]
  },
  {
   "cell_type": "markdown",
   "metadata": {},
   "source": [
    "## 3. *If Project category II:* Selection and assessment of existing GSM (<500 words)\n",
    "\n",
    "Various industrial workhorse strains exist of A. niger, where some of the most common ones are ATCC 1015, used in the production of secondary metabolites, such as citric acid, and CBS 513.88, used for enzyme production []. Since psilocybin is a secondary metabolite ATCC 1015 was chosen as the GSM.\n",
    "One of the existing GSM for A. niger ATCC 1015 (iJB1325) was recently updated with additional information gathered from 876 publications, including 940 reactions, 777 metabolites and 454 genes(Brandl et al., 2018)\n",
    "\n",
    "| Organism/Strain | Model ID | Year published |\n",
    "| :- | -: | :-: |\n",
    "| A.niger/ATCC1015 | 0 | 2018\n",
    "| A.niger/CBS 513.5 | 0 | 2018\n",
    "\n",
    "#### Performance comparison with MEMOTE\n",
    "\n",
    "| A. niger strain | Total score(%) | Total reactions | Total metabolites | Total Genes | Metabolic coverage | Consistency score (%) | Annotation-metabolites score | Annotation-reactions score| \n",
    "|:-:|:-:|:-:|:-:|:-:|:-:|:-:|:-:|:-:|\n",
    "|ATCC 1055| 24 | 2320 | 1818 | 1325 | 1.75 | 42 | 62 | 48 |\n",
    "|CBS 513.88| 24 | 2320 | 1818 | 1375 | 1.69 | 42 | 62 | 48 |\n",
    "\n",
    "The only available models for Aspergillus niger were developed for two different strains, ATCC 1015 and CBS 513.88. They were last updated in 2018, and were based on data gathered from 876 publications. Memote was used to compare the performance of the two available models by running the command $ memote report diff 2018_ATCC1015_GSM.xml 2018_CBS513.88_model.xml, resulting in the index.html (link). Memote does this by running the two stoiochiometric models through a series of tests based on the current community standard.(https://memote.readthedocs.io/en/latest/index.html). The low score was expected due to the high complexity of fungal genomes compared to prokaryotes. Based on A. niger genome data available from KEGG, the gene coverages of the ATCC 1015 and CBS 513.88 models were 1325/10532 (12.6%) and 1373/10532 (13.0%). However, the total reactions\n",
    "and metabolic coverage is high for each model. And the sub-total scores of the model consistency, metabolite annotation, and reaction annotation are sufficient to perform FBA. Although the models were nearly identical, ATCC 1015 model was chosen due to a slightly higher metabolic coverage."
   ]
  },
  {
   "cell_type": "code",
   "execution_count": 15,
   "metadata": {},
   "outputs": [
    {
     "data": {
      "text/html": [
       "<a href='Analysis/index.html' target='_blank'>Analysis/index.html</a><br>"
      ],
      "text/plain": [
       "/home/jovyan/Project/27410-2020-group-project-group13_psilocybin_a-niger/Analysis/index.html"
      ]
     },
     "execution_count": 15,
     "metadata": {},
     "output_type": "execute_result"
    }
   ],
   "source": [
    "FileLink('Analysis/index.html')"
   ]
  },
  {
   "cell_type": "markdown",
   "metadata": {},
   "source": [
    "## 4. Computer-Aided Cell Factory Engineering (<1500 words if Category II project; <500 words for Category I project)\n",
    "\n",
    "Different approaches to improve psilocybin production has been investigated and some show more promising than others. The reacurring strategies implemented have roots in classical metabolic engineering by optimizing flux(overexpressing certain enzymes), increasing precurser supply, investigating feedback resistant enzymes. Approaches such as expressing novel p450 reductase has also shown promising results in Psilocybin titer (N. Milne et al, 2020). Common for these approaches are the that they are NOT founded in computational biology but rather traditional bioengineering.\n",
    "In this report we have focused on adding the Psilocybin pathway to the model and computationally elucidating potential strategies to improve production. The approaches are listed below: \n",
    "\n",
    "\n",
    "| Overview of strategies used in this report |  |  |\n",
    "| :- | -: | :-: |\n",
    "| 1. Strategy Insert the heterologous pathway, calculate yields etc. |  | \n",
    "| 2. Strategy - Media optimization \n",
    "| 3. Strategy - Gene prediction targets\n",
    "| 4. Strategy - Loopless FBA\n",
    "| 5. Strategy - Other\n",
    "\n",
    "\n",
    "### 1. Strategy - Insert the heterologous pathway, calculate yields etc.\n",
    "All metabolites in the psilocybin biosynthetic patway, that does not appear in the model, were added along with the reactions they occur in.\n",
    "\n",
    "| Metabolites added | Metabolite ID|\n",
    "| :- | -: |\n",
    "| Tryptamine | TRYP | \n",
    "| Hydroxytryptamine | _4HTRYP | \n",
    "| Norbaeocystin | NBC |\n",
    "| Psilocybin | psi | \n",
    "| S-adenosyl-L-methionine | SAM |\n",
    "| S-adenosyl-L-homocysteine| SAH |\n",
    "| Psilocin | psii |\n",
    "\n",
    "\n",
    "<br>\n",
    "\n",
    "| Reactions added | Reaction ID|\n",
    "| :- | -: |\n",
    "| L-tryptophan decarboxylase | psiD | \n",
    "| Tryptamine 4-monooxygenase | psiH | \n",
    "| 4-hydroxytryptamine kinase | psiK |\n",
    "| Psilocybin synthase | psiM | \n",
    "| Dephosphorylation | pho |\n",
    "| Psilocybin kinase | psiK2* |\n",
    "\n",
    "*psiK2 is the same enzyme as psiK. In this case, psiK phopshorylates 4-hydroxytryptamine, where psiK2 phosphrylates psilosin."
   ]
  },
  {
   "cell_type": "markdown",
   "metadata": {},
   "source": [
    "The model can be found in the link below."
   ]
  },
  {
   "cell_type": "code",
   "execution_count": 6,
   "metadata": {},
   "outputs": [
    {
     "data": {
      "text/html": [
       "<a href='Analysis/01-model.ipynb' target='_blank'>Analysis/01-model.ipynb</a><br>"
      ],
      "text/plain": [
       "/home/jovyan/Project/27410-2020-group-project-group13_psilocybin_a-niger/Analysis/01-model.ipynb"
      ]
     },
     "execution_count": 6,
     "metadata": {},
     "output_type": "execute_result"
    }
   ],
   "source": [
    "FileLink('Analysis/01-model.ipynb')"
   ]
  },
  {
   "cell_type": "markdown",
   "metadata": {},
   "source": [
    "### 2. Strategy - Media optimization \n",
    "\n",
    "The default media of the model is supplying glucose as well as the most necessary/critical elements. However, fungal fermentation can be run with Yeast Extract Peptone Dextrose (YEPD), in order to optimize growth and production. Therefore, we have added some additional nutrients so the media will mimic the YEPD media, namely the 18 amino acids present in yeast extract, as well as zinc and iron (the trace elements magnesium, manganese, chromium, cobalt, strontium could not be found in the model). Furthermore, the glucose content in the media was increased to 20 (unit). Using the YEPD media the maximum theoretical biomass productivity is increased with a factor 17, while the maximum theoretical productivity of psilocybin production is increased with a factor 19. The maximum theoretical yield using the YEPD media decreases from 0.3079 mmol/mmol (using the basic media) to 0.2993 mmol/mmol. Although this is a small reduction in yield, the YEPD media is still favored, since it brings about a large increase in productivity (both regarding the biomass (OBS tjek om dette er rigtigt Thilde) and the psilocybin production). Furthermore, the required minimal yield in order to run a viable psilocybin manufacturing company is much smaller (maybe need to justify this with numbers, Thilde can make some numbers), making the small reduction in yield rather insignificant. \n",
    "\n",
    "An analysis of the impact of using various mediums (glucose, succinate, fructose, fumarate, glutamine, glutamate, lactose, maltose, pyruvate) on psilocybin production, revealed that glucose and fructose were the optimal carbon sources. Therefore, we will keep glucose as the main carbon source.\n",
    "\n",
    "The phenotype phase plane analysis not surprisingly revealed that there is a positive linear relationship between glucose content in the media and the biomass flux.The same applies for the relationship between the psiM reaction flux (producing psilocybin) and glucose, and so the glucose level in the media is kept at 20 (unit). (Skal der stå mere her? + skal jeg tjekke med nogle af aminosyrerne?) However, note that the media concentrations in the model might not reflect the actual concentrations in YEPD media made with a standard recipe."
   ]
  },
  {
   "cell_type": "code",
   "execution_count": 8,
   "metadata": {},
   "outputs": [
    {
     "data": {
      "text/html": [
       "<a href='Analysis/Medium_significance.ipynb' target='_blank'>Analysis/Medium_significance.ipynb</a><br>"
      ],
      "text/plain": [
       "/home/jovyan/Project/27410-2020-group-project-group13_psilocybin_a-niger/Analysis/Medium_significance.ipynb"
      ]
     },
     "execution_count": 8,
     "metadata": {},
     "output_type": "execute_result"
    }
   ],
   "source": [
    "FileLink('Analysis/Medium_significance.ipynb')"
   ]
  },
  {
   "cell_type": "code",
   "execution_count": 10,
   "metadata": {},
   "outputs": [
    {
     "data": {
      "text/html": [
       "<a href='Analysis/Maximum_theoretical_yield_psilocybin.ipynb' target='_blank'>Analysis/Maximum_theoretical_yield_psilocybin.ipynb</a><br>"
      ],
      "text/plain": [
       "/home/jovyan/Project/27410-2020-group-project-group13_psilocybin_a-niger/Analysis/Maximum_theoretical_yield_psilocybin.ipynb"
      ]
     },
     "execution_count": 10,
     "metadata": {},
     "output_type": "execute_result"
    }
   ],
   "source": [
    "FileLink('Analysis/Maximum_theoretical_yield_psilocybin.ipynb')"
   ]
  },
  {
   "cell_type": "markdown",
   "metadata": {},
   "source": [
    "### 3. Compute over-expression and down-regulation targets:\n",
    "Gene regulation is a powerfull way of optimizeng a cell factory and here we have found used the Flux scanning based on enforced objective flux (FSEOF) method to identify amplification targets to make a product of interest. FSEOF method identifies metabolic fluxes that are increased when a product is forced. The analysis presented shows 95 possible targets for gene regulation. The targets are represented in the following digram shows the possible targets where the positive numbers indicate up-regulation and negative indicate down-regulation (due to size limitation the diagram legend is hidden but can be found in the analysis part of this report). \n",
    "\n",
    "Analysis of these up-/regulation targets gave rise to a top 10 of genes to upregulate to increase the biosynthesis of psilocybin. The 10 enzymes are present in two major categories for psilocybin production: Methylation (SAH and SAM production) and Shikimate (Tryptophan production), as seen in the table below.\n",
    "\n",
    "| Methylation reactions | | | Shikimate pathway| |\n",
    "| :- | :- |--- | :- | :- |\n",
    "| r362 | Methionine synthase | | r367 | 3-deoxy-7-phosphoheptulonate synthase | \n",
    "| r96 |  Methylenetetrahydrofolate reductase | | r368 | pentafunctional arom polypeptide | \n",
    "| r363 | S-adenosylmethionine synthetase | | r369 | Catabolic 3-dehydroquinase |\n",
    "| r365 | S-adenosyl-l-homocysteine hydrolase | | r371 | Quinate 5-dehydrogenase | \n",
    "| r531 | Adenosine kinase  | | r373 | Shikimate kinase I, II |\n",
    "\n",
    "These results are super interesting since some of them have been investigated in the litterature while others would be novel ivestigation targets for psilocybin production. \n"
   ]
  },
  {
   "cell_type": "code",
   "execution_count": 11,
   "metadata": {},
   "outputs": [
    {
     "data": {
      "text/html": [
       "<a href='Analysis/Gene_prediction_targets.ipynb' target='_blank'>Analysis/Gene_prediction_targets.ipynb</a><br>"
      ],
      "text/plain": [
       "/home/jovyan/Project/27410-2020-group-project-group13_psilocybin_a-niger/Analysis/Gene_prediction_targets.ipynb"
      ]
     },
     "execution_count": 11,
     "metadata": {},
     "output_type": "execute_result"
    }
   ],
   "source": [
    "FileLink('Analysis/Gene_prediction_targets.ipynb')"
   ]
  },
  {
   "cell_type": "markdown",
   "metadata": {},
   "source": [
    "### 4. Strategy - Loopless FBA\n",
    "\n",
    "Put it in..."
   ]
  },
  {
   "cell_type": "code",
   "execution_count": 12,
   "metadata": {},
   "outputs": [
    {
     "data": {
      "text/html": [
       "<a href='Analysis/02-DFBA.ipynb' target='_blank'>Analysis/02-DFBA.ipynb</a><br>"
      ],
      "text/plain": [
       "/home/jovyan/Project/27410-2020-group-project-group13_psilocybin_a-niger/Analysis/02-DFBA.ipynb"
      ]
     },
     "execution_count": 12,
     "metadata": {},
     "output_type": "execute_result"
    }
   ],
   "source": [
    "FileLink('Analysis/02-DFBA.ipynb')"
   ]
  },
  {
   "cell_type": "markdown",
   "metadata": {},
   "source": [
    "### 5. Other applied strategies\n",
    "#### Pathway visualization\n",
    "An attempt was made to use S. cerevisiae as the model for visualization with escher, due to it being the closest available mapped model to Aspergillus available. Unfortunately, the reactions were named differently in our Aspergillus model, and therefore S. cerevisiae could not be used, and model visualization was not possible. \n",
    "\n",
    "#### Gene knockout strategies\n",
    "Using a genetic algorithm, Optgene determines which reaction knockouts will increase the production flux of a target reaction. (https://opencobra.github.io/cobratoolbox/stable/tutorials/tutorialOptGene.html). Unfortunately, Optgene did not reveal any gene knockouts that could improve the production of psilocybin in our model. Tryptophan is the precursor to psilocybin, and due to it being an essential amino-acid for biomass growth, gene-knockout strategies will likely have no effect on tryptophan production and subsequent psilocybin production. If the model had included genes that expressed proteins that inhibit the secretion of psilocybin, then Optgene may have provided some valuable results."
   ]
  },
  {
   "cell_type": "code",
   "execution_count": 13,
   "metadata": {},
   "outputs": [
    {
     "data": {
      "text/html": [
       "<a href='Analysis/Optgene.ipynb' target='_blank'>Analysis/Optgene.ipynb</a><br>"
      ],
      "text/plain": [
       "/home/jovyan/Project/27410-2020-group-project-group13_psilocybin_a-niger/Analysis/Optgene.ipynb"
      ]
     },
     "execution_count": 13,
     "metadata": {},
     "output_type": "execute_result"
    }
   ],
   "source": [
    "FileLink('Analysis/Optgene.ipynb')"
   ]
  },
  {
   "cell_type": "markdown",
   "metadata": {},
   "source": [
    "#### Computation of co-factor swap targets:\n",
    "Cofactor swapping [NAD, NADH] for [NADP, NADPH] had no effect on psilocybin production. This is likely because precursor pathways leading to the production of the psilocybin precursor tryptophan require both NADH and NADPH.  However, if the model had been complete, then this cofactor swap would likely have been beneficial. The cytochrome P450 containing monooxygenase (PcPsiH) enzyme expressed in A. niger is required for the conversion of tryptamine to 4-hydroxytryptamine, and is dependent on cytochrome P450 reductase (CPR) to reduce it to its active form. CPR transfers uses NADPH for electron transfer to PcPsiH, and therefore increasing the pool of available NADPH through cofactor swapping could potentially increase the rate of conversion of tryptamine to 4-hydroxytryptamine, and lead to higher psilocybin production. (https://www.sciencedirect.com/science/article/pii/S109671761930401X)"
   ]
  },
  {
   "cell_type": "code",
   "execution_count": 14,
   "metadata": {},
   "outputs": [
    {
     "data": {
      "text/html": [
       "<a href='Analysis/Cofactor_swap_targets.ipynb' target='_blank'>Analysis/Cofactor_swap_targets.ipynb</a><br>"
      ],
      "text/plain": [
       "/home/jovyan/Project/27410-2020-group-project-group13_psilocybin_a-niger/Analysis/Cofactor_swap_targets.ipynb"
      ]
     },
     "execution_count": 14,
     "metadata": {},
     "output_type": "execute_result"
    }
   ],
   "source": [
    "FileLink('Analysis/Cofactor_swap_targets.ipynb')"
   ]
  },
  {
   "cell_type": "markdown",
   "metadata": {},
   "source": [
    "## 5. Discussion (<500 words)"
   ]
  },
  {
   "cell_type": "markdown",
   "metadata": {},
   "source": [
    "## 6. Conclusion (<200 words)"
   ]
  },
  {
   "cell_type": "markdown",
   "metadata": {},
   "source": [
    "## References"
   ]
  },
  {
   "cell_type": "markdown",
   "metadata": {},
   "source": [
    "1.\n",
    "Brandl J, Aguilar-Pontes MV, Schäpe P, et al. A community-driven reconstruction of the Aspergillus niger metabolic network. Fungal Biol Biotechnol. 2018;5. doi:10.1186/s40694-018-0060-7\n",
    "\n",
    "2.\n",
    "Nødvig CS, Nielsen JB, Kogle ME, Mortensen UH. A CRISPR-Cas9 System for Genetic Engineering of Filamentous Fungi. PLOS ONE. 2015;10(7):e0133085. doi:10.1371/journal.pone.0133085\n",
    "\n",
    "3.\n",
    "Mahmood ZA. Bioactive Alkaloids from Fungi: Psilocybin. In: Ramawat KG, Mérillon J-M, eds. Natural Products. Springer Berlin Heidelberg; 2013:523-552. doi:10.1007/978-3-642-22144-6_19\n",
    "\n",
    "4.\n",
    "Mahmood - 2013 - Bioactive Alkaloids from Fungi Psilocybin.pdf. Accessed November 17, 2020. http://production.datastore.cvt.dk/filestore?oid=5d1e232bd9001d2d96637ee1&targetid=5d1e232bd9001d2d96637ee3\n",
    "\n",
    "5.\n",
    "Andersen MR, Salazar MP, Schaap PJ, et al. Comparative genomics of citric-acid-producing Aspergillus niger ATCC 1015 versus enzyme-producing CBS 513.88. Genome Res. 2011;21(6):885-897. doi:10.1101/gr.112169.110\n",
    "\n",
    "6.\n",
    "Vanegas KG, Jarczynska ZD, Strucko T, Mortensen UH. Cpf1 enables fast and efficient genome editing in Aspergilli. Fungal Biol Biotechnol. 2019;6(1):6. doi:10.1186/s40694-019-0069-6\n",
    "\n",
    "7.\n",
    "Richter L, Wanka F, Boecker S, et al. Engineering of Aspergillus niger for the production of secondary metabolites. Fungal Biology and Biotechnology. 2014;1(1):4. doi:10.1186/s40694-014-0004-9\n",
    "\n",
    "8.\n",
    "Milne N, Thomsen P, Mølgaard Knudsen N, Rubaszka P, Kristensen M, Borodina I. Metabolic engineering of Saccharomyces cerevisiae for the de novo production of psilocybin and related tryptamine derivatives. Metabolic Engineering. 2020;60:25-36. doi:10.1016/j.ymben.2019.12.007\n",
    "\n",
    "9.\n",
    "Psilocybin occasioned mystical‐type experiences - James - 2020 - Human Psychopharmacology: Clinical and Experimental - Wiley Online Library. Accessed November 17, 2020. https://onlinelibrary-wiley-com.proxy.findit.dtu.dk/doi/full/10.1002/hup.2742\n",
    "\n",
    "10.\n",
    "Research DBM. Psychedelic Drugs Market 2020 to Grow at +16.3% CAGR by 2027. Published June 6, 2020. Accessed November 17, 2020. https://www.openpr.com/news/2068844/psychedelic-drugs-market-2020-to-grow-at-16-3-cagr-by-2027\n",
    "\n",
    "11.\n",
    "Hibicke M, Landry AN, Kramer HM, Talman ZK, Nichols CD. Psychedelics, but Not Ketamine, Produce Persistent Antidepressant-like Effects in a Rodent Experimental System for the Study of Depression. ACS Chem Neurosci. 2020;11(6):864-871. doi:10.1021/acschemneuro.9b00493\n",
    "\n",
    "12.\n",
    "Johnson MW, Griffiths RR, Hendricks PS, Henningfield JE. The abuse potential of medical psilocybin according to the 8 factors of the Controlled Substances Act. Neuropharmacology. 2018;142:143-166. doi:10.1016/j.neuropharm.2018.05.012"
   ]
  }
 ],
 "metadata": {
  "kernelspec": {
   "display_name": "python3.6",
   "language": "python",
   "name": "python3.6"
  },
  "language_info": {
   "codemirror_mode": {
    "name": "ipython",
    "version": 3
   },
   "file_extension": ".py",
   "mimetype": "text/x-python",
   "name": "python",
   "nbconvert_exporter": "python",
   "pygments_lexer": "ipython3",
   "version": "3.6.12"
  }
 },
 "nbformat": 4,
 "nbformat_minor": 4
}
