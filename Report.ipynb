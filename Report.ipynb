{
 "cells": [
  {
   "cell_type": "code",
   "execution_count": 1,
   "metadata": {},
   "outputs": [],
   "source": [
    "from IPython.display import FileLink, FileLinks"
   ]
  },
  {
   "cell_type": "markdown",
   "metadata": {},
   "source": [
    "# Biosynthesis of Psylocybin in <i>Aspergillus niger</i>"
   ]
  },
  {
   "cell_type": "markdown",
   "metadata": {},
   "source": [
    "## 1. Introduction"
   ]
  },
  {
   "cell_type": "markdown",
   "metadata": {},
   "source": [
    "### 1.1 Literature review of the compound"
   ]
  },
  {
   "cell_type": "markdown",
   "metadata": {},
   "source": [
    "#### Applications of the product\n",
    "Psilocybin is a bioactive alkaloid derived from several mushrooms of the genus *Psilocybe* (James, Robertshaw, Hoskins and Sessa, 2020). The use of the compound can be dated back to 2000 BC in North Africa and Mexico and its psychedelic effects have been used for recreational and spiritual purposes. Psilocybin can cross the blood brain barrier and act on the central nerve system and alter mood, consciousness, and cognition (Mahmood, 2013). \n",
    "\n",
    "Recently, psilocybin has demonstrated efficient treatment of several different disorders including, alcoholism, tobacco addiction, depression, and anxiety. At the time of writing, 47 clinical studies are being conducted with a majority of them focused on treating depression (Mahmood, 2013; ClinicalTrials.gov, 2020). Some of the present studies are also researching the potential neurorestorative effect of psilocybin in treatment of Alzheimer's disease. If these clinical trials show successful results, psilocybin could become a potential player in the pharmaceutical market. \n",
    "​\n",
    "#### Evaluation of market potential\n",
    "The compound annual growth rate (CAGR) of the psychedelic drugs market is forecasted at 16.3%, with applications mainly in mental health. The psychedelic drugs market is expected to reach USD 6.85 billion by 2027 from USD 2.08 billion in 2019 (Psychedelic Drugs Market 2020). Although the global antidepressants market was valued at USD 13.75 billion at 2016, the CAGR is only projected to be 2.1% from the period of 2017 to 2023, which shows that the psychedelic drugs market could soon be a lucrative investment alternative to the established antidepressants market (Data Bridge Market Research, 2020).\n",
    "The growth in these markets is fueled by an increasing demand for safer alternative therapies to antidepressants for anxiety and depression and other mental health issues, growing evidence of its efficacy for treating mental health disorders, and the approval for several clinical trials (Publishing, 2020; Usona Institute, 2020). Market potential is also supported by the approval in the US for other psychedelic therapies such as a ketamine analogue made by the large pharmaceutical company Johnson & Johnson (US FDA, 2020). Although psilocybin can be extracted from various *Psilocybe* mushroom species, the psilocybin and psilocin concentration is 0.2-1% of dry weight, and is therefore not a commercially viable option. Therefore the continual growth in the psilocybin market will depend on other methods of production, including the use of cell factories (N. Milne et al, 2020). \n",
    "​\n",
    "#### Biosynthetic pathway/genes\n",
    "The biosynthesis of psilocybin involves enzymatic steps by the following enzymes: L-tryptophan decarboxylase (PsiD), tryptamine 4-monooxygenase (PsiH), 4-hydroxytryptamine kinase (PsiK) and psilocybin synthase (PsiM) (Fricke, Blei and Hoffmeister, 2017). The first step in the pathway is catalyzed by the enzymes PsiD and PsiH. Here the precursor L‐tryptophan is decarboxylated by PsiD into tryptamine and then the monooxygenase PsiH hydroxylates the C-4, yielding 4-hydroxytryptamine. The second step in pathway is mediated by a PsiK and here 4-hydroxytryptophan is phosphorylated into norbaeocystin (4-hydroxytryptophan-4-phosohate). The last step of the biosynthesis is carried out by PsiM, which methylates the amine group twice, making it a tertiary amine. The last methylation step is regenerated through the S-adenosylmethionine (SAM) salvage cycle and is therefore important for the production of psilocybin (Fricke, Blei and Hoffmeister, 2017). Lastly, Psilocybin can spontaneously degrade into psilocin which can pose difficulties in downstream processing. Furthermore, the reaction can also be reversed so psilocin is phosphorylated by PsiK (figure 1).\n"
   ]
  },
  {
   "cell_type": "markdown",
   "metadata": {},
   "source": [
    "![Biosynthetic pathway of Psilocybin](Pics/biosynthetic_pathway_psilocybin1.png \"Biosynthetic pathway of psilocybin\") "
   ]
  },
  {
   "cell_type": "markdown",
   "metadata": {},
   "source": [
    "Figure 1. The biosynthetic pathway of Psilocybin. Adapted from (Fricke, Blei and Hoffmeister, 2017)\n"
   ]
  },
  {
   "cell_type": "markdown",
   "metadata": {},
   "source": [
    "## 1.2 Literature review of the cell factory\n",
    "#### The factory used in this report - introduction to Aspergillus niger\n",
    "The cell factory utilized in this report is *Aspergillus niger*. Its morphologies are shown in figure 2, and each provides advantages and disadvantages. \n",
    "\n",
    "![Biosynthetic pathway of Psilocybin](Pics/Aspergillus.png \"Aspergillus on different media\") \n",
    "\n",
    "Figure 2. *A. niger* grown on Yeast Extract Peptone Dextrose (YEPD), Transformation Media (TM), Creatine Sucrose Agar (CREA) and Czepek Yeast Extract Agar (CYA). <i>Pro tip: the picture is a lot nicer if you use the white jupyterlab theme</i>. \n",
    "\n",
    "#### General advantages\n",
    "*A. niger* has a reputation for producing products of industrial and commercial interest, such as proteins, enzymes and secondary metabolites (SMs), including therapeutics (Richter et al., 2014). Compared to other conventional production hosts, *A. niger* has a secretion capacity that far exceeds any other (Ten Buren et al., 2014). *A. niger*, like other filamentous fungi, its thread-like mycelia allow it to colonize substrates in nature with the least amount of biomass needed. This inherent ability makes filamentous fungi especifically good at secreting acids and digestive proteins to their environment which has been exploited by biotechnology for centuries. Its high metabolite secretion ability also makes downstream processing easier and cheaper. This sophisticated export machinery is located in the hyphal tips, called “spitzenkörper”, and is a collection of vesicles containing proteins, metabolites and other intracellular components to be secreted by the fungus into the extracellular space. *A niger* is great at making SMs at an affordable price, which is emphasized by the fact that it produces more citric acid than by fermentation than any other production of organic acids by fermentation (V. Meyer et al, 2016). Hijacking the spitzenkörper could allow for increased product secretion to the medium and therefore also increase the product accessibility.\n",
    "\n",
    "#### General disadvantages\n",
    "In an industrial setting, filamentous fungi branches inside the fermentation tank. This increases viscosity and limits oxygen transfer. Ultimately this can stress the cells and in some cases lead to decreased productivity (Arnau, Yaver and Hjort, 2020). Another disadvantage is that *A. niger* is less studied than the yeast *Saccharomyces cerevisiae*, despite being an industrial workhorse. \n",
    "\n",
    "Less genetic engineering tools are available for *A. niger*. However, this is being addressed and the state of the art genetic engineering tool Clustered Regularly Interspaced Short Palindromic Repeats (CRISPR) along with the CRISPR associated proteins, Cas9 and Cpf1, has recently been adapted to *A. niger* (Nødvig, Nielsen, Kogle and Mortensen, 2015; Vanegas, Jarczynska, Strucko and Mortensen, 2019).\n",
    "\n",
    "#### Suitability of the cell factory for the product\n",
    "The suitability of the cell factory to produce psilocybin lies in the advantages described above, which include it’s inherent ability to secrete SMs exemplified by it’s citric acid and lovastatin production (V. Meyer et al, 2016). By using *A. niger* as a production platform, the downstream processes, which are one of the biggest costs in the production of pharmaceuticals, could be limited. Another strength of *A. niger* is that it most likely is able to express a functioning P450 required in the second step of psilocybin biosynthesis, since its close relative, *Aspergillus nidulans*, is able to express fully functioning enzymes. This stands in steep contrast to *Escherichia coli* which is limited to bypass this part of the pathway with expensive substrate because it cannot express functional P450’s (N. Milne et al, 2020). \n",
    "\n",
    "The secretory strength of *A. niger* is, at the same time, a pitfall since it secretes additional SM’s to the medium, but this could be ameliorated through recombinant strategies. An alternative organism to this extent could be *S. cerevisiae* since it secretes a limited amount of SM’s. \n"
   ]
  },
  {
   "cell_type": "markdown",
   "metadata": {},
   "source": [
    "## 2. Problem definition\n",
    "\n",
    "\n",
    "Currently psilocybin production depends on chemical synthesis, which is a costly and laborious production process (Milne et al., 2020). In this report we want to examine the feasibility of a different method for psilocybin production employing heterologous production in *A. niger*. We will perform this assessment in silico using the genome scale metabolic model iJB1325 for the industrially relevant strain ATCC 1015 (Brandl et al., 2018).\n",
    "\n",
    "Compared to chemical synthesis, fermentation has the potential to be a more sustainable as well as a more economical manufacturing process, and can potentially utilize a cheap waste product hydrolysate as feedstock (e.g. lignocellulosic biomass). With the increasing human population and reduction in arable land as a consequence of climate change, using a waste product hydrolysate is of great importance since it  avoids the issue of indirect land use change.\n",
    "\n",
    "In order to have a successful production platform, the fermentation process needs to result in adequate yields, productivity and titer. First of all, we want to focus on achieving a high yield, which is the most crucial fermentation metric in order to make a viable production. Regardless, we must ensure that the metabolically engineered *A. niger* has a reasonable productivity and titer, in order for the production to be economically viable. \n",
    "\n",
    "The psilocybin pathway shown in figure 1 will be added to the GSM, after which we will use different computational methods to identify metabolic changes (as well as other types of changes) that will improve the production of psilocybin. Building a cell factory capable of producing psilocybin will open new routes for treatment of severe diseases and therefore a solid business. "
   ]
  },
  {
   "cell_type": "markdown",
   "metadata": {},
   "source": [
    "## 3. Selection and assessment of existing GSM\n",
    "\n",
    "Various industrial workhorse strains exist of *A. niger*, and some of the most common ones are ATCC 1015, used in the production of secondary metabolites such as citric acid, and CBS 513.88 used for enzyme production (M.R. Andersen et al, 2011). Since psilocybin is a secondary metabolite, ATCC 1015 was chosen as the GSM. One of the existing GSMs for ATCC 1015 (iJB1325) was recently updated with additional information gathered from 876 publications, including 940 reactions, 777 metabolites and 454 genes meaning that in total the model contains 1325 genes, 1818 metabolites, and 2320 reactions (Brandl et al., 2018). As the recently added data is based on data from a high number of publications, it is expected to be correct. However, as the number of genes, metabolites, and reactions are a great deal smaller than in the organism, the model predictions are not expected to be completely accurate.\n",
    "\n",
    "\n",
    "| Organism/Strain | Year published |\n",
    "| :- |  :-: |\n",
    "| *A.niger*/ATCC1015 | 2018 |\n",
    "| *A.niger*/CBS 513.5 | 2018 |\n",
    "\n",
    "#### Performance comparison with MEMOTE\n",
    "\n",
    "| *A. niger* strain | Total score(%) | Total reactions | Total metabolites | Total Genes | Metabolic coverage | Consistency score (%) | Annotation-metabolites score  (%) | Annotation-reactions score (%) | \n",
    "|:-:|:-:|:-:|:-:|:-:|:-:|:-:|:-:|:-:|\n",
    "|ATCC 1055| 24 | 2320 | 1818 | 1325 | 1.75 | 42 | 62 | 48 |\n",
    "|CBS 513.88| 24 | 2320 | 1818 | 1375 | 1.69 | 42 | 62 | 48 |\n",
    "\n",
    "In the event that the CBS 513.88 model was of significantly higher quality then ATCC 1015, memote was used to compare the performance of the two available models by running `memote report diff 2018_ATCC1015_GSM.xml 2018_CBS513.88_model.xml` in the terminal, resulting in the index.html in the link below. Memote does this by running the two stoichiometric models through a series of tests based on the current community standard.\n",
    "\n",
    "The low score was expected due to the high complexity of fungal genomes compared to prokaryotes. Based on *A. niger* genome data available from KEGG, the gene coverages of the ATCC 1015 and CBS 513.88 models were 1325/10532 (12.6%) and 1373/10532 (13.0%). However, the total reactions and metabolic coverage is high for each model. The sub-total scores of the model consistency, metabolite annotation, and reaction annotation are sufficient to perform FBA. Although the models were nearly identical, ATCC 1015 model was confirmed as the best choice due to a slightly higher metabolic coverage.\n",
    "\n",
    "A more recent GSM model (iDU1756) for *A. niger* ATCC 1015 was published (Upton D. et al 2020). The model contains 1756 unique genes, 939 unique metabolites, and 1845 reactions. Upton D. et al compared iDU1756 and iJB1325 and found that iDU1756 contains 734 genes, 174 metabolites and 348 reactions that were not present in iJB1325. Moreover, they found disagreements in 800 of the reactions that the two models shared. These are lack of reversibility, different compartments, different stoichiometries, disagreements in how to balance the reactions, etc. Furthermore, Upton D. et al claim that iJB1325 have some other deficiencies, some of these being the lack of the fumarate reductase, as well as the existence of reactions in iJB1325 that were not already found in vivo in A. niger. Furthermore, they found a reaction in the TCA cycle, which had no allocated flux. Lastly, Upton D. et al. detected phosphate imbalances, which affected the simulations regarding the production of citric acid. Likewise, it might be that one or more important precursor reactions for production of tryptophan (the precursor for the psilocybin pathway) are not modelled correctly in iJB1325. On the other hand, iJB1325 contains 303 genes, 671 metabolites and 772 reactions not present in iDU1756. The advantages to adding this new information to the ATCC 1015 model used in this report is discussed further in Section 5."
   ]
  },
  {
   "cell_type": "code",
   "execution_count": 2,
   "metadata": {},
   "outputs": [
    {
     "data": {
      "text/html": [
       "<a href='Analysis/index.html' target='_blank'>Analysis/index.html</a><br>"
      ],
      "text/plain": [
       "/home/jovyan/27410-2020-group-project-group13_psilocybin_a-niger/Analysis/index.html"
      ]
     },
     "execution_count": 2,
     "metadata": {},
     "output_type": "execute_result"
    }
   ],
   "source": [
    "FileLink('Analysis/index.html')"
   ]
  },
  {
   "cell_type": "markdown",
   "metadata": {},
   "source": [
    "## 4. Computer-Aided Cell Factory Engineering\n",
    " \n",
    "Different approaches to improve psilocybin production have been investigated and some show more promise than others. The recurring strategies implemented have roots in classical metabolic engineering by optimizing flux (overexpressing certain enzymes), increasing precursor supply, and investigating feedback resistant enzymes. Approaches such as expressing novel P450 reductase have also shown promising results in psilocybin titer (N. Milne et al, 2020). These rational engineering approaches are not founded in computational biology but rather traditional bioengineering.\n",
    "In this report we have focused on adding the psilocybin pathway to the model and computationally elucidating potential strategies to improve production. The approaches are listed below: \n",
    " \n",
    " \n",
    "| Overview of strategies used in this report |\n",
    "| :- |\n",
    "| 1. Strategy - Insert the heterologous pathway into the iJB1325 model |\n",
    "| 2. Strategy - Media optimization |\n",
    "| 3. Strategy - Gene prediction targets | \n",
    "| 4. Strategy - Loopless FBA |\n",
    "| 5. Strategy - Other applied strategies |\n",
    " \n",
    " \n",
    "### 1. Strategy - Insert the heterologous pathway into the iJB1325 model\n",
    "To make psilocybin biosynthesis possible, all metabolites in the psilocybin biosynthetic pathway were added along with the reactions they occur in. \n",
    " \n",
    "| Metabolites added | Metabolite ID|\n",
    "| :- | -: |\n",
    "| Tryptamine | TRYP | \n",
    "| Hydroxytryptamine | _4HTRYP | \n",
    "| Norbaeocystin | NBC |\n",
    "| Psilocybin | psi | \n",
    "| S-adenosyl-L-methionine | SAM |\n",
    "| S-adenosyl-L-homocysteine| SAH |\n",
    "| Psilocin | psii |\n",
    " \n",
    " \n",
    "<br>\n",
    " \n",
    "| Reactions added | Reaction ID|\n",
    "| :- | -: |\n",
    "| L-tryptophan decarboxylase | psiD | \n",
    "| Tryptamine 4-monooxygenase | psiH | \n",
    "| 4-hydroxytryptamine kinase | psiK |\n",
    "| Psilocybin synthase | psiM | \n",
    "| Dephosphorylation | pho |\n",
    "| Psilocybin kinase | psiK2* |\n",
    " \n",
    "*psiK2 is the same enzyme as psiK. In this case, psiK phosphorylates 4-hydroxytryptamine, where psiK2 phosphorylates psilosin.\n"
   ]
  },
  {
   "cell_type": "code",
   "execution_count": 3,
   "metadata": {},
   "outputs": [
    {
     "data": {
      "text/html": [
       "<a href='Analysis/01-model.ipynb' target='_blank'>Analysis/01-model.ipynb</a><br>"
      ],
      "text/plain": [
       "/home/jovyan/27410-2020-group-project-group13_psilocybin_a-niger/Analysis/01-model.ipynb"
      ]
     },
     "execution_count": 3,
     "metadata": {},
     "output_type": "execute_result"
    }
   ],
   "source": [
    "FileLink('Analysis/01-model.ipynb')"
   ]
  },
  {
   "cell_type": "markdown",
   "metadata": {},
   "source": [
    "### 2. Strategy - Media optimization \n",
    "\n",
    "The default media of the model is supplying glucose as well as the most essential elements. However, fungal fermentation can be run with YEPD, in order to optimize growth and production. Therefore, we have added some additional nutrients so the media will mimic the YEPD media, namely the 18 amino acids present in yeast extract, as well as zinc and iron (the trace elements magnesium, manganese, chromium, cobalt, strontium could not be found in the model). Furthermore, the glucose uptake rate in the media was increased to 20 mmol* gDW <sup>-1</sup> * h <sup>-1</sup>. Using the YEPD media the maximum theoretical biomass productivity is increased with a factor 17, while the maximum theoretical productivity of psilocybin production is increased with a factor 19 (note that in practice the productivities will not be this high, since these productivities are only reached if all carbon goes to the reaction). The maximum theoretical yield using the YEPD media decreases from 0.3079 mmol * mmol <sup>-1</sup> (using the basic media) to 0.2993 mmol * mmol <sup>-1</sup>. \n",
    "An analysis of the impact of using various mediums (glucose, succinate, fructose, fumarate, glutamine, glutamate, lactose, maltose, pyruvate) on psilocybin production, revealed that glucose and fructose were the optimal mediums. Therefore, we will keep glucose as the main carbon source.\n",
    "The phenotype phase plane analysis, not surprisingly, revealed that there is a positive linear relationship between glucose content in the media and the biomass flux.The same applies for the relationship between the psiM reaction flux (producing psilocybin) and glucose, and so the glucose uptake rate in the media is kept at 20 mmol * gDW <sup>-1</sup> * h <sup>-1</sup>. However, note that the media concentrations in the model might not reflect the actual concentrations in YEPD media made with a standard recipe. \n",
    "\n",
    "\n",
    "|| Minimal Medium | YEPD |\n",
    "|-|:-: | :-:|\n",
    "|Maximum Theoretical Biomass Productivity (h<sup>-1</sup>) |0.9399| 15.115|\n",
    "| Maximum Theoretical Productivity of Psilocybin (mmol * gDW<sup>-1</sup> h<sup>-1</sup>)| 3.0787| 53.867 |\n",
    "| Maximum Theoretical Yield (mmol-psi * mmol-carbon<sup>-1</sup>) | 0.3079 | 0.2992 |"
   ]
  },
  {
   "cell_type": "code",
   "execution_count": 4,
   "metadata": {},
   "outputs": [
    {
     "data": {
      "text/html": [
       "<a href='Analysis/Medium_significance.ipynb' target='_blank'>Analysis/Medium_significance.ipynb</a><br>"
      ],
      "text/plain": [
       "/home/jovyan/27410-2020-group-project-group13_psilocybin_a-niger/Analysis/Medium_significance.ipynb"
      ]
     },
     "execution_count": 4,
     "metadata": {},
     "output_type": "execute_result"
    }
   ],
   "source": [
    "FileLink('Analysis/Medium_significance.ipynb')"
   ]
  },
  {
   "cell_type": "code",
   "execution_count": 5,
   "metadata": {},
   "outputs": [
    {
     "data": {
      "text/html": [
       "<a href='Analysis/Maximum_theoretical_yield_psilocybin.ipynb' target='_blank'>Analysis/Maximum_theoretical_yield_psilocybin.ipynb</a><br>"
      ],
      "text/plain": [
       "/home/jovyan/27410-2020-group-project-group13_psilocybin_a-niger/Analysis/Maximum_theoretical_yield_psilocybin.ipynb"
      ]
     },
     "execution_count": 5,
     "metadata": {},
     "output_type": "execute_result"
    }
   ],
   "source": [
    "FileLink('Analysis/Maximum_theoretical_yield_psilocybin.ipynb')"
   ]
  },
  {
   "cell_type": "markdown",
   "metadata": {},
   "source": [
    "### 3. Compute over-expression and down-regulation targets\n",
    "Gene regulation is a powerful way of optimizing a cell factory and here we have used Flux scanning, which is based on an enforced objective flux (FSEOF) method to identify amplification targets to make a product of interest. The FSEOF method identifies metabolic fluxes that are increased when a product flux is forced. The analysis presented 95 possible targets for gene regulation. The targets are represented in the following diagram, where the positive numbers indicate up-regulation and negative indicate down-regulation.\n",
    " \n",
    "Analysis of these upregulation targets gave rise to a top 10 genes to upregulate to increase the biosynthesis of psilocybin. The 10 enzymes are present in two major categories for psilocybin production: Methylation (SAH and SAM production) and Shikimate (tryptophan production), as seen in the table below.\n",
    " \n",
    "| Methylation reactions | | | Shikimate pathway| |\n",
    "| :- | :- |--- | :- | :- |\n",
    "| r362 | Methionine synthase | | r367 | 3-deoxy-7-phosphoheptulonate synthase | \n",
    "| r96 |  Methylenetetrahydrofolate reductase | | r368 | pentafunctional arom polypeptide | \n",
    "| r363 | S-adenosylmethionine synthetase | | r369 | Catabolic 3-dehydroquinase |\n",
    "| r365 | S-adenosyl-l-homocysteine hydrolase | | r371 | Quinate 5-dehydrogenase | \n",
    "| r531 | Adenosine kinase  | | r373 | Shikimate kinase I, II |\n",
    " \n",
    "These results are significant since some of them have been investigated in the litterature while others could be novel investigation targets for psilocybin production (discussed further in the link below and in the discussion paragraph)."
   ]
  },
  {
   "cell_type": "code",
   "execution_count": 6,
   "metadata": {},
   "outputs": [
    {
     "data": {
      "text/html": [
       "<a href='Analysis/Gene_prediction_targets.ipynb' target='_blank'>Analysis/Gene_prediction_targets.ipynb</a><br>"
      ],
      "text/plain": [
       "/home/jovyan/27410-2020-group-project-group13_psilocybin_a-niger/Analysis/Gene_prediction_targets.ipynb"
      ]
     },
     "execution_count": 6,
     "metadata": {},
     "output_type": "execute_result"
    }
   ],
   "source": [
    "FileLink('Analysis/Gene_prediction_targets.ipynb')"
   ]
  },
  {
   "cell_type": "markdown",
   "metadata": {},
   "source": [
    "### 4. Strategy - Loopless FBA\n",
    " \n",
    "Loopless FBA was used as it gives a clearer solution than dFBA. The reason behind this is that psilocybin is dephosphorylated spontaneously and by phosphatases, which forms the less stable product, psilocin. Psilocin is re-phosphorylated by the psiK enzyme to psilocybin, which creates a looped reaction. The loopless solution tries to identify a thermodynamically consistent flux state, by removing the loops in the model (8. Loopless FBA — cobra 0.13.3 documentation, 2020).\n",
    " \n",
    "The YEPD medium was used, instead of a minimal medium, as it is more industrially relevant. As a complex medium, YEPD contains a mixture of amino acids, and therefore allows for decreased energy and cofactor expenditure, among others, on the de-novo synthesis of amino acids. \n",
    " \n",
    "The model objective was set and optimized for the psilocybin synthase reaction (psiM). A loopless and nominal optimal solution was found and plotted against each other. The loopless solution flux of psiM was 53.8672 mmol * g dw<sup>^-1</sup> * h<sup>^-1</sup>, which is the same result as the maximum theoretical productivity of the psiM reaction. This indicates that by optimizing the flux state the theoretical maximum productivity could be achieved. "
   ]
  },
  {
   "cell_type": "code",
   "execution_count": 7,
   "metadata": {},
   "outputs": [
    {
     "data": {
      "text/html": [
       "<a href='Analysis/Loopless.ipynb' target='_blank'>Analysis/Loopless.ipynb</a><br>"
      ],
      "text/plain": [
       "/home/jovyan/27410-2020-group-project-group13_psilocybin_a-niger/Analysis/Loopless.ipynb"
      ]
     },
     "execution_count": 7,
     "metadata": {},
     "output_type": "execute_result"
    }
   ],
   "source": [
    "FileLink('Analysis/Loopless.ipynb')"
   ]
  },
  {
   "cell_type": "markdown",
   "metadata": {},
   "source": [
    "### 5. Other applied strategies\n",
    "\n",
    "#### Gene knockout strategies\n",
    "Gene knockouts can eliminate non-essential reactions that consume reagents in the precursor pathways for target reaction or in the target reaction itself and divert the carbon flux to production of the wanted product. However, Optgene did not reveal any gene knockouts that could improve the production of psilocybin in our model. Tryptophan is the precursor to psilocybin, and due to it being an essential amino acid for biomass growth, gene-knockout strategies will likely have no effect on tryptophan production and subsequent psilocybin production. If the model had included genes that expressed proteins that inhibit the secretion of psilocybin, then Optgene may have provided some valuable results."
   ]
  },
  {
   "cell_type": "code",
   "execution_count": 8,
   "metadata": {},
   "outputs": [
    {
     "data": {
      "text/html": [
       "<a href='Analysis/Optgene.ipynb' target='_blank'>Analysis/Optgene.ipynb</a><br>"
      ],
      "text/plain": [
       "/home/jovyan/27410-2020-group-project-group13_psilocybin_a-niger/Analysis/Optgene.ipynb"
      ]
     },
     "execution_count": 8,
     "metadata": {},
     "output_type": "execute_result"
    }
   ],
   "source": [
    "FileLink('Analysis/Optgene.ipynb')"
   ]
  },
  {
   "cell_type": "markdown",
   "metadata": {},
   "source": [
    "#### Computation of co-factor swap targets:\n",
    "\n",
    "The conversion of tryptamine to 4-hydroxy-tryptamine uses NADPH as a cofactor, and therefore increasing the pool of available NADPH by changing the cofactor specificity of specific enzymes to NADH could potentially divert unused NADPH to the psilocybin biosynthesis pathway. The results of swapping [NADP, NADPH] for [NAD, NADH] identified two candidate reactions, r581(Enoyl-ACP reductase) and r252 (NADPH Oxidase). In reality, NADPH oxidase can only oxidize NADPH (unless protein engineering principles are applied); therefore, r581 (Enoyl-ACP reductase), which involved in type II fatty acid metabolism, is the best reaction candidate that makes sense to swap cofactor specificity to NADH to increase the pool of NADPH (PubChem, 2020).\n",
    "\n",
    "| targets | fitness |\n",
    "| :- | -: |\n",
    "| r581 | 0.550228 | \n",
    "| r252 | 0.550228 | "
   ]
  },
  {
   "cell_type": "code",
   "execution_count": 9,
   "metadata": {},
   "outputs": [
    {
     "data": {
      "text/html": [
       "<a href='Analysis/Cofactor_swap_targets.ipynb' target='_blank'>Analysis/Cofactor_swap_targets.ipynb</a><br>"
      ],
      "text/plain": [
       "/home/jovyan/27410-2020-group-project-group13_psilocybin_a-niger/Analysis/Cofactor_swap_targets.ipynb"
      ]
     },
     "execution_count": 9,
     "metadata": {},
     "output_type": "execute_result"
    }
   ],
   "source": [
    "FileLink('Analysis/Cofactor_swap_targets.ipynb')"
   ]
  },
  {
   "cell_type": "markdown",
   "metadata": {},
   "source": [
    "## 5. Discussion\n",
    " \n",
    "Some underlying assumptions for our project include that the heterologous enzymes are going to function correctly in *A. niger*. Previous studies in *A. nidulans* showed low yield (110 mg/L) but this could be due to other factors e.g. weak inducible promoter (Hoefgen et al., 2018). Higher titers have been achieved in *S. cerevisiae* (627 ± 140 mg/L) (N. Milne et al, 2020). However, since *A. niger* is an industrial workhorse and a well known producer of secondary metabolites it still could prove advantageous to use *A. niger* for Psilocybin production. \n",
    "The top ten targets predicted for upregulation were found in either the Shikimate pathway or methylation reactions (of SAM and SAH). These two major pathways have been investigated in *S. cerevisiae* and *Psilocybe cubensis*, respectively. Upregulation of the Shikimate pathway has been investigated as a target for increasing tryptophan biosynthesis (N. Milne et al, 2020); more specifically, the first two enzymes of this pathway were overexpressed as a rational engineering approach by N. Milne et al. Our results show that it could be beneficial to overexpress some other parts of the pathway along with the two first enzymes, which could be interesting for further research. \n",
    " \n",
    "The methylation reactions, which includes SAM and SAH, have also been investigated as targets previously, where the SAM salvage pathway was noted as critical to reach high titers of psilocybin (R. Demmler et al, 2020). Our results indicate additional targets that have not been investigated before, i.e. r96 - methylenetetrahydrofolate reductase, which could be interesting to study. Additionally, swapping cofactor specificity of Enoyl-ACP reductase to NADH in r581 could potentially divert NADPH 4-hydroxy-tryptamine synthesis, leading to a higher psilocybin yield. \n",
    "Optimizing the media has been a way of enhancing production for many years. In this report, it has been shown that changing the media computationally from minimal media to YEPD results in increased biomass and psilocybin productivity. Although the media change resulted in a small reduction in yield, the YEPD media is still favored, since it generates a large increase in productivity of psilocybin on YEPD (53.867 mmol * gDW<sup>-1</sup> h<sup>-1</sup> compared to 3.0787 mmol * gDW<sup>-1</sup> h<sup>-1</sup> on minimal media). Furthermore, the minimum yield required to break even is much smaller (appendix 1), making the small reduction in yield insignificant.\n",
    " \n",
    "If we estimate the minimum yield we need to achieve to break even on the glucose consumption the following calculation is made: If a pilot plant was to be constructed of 5 m<sup>3</sup> and a titer of 1g/L was achieved, approximately 250 kg psilocybin could be produced per year. If the selling price is estimated to 750 USD/g an average revenue of 187.5 M USD is achieved. With a glucose price of 250 USD/ton, the minimum yield required is 2.113*10<sup>-7</sup> mmol  psilocybin * mmol glucose<sup>-1</sup>. This value is far lower than our present computations (0.2993 mmol-psi * mmol-carbon<sup>-1</sup> using YEPD), which would make it economically feasible (full calculation in appendix 1). This is without considering the capital investments, employment of full time equivalents, as well as running cost. Also the calculation is based on the price of glucose and not on YEPD media.\n",
    " \n",
    " \n",
    "One of the next steps towards implementation is to account for discrepancies in the two *A. niger* ATCC 1015 models iJB1325 and iDU1756. As Upton D. et al. claim, it could be favorable to fix issues regarding some of the irreversible reactions, the phosphate imbalance, TCA cycle reaction, and the cytosolic citrate synthase that was not found in vivo. The missing parts of the model could lead to erroneous predictions or no results when computational methods are applied to the model. In this work there were obstacles in some areas such as dFBA analysis, Optgene prediction and prediction of novel heterologous pathways, which could be blamed on the insufficiencies of the model. Furthermore, as Upton D. et al. 2020 describes it could be advantageous to combine the information from the two models when performing in silico analysis. This could pave the way for better future predictions."
   ]
  },
  {
   "cell_type": "code",
   "execution_count": 10,
   "metadata": {},
   "outputs": [
    {
     "data": {
      "text/html": [
       "<a href='Analysis/Appendix1.ipynb' target='_blank'>Analysis/Appendix1.ipynb</a><br>"
      ],
      "text/plain": [
       "/home/jovyan/27410-2020-group-project-group13_psilocybin_a-niger/Analysis/Appendix1.ipynb"
      ]
     },
     "execution_count": 10,
     "metadata": {},
     "output_type": "execute_result"
    }
   ],
   "source": [
    "FileLink('Analysis/Appendix1.ipynb')"
   ]
  },
  {
   "cell_type": "markdown",
   "metadata": {},
   "source": [
    "## 6. Conclusion\n",
    " \n",
    "Given the significant rise in the value of the psychedelic drugs market, novel methods of producing psilocybin are needed to determine the most efficient cell-factory host to support the projected future demand. In this project, we have computed a production strategy of heterologous psilocybin production in *A. niger* using a GSM model, and employed various computational methods to improve theoretical psilocybin yield. Several targets for gene target upregulation were discovered, many of which have not yet been identified for upregulation and therefore offer novel strain designs for follow-up studies. Furthermore, the high psilocybin productivity obtained by utilizing YEPD media could allow sufficient psilocybin production on a relatively small scale, and at a low enough cost to ensure that the product can be sold at a competitive price. A more complete model of *A. niger* would allow follow up studies to get more reliable results, and also determine whether other computational methods can further improve psilocybin production. The results of these computations are only theoretical, and therefore must be verified in the laboratory *in vivo* and in a pilot scale study.\n",
    " \n",
    "In summary the top three strategies proposed for improved cell-factory design are listed below. \n",
    " \n",
    "| Primary strategies |\n",
    "| :-: |\n",
    "| Media optimization |\n",
    "| Upregulation of enzymes present in the Shikimate pathway |\n",
    "| Upregulation of enzymes present in the methylation reactions |\n"
   ]
  },
  {
   "cell_type": "markdown",
   "metadata": {},
   "source": [
    "## References"
   ]
  },
  {
   "cell_type": "markdown",
   "metadata": {},
   "source": [
    "1.\n",
    "Brandl J, Aguilar-Pontes MV, Schäpe P, et al. A community-driven reconstruction of the Aspergillus niger metabolic network. Fungal Biol Biotechnol. 2018;5. doi:10.1186/s40694-018-0060-7\n",
    "\n",
    "2.\n",
    "Nødvig CS, Nielsen JB, Kogle ME, Mortensen UH. A CRISPR-Cas9 System for Genetic Engineering of Filamentous Fungi. PLOS ONE. 2015;10(7):e0133085. doi:10.1371/journal.pone.0133085\n",
    "\n",
    "3.\n",
    "A Study of Psilocybin for Major Depressive Disorder (MDD) - Full Text View - ClinicalTrials.gov. Accessed December 1, 2020. https://clinicaltrials.gov/ct2/show/NCT03866174\n",
    "\n",
    "4.\n",
    "Siddiqui MS, Thodey K, Trenchard I, Smolke CD. Advancing secondary metabolite biosynthesis in yeast with synthetic biology tools. FEMS Yeast Res. 2012;12(2):144-170. doi:10.1111/j.1567-1364.2011.00774.x\n",
    "\n",
    "5.\n",
    "Research AM. Antidepressant Drugs Market to Grow Valuation of $15.98 Billion by 2023. GlobeNewswire News Room. Published August 6, 2020. Accessed December 1, 2020. http://www.globenewswire.com/news-release/2020/08/06/2074356/0/en/Antidepressant-Drugs-Market-to-Grow-Valuation-of-15-98-Billion-by-2023.html\n",
    "\n",
    "6.\n",
    "Mahmood ZA. Bioactive Alkaloids from Fungi: Psilocybin. In: Ramawat KG, Mérillon J-M, eds. Natural Products. Springer Berlin Heidelberg; 2013:523-552. doi:10.1007/978-3-642-22144-6_19\n",
    "\n",
    "7.\n",
    "Andersen MR, Salazar MP, Schaap PJ, et al. Comparative genomics of citric-acid-producing Aspergillus niger ATCC 1015 versus enzyme-producing CBS 513.88. Genome Res. 2011;21(6):885-897. doi:10.1101/gr.112169.110\n",
    "\n",
    "8.\n",
    "Vanegas KG, Jarczynska ZD, Strucko T, Mortensen UH. Cpf1 enables fast and efficient genome editing in Aspergilli. Fungal Biol Biotechnol. 2019;6(1):6. doi:10.1186/s40694-019-0069-6\n",
    "\n",
    "9.\n",
    "Meyer V, Andersen MR, Brakhage AA, et al. Current challenges of research on filamentous fungi in relation to human welfare and a sustainable bio-economy: a white paper. Fungal Biology and Biotechnology. 2016;3(1):6. doi:10.1186/s40694-016-0024-8\n",
    "\n",
    "10.\n",
    "Richter L, Wanka F, Boecker S, et al. Engineering of Aspergillus niger for the production of secondary metabolites. Fungal Biology and Biotechnology. 2014;1(1):4. doi:10.1186/s40694-014-0004-9\n",
    "\n",
    "11.\n",
    "Fricke J, Blei F, Hoffmeister D. Enzymatic Synthesis of Psilocybin. Angew Chem Int Ed Engl. 2017;56(40):12352-12355. doi:10.1002/anie.201705489\n",
    "\n",
    "12.\n",
    "Hoefgen S, Lin J, Fricke J, et al. Facile assembly and fluorescence-based screening method for heterologous expression of biosynthetic pathways in fungi. Metabolic Engineering. 2018;48:44-51. doi:10.1016/j.ymben.2018.05.014\n",
    "\n",
    "13.\n",
    "Commissioner O of the. FDA approves new nasal spray medication for treatment-resistant depression; available only at a certified doctor’s office or clinic. FDA. Published March 24, 2020. Accessed December 1, 2020. https://www.fda.gov/news-events/press-announcements/fda-approves-new-nasal-spray-medication-treatment-resistant-depression-available-only-certified\n",
    "\n",
    "14.\n",
    "Park JM, Park HM, Kim WJ, Kim HU, Kim TY, Lee SY. Flux variability scanning based on enforced objective flux for identifying gene amplification targets. BMC Systems Biology. 2012;6(1):106. doi:10.1186/1752-0509-6-106\n",
    "\n",
    "15.\n",
    "Upton DJ, McQueen-Mason SJ, Wood AJ. In silico evolution of Aspergillus niger organic acid production suggests strategies for switching acid output. Biotechnology for Biofuels. 2020;13(1):27. doi:10.1186/s13068-020-01678-z\n",
    "\n",
    "16.\n",
    "Milne N, Thomsen P, Mølgaard Knudsen N, Rubaszka P, Kristensen M, Borodina I. Metabolic engineering of Saccharomyces cerevisiae for the de novo production of psilocybin and related tryptamine derivatives. Metabolic Engineering. 2020;60:25-36. doi:10.1016/j.ymben.2019.12.007\n",
    "\n",
    "17.\n",
    "Psilocybin occasioned mystical‐type experiences - James - 2020 - Human Psychopharmacology: Clinical and Experimental - Wiley Online Library. Accessed November 17, 2020. https://onlinelibrary-wiley-com.proxy.findit.dtu.dk/doi/full/10.1002/hup.2742\n",
    "\n",
    "18.\n",
    "Research DBM. Psychedelic Drugs Market 2020 to Grow at +16.3% CAGR by 2027. Published June 6, 2020. Accessed December 1, 2020. https://www.openpr.com/news/2068844/psychedelic-drugs-market-2020-to-grow-at-16-3-cagr-by-2027\n",
    "\n",
    "19.\n",
    "Hibicke M, Landry AN, Kramer HM, Talman ZK, Nichols CD. Psychedelics, but Not Ketamine, Produce Persistent Antidepressant-like Effects in a Rodent Experimental System for the Study of Depression. ACS Chem Neurosci. 2020;11(6):864-871. doi:10.1021/acschemneuro.9b00493\n",
    "\n",
    "20.\n",
    "Demmler R, Fricke J, Dörner S, Gressler M, Hoffmeister D. S-Adenosyl-l-Methionine Salvage Impacts Psilocybin Formation in “Magic” Mushrooms. ChemBioChem. 2020;21(9):1364-1371. doi:https://doi.org/10.1002/cbic.201900649\n",
    "\n",
    "21.\n",
    "Arnau J, Yaver D, Hjort CM. Strategies and Challenges for the Development of Industrial Enzymes Using Fungal Cell Factories. Grand Challenges in Fungal Biotechnology. Published online September 27, 2019:179-210. doi:10.1007/978-3-030-29541-7_7\n",
    "\n",
    "22.\n",
    "Johnson MW, Griffiths RR, Hendricks PS, Henningfield JE. The abuse potential of medical psilocybin according to the 8 factors of the Controlled Substances Act. Neuropharmacology. 2018;142:143-166. doi:10.1016/j.neuropharm.2018.05.012\n",
    "\n",
    "23.\n",
    "ten Buren EBJ, Karrenbelt MAP, Lingemann M, et al. Toolkit for Visualization of the Cellular Structure and Organelles in Aspergillus niger. ACS Synth Biol. 2014;3(12):995-998. doi:10.1021/sb500304m\n",
    "\n",
    "24.\n",
    "Publishing HH. What are the real risks of antidepressants? Harvard Health. Accessed December 1, 2020. https://www.health.harvard.edu/mind-and-mood/what-are-the-real-risks-of-antidepressants"
   ]
  }
 ],
 "metadata": {
  "kernelspec": {
   "display_name": "python3.6",
   "language": "python",
   "name": "python3.6"
  },
  "language_info": {
   "codemirror_mode": {
    "name": "ipython",
    "version": 3
   },
   "file_extension": ".py",
   "mimetype": "text/x-python",
   "name": "python",
   "nbconvert_exporter": "python",
   "pygments_lexer": "ipython3",
   "version": "3.6.12"
  }
 },
 "nbformat": 4,
 "nbformat_minor": 4
}
