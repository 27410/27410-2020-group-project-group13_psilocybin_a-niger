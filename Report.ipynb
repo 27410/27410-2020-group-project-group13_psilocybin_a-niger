{
 "cells": [
  {
   "cell_type": "markdown",
   "metadata": {},
   "source": [
    "# Biosynthesis of Psylocybin in <i>Aspergillus niger</i>"
   ]
  },
  {
   "cell_type": "markdown",
   "metadata": {},
   "source": [
    "## 1. Introduction"
   ]
  },
  {
   "cell_type": "markdown",
   "metadata": {},
   "source": [
    "### 1.1 Literature review of the compound (<500 words)"
   ]
  },
  {
   "cell_type": "markdown",
   "metadata": {},
   "source": [
    "### 1.2 Literature review of the cell factory (<500 words)"
   ]
  },
  {
   "cell_type": "markdown",
   "metadata": {},
   "source": [
    "## 2. Problem definition (<300 words)"
   ]
  },
  {
   "cell_type": "markdown",
   "metadata": {},
   "source": [
    "## 3. *If Project category I:* Reconstruction of a new GSM for your cell factory host of interest (<1500 words)"
   ]
  },
  {
   "cell_type": "markdown",
   "metadata": {},
   "source": [
    "or"
   ]
  },
  {
   "cell_type": "markdown",
   "metadata": {},
   "source": [
    "## 3. *If Project category II:* Selection and assessment of existing GSM (<500 words)"
   ]
  },
  {
   "cell_type": "markdown",
   "metadata": {},
   "source": [
    "## 4. Computer-Aided Cell Factory Engineering (<1500 words if Category II project; <500 words for Category I project)"
   ]
  },
  {
   "cell_type": "code",
   "execution_count": 1,
   "metadata": {},
   "outputs": [
    {
     "name": "stderr",
     "output_type": "stream",
     "text": [
      "'' is not a valid SBML 'SId'.\n"
     ]
    }
   ],
   "source": [
    "from cobra.io import read_sbml_model\n",
    "from cobra import Reaction, Metabolite\n",
    "\n",
    "model = read_sbml_model('2018_ATCC1015_GSM.xml') #the model was found in (Brandl, J., Aguilar-Pontes, M.V., Schäpe, P. et al. - additional file 2) "
   ]
  },
  {
   "cell_type": "markdown",
   "metadata": {},
   "source": [
    "#### Making the reactions"
   ]
  },
  {
   "cell_type": "code",
   "execution_count": 2,
   "metadata": {},
   "outputs": [],
   "source": [
    "from cobra import Reaction, Metabolite"
   ]
  },
  {
   "cell_type": "code",
   "execution_count": 3,
   "metadata": {},
   "outputs": [
    {
     "data": {
      "text/html": [
       "\n",
       "        <table>\n",
       "            <tr>\n",
       "                <td><strong>Metabolite identifier</strong></td><td>TRP</td>\n",
       "            </tr><tr>\n",
       "                <td><strong>Name</strong></td><td>L-Tryptophan</td>\n",
       "            </tr><tr>\n",
       "                <td><strong>Memory address</strong></td>\n",
       "                <td>0x07f279dc24160</td>\n",
       "            </tr><tr>\n",
       "                <td><strong>Formula</strong></td><td>C11H12N2O2</td>\n",
       "            </tr><tr>\n",
       "                <td><strong>Compartment</strong></td><td>c</td>\n",
       "            </tr><tr>\n",
       "                <td><strong>In 8 reaction(s)</strong></td><td>\n",
       "                    r385, r2402, r1080, PROTEINpolym, r3008, r1266, r1265, r400</td>\n",
       "            </tr>\n",
       "        </table>"
      ],
      "text/plain": [
       "<Metabolite TRP at 0x7f279dc24160>"
      ]
     },
     "execution_count": 3,
     "metadata": {},
     "output_type": "execute_result"
    }
   ],
   "source": [
    "model.metabolites.TRP # tjekker lige at tryptophan befinder sig i cytosol"
   ]
  },
  {
   "cell_type": "markdown",
   "metadata": {},
   "source": [
    "Jeg kan ikke finde tryptamin i modellen allerede (hverken som THR, THF, TRE, THY, TYR eller TPHTH og jeg synes ikke der er andre oplagte end dem jeg kan se - derfor tilføjer jeg sekv tryptamin som en metabolit:"
   ]
  },
  {
   "cell_type": "markdown",
   "metadata": {},
   "source": [
    "Så derfor insættes metabolitterne også i compartment c (nedenfor)\n",
    "\n",
    "Spørgsmål: burde vi også tilføje formula + name til metabolitterne?\n"
   ]
  },
  {
   "cell_type": "code",
   "execution_count": 4,
   "metadata": {},
   "outputs": [],
   "source": [
    "tryptamine = Metabolite(id = 'TRYP', compartment='c')"
   ]
  },
  {
   "cell_type": "code",
   "execution_count": 5,
   "metadata": {},
   "outputs": [],
   "source": [
    "hydroxytryptamine = Metabolite(id='_4HTRYP', compartment='c') "
   ]
  },
  {
   "cell_type": "code",
   "execution_count": 6,
   "metadata": {},
   "outputs": [],
   "source": [
    "norbaeocystin = Metabolite(id='NBC' , compartment='c') "
   ]
  },
  {
   "cell_type": "code",
   "execution_count": 7,
   "metadata": {},
   "outputs": [],
   "source": [
    "psilocybin = Metabolite(id='psi', compartment='c')"
   ]
  },
  {
   "cell_type": "code",
   "execution_count": 8,
   "metadata": {},
   "outputs": [],
   "source": [
    "S_adenosyl_L_methionine = Metabolite(id='SAM', compartment='c')"
   ]
  },
  {
   "cell_type": "code",
   "execution_count": 9,
   "metadata": {},
   "outputs": [],
   "source": [
    "S_adenosyl_L_homocysteine = Metabolite(id='SAH', compartment='c')"
   ]
  },
  {
   "cell_type": "markdown",
   "metadata": {},
   "source": [
    "Først definerer jeg lige reaktionerne:"
   ]
  },
  {
   "cell_type": "code",
   "execution_count": 10,
   "metadata": {},
   "outputs": [],
   "source": [
    "reaction_1 = Reaction('something_nice')  "
   ]
  },
  {
   "cell_type": "code",
   "execution_count": 11,
   "metadata": {},
   "outputs": [],
   "source": [
    "reaction_2 = Reaction('something_nicer')"
   ]
  },
  {
   "cell_type": "code",
   "execution_count": 12,
   "metadata": {},
   "outputs": [],
   "source": [
    "reaction_3 = Reaction('something_awesome')"
   ]
  },
  {
   "cell_type": "code",
   "execution_count": 13,
   "metadata": {},
   "outputs": [],
   "source": [
    "reaction_4 = Reaction('Bjarne')"
   ]
  },
  {
   "cell_type": "markdown",
   "metadata": {},
   "source": [
    "Nu tilføjer jeg alle metabolitterne til reaktionerne:"
   ]
  },
  {
   "cell_type": "code",
   "execution_count": 14,
   "metadata": {},
   "outputs": [],
   "source": [
    "reaction_1.add_metabolites(({model.metabolites.TRP: -1,  \n",
    "                              tryptamine: 1, \n",
    "                              model.metabolites.CO2: 1, \n",
    "                            }))"
   ]
  },
  {
   "cell_type": "code",
   "execution_count": 15,
   "metadata": {},
   "outputs": [],
   "source": [
    "reaction_2.add_metabolites({tryptamine: -1,\n",
    "                              model.metabolites.O2: -1,\n",
    "                              model.metabolites.H: -2, \n",
    "                              hydroxytryptamine: 1, \n",
    "                              model.metabolites.H2O: 1\n",
    "                             })"
   ]
  },
  {
   "cell_type": "code",
   "execution_count": 16,
   "metadata": {},
   "outputs": [],
   "source": [
    "reaction_3.add_metabolites({hydroxytryptamine: -1,\n",
    "                              model.metabolites.ATP: -1,\n",
    "                              norbaeocystin: 1, \n",
    "                              model.metabolites.ADP: 1, # our newly created metabolites\n",
    "                              model.metabolites.H: 1\n",
    "                             })"
   ]
  },
  {
   "cell_type": "code",
   "execution_count": 17,
   "metadata": {},
   "outputs": [],
   "source": [
    "reaction_4.add_metabolites(({norbaeocystin: -1,\n",
    "                             S_adenosyl_L_methionine: -2, \n",
    "                             psilocybin: 1, \n",
    "                             S_adenosyl_L_homocysteine: 2,\n",
    "                             model.metabolites.H: 2\n",
    "                             }))"
   ]
  },
  {
   "cell_type": "code",
   "execution_count": 27,
   "metadata": {},
   "outputs": [
    {
     "name": "stderr",
     "output_type": "stream",
     "text": [
      "Ignoring reaction 'something_nice' since it already exists.\n",
      "Ignoring reaction 'something_nicer' since it already exists.\n",
      "Ignoring reaction 'something_awesome' since it already exists.\n",
      "Ignoring reaction 'Bjarne' since it already exists.\n"
     ]
    }
   ],
   "source": [
    "model.add_reactions([reaction_1])\n",
    "model.add_reactions([reaction_2])\n",
    "model.add_reactions([reaction_3])\n",
    "model.add_reactions([reaction_4])"
   ]
  },
  {
   "cell_type": "code",
   "execution_count": 28,
   "metadata": {},
   "outputs": [
    {
     "data": {
      "text/html": [
       "\n",
       "        <table>\n",
       "            <tr>\n",
       "                <td><strong>Reaction identifier</strong></td><td>DM_SAH</td>\n",
       "            </tr><tr>\n",
       "                <td><strong>Name</strong></td><td>S-Adenosyl-L-homocysteine demand</td>\n",
       "            </tr><tr>\n",
       "                <td><strong>Memory address</strong></td>\n",
       "                <td>0x07f27bcb92a00</td>\n",
       "            </tr><tr>\n",
       "                <td><strong>Stoichiometry</strong></td>\n",
       "                <td>\n",
       "                    <p style='text-align:right'>SAH --> </p>\n",
       "                    <p style='text-align:right'>S-Adenosyl-L-homocysteine --> </p>\n",
       "                </td>\n",
       "            </tr><tr>\n",
       "                <td><strong>GPR</strong></td><td></td>\n",
       "            </tr><tr>\n",
       "                <td><strong>Lower bound</strong></td><td>0</td>\n",
       "            </tr><tr>\n",
       "                <td><strong>Upper bound</strong></td><td>1000.0</td>\n",
       "            </tr>\n",
       "        </table>\n",
       "        "
      ],
      "text/plain": [
       "<Reaction DM_SAH at 0x7f27bcb92a00>"
      ]
     },
     "execution_count": 28,
     "metadata": {},
     "output_type": "execute_result"
    }
   ],
   "source": [
    "model.add_boundary(model.metabolites.TRYP, type='demand')\n",
    "model.add_boundary(model.metabolites._4HTRYP, type='demand')\n",
    "model.add_boundary(model.metabolites.NBC, type='demand')\n",
    "model.add_boundary(model.metabolites.psi, type='demand')\n",
    "model.add_boundary(model.metabolites.SAM, type='demand')\n",
    "model.add_boundary(model.metabolites.SAH, type='demand')"
   ]
  },
  {
   "cell_type": "code",
   "execution_count": 29,
   "metadata": {},
   "outputs": [
    {
     "data": {
      "text/plain": [
       "3.870967741935476"
      ]
     },
     "execution_count": 29,
     "metadata": {},
     "output_type": "execute_result"
    }
   ],
   "source": [
    "with model:\n",
    "    model.objective = model.reactions.something_nice\n",
    "    max_1 = model.optimize().objective_value\n",
    "    \n",
    "max_1"
   ]
  },
  {
   "cell_type": "code",
   "execution_count": 30,
   "metadata": {},
   "outputs": [
    {
     "data": {
      "text/plain": [
       "3.5294117647058845"
      ]
     },
     "execution_count": 30,
     "metadata": {},
     "output_type": "execute_result"
    }
   ],
   "source": [
    "with model:\n",
    "    model.objective = model.reactions.something_nicer\n",
    "    max_2 = model.optimize().objective_value\n",
    "    \n",
    "max_2"
   ]
  },
  {
   "cell_type": "code",
   "execution_count": 31,
   "metadata": {},
   "outputs": [
    {
     "data": {
      "text/plain": [
       "3.5294117647058845"
      ]
     },
     "execution_count": 31,
     "metadata": {},
     "output_type": "execute_result"
    }
   ],
   "source": [
    "with model:\n",
    "    model.objective = model.reactions.something_awesome\n",
    "    max_3 = model.optimize().objective_value\n",
    "    \n",
    "max_3"
   ]
  },
  {
   "cell_type": "code",
   "execution_count": 32,
   "metadata": {},
   "outputs": [
    {
     "data": {
      "text/plain": [
       "3.1395808620007912"
      ]
     },
     "execution_count": 32,
     "metadata": {},
     "output_type": "execute_result"
    }
   ],
   "source": [
    "with model:\n",
    "    model.objective = model.reactions.Bjarne\n",
    "    max_4 = model.optimize().objective_value\n",
    "    \n",
    "max_4"
   ]
  },
  {
   "cell_type": "markdown",
   "metadata": {},
   "source": [
    "## 5. Discussion (<500 words)"
   ]
  },
  {
   "cell_type": "markdown",
   "metadata": {},
   "source": [
    "## 6. Conclusion (<200 words)"
   ]
  },
  {
   "cell_type": "markdown",
   "metadata": {},
   "source": [
    "## References\n",
    "Brandl, J., Aguilar-Pontes, M.V., Schäpe, P. et al. A community-driven reconstruction of the Aspergillus niger metabolic network. Fungal Biol Biotechnol 5, 16 (2018). https://doi.org/10.1186/s40694-018-0060-7"
   ]
  },
  {
   "cell_type": "code",
   "execution_count": null,
   "metadata": {},
   "outputs": [],
   "source": []
  }
 ],
 "metadata": {
  "kernelspec": {
   "display_name": "Python 3",
   "language": "python",
   "name": "python3"
  },
  "language_info": {
   "codemirror_mode": {
    "name": "ipython",
    "version": 3
   },
   "file_extension": ".py",
   "mimetype": "text/x-python",
   "name": "python",
   "nbconvert_exporter": "python",
   "pygments_lexer": "ipython3",
   "version": "3.8.5"
  }
 },
 "nbformat": 4,
 "nbformat_minor": 4
}
