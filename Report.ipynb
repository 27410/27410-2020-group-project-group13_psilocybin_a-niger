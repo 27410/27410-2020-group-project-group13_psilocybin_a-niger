{
 "cells": [
  {
   "cell_type": "markdown",
   "metadata": {},
   "source": [
    "# Biosynthesis of Psylocybin in <i>Aspergillus niger</i>"
   ]
  },
  {
   "cell_type": "markdown",
   "metadata": {},
   "source": [
    "![Biosynthetic pathway of Psilocybin](Pics/SVAMP.png \"Figure text?\") \n"
   ]
  },
  {
   "cell_type": "markdown",
   "metadata": {},
   "source": [
    "## 1. Introduction"
   ]
  },
  {
   "cell_type": "markdown",
   "metadata": {},
   "source": [
    "### 1.1 Literature review of the compound (<500 words)"
   ]
  },
  {
   "cell_type": "markdown",
   "metadata": {},
   "source": [
    "### - Applications of the product (What is the current use? Are there any potential new uses?)\n",
    "Psilocybin is a bioactive alkaloid derived from several mushrooms of the genus Psilocybe (James, Robertshaw, Hoskins and Sessa, 2020). The use of the compound can be dated as back as to 2000 BC in north africa and mexico and has been used  for recreational and spiritual purposes because of its psychedelic effects. Psilocybin can cross the blood brain barrier and act on the central nerve system, and alter mood, consciousness and cognition(Mahmood, 2013). \n",
    "Recently, Psilocybin has demonstrated efficient treatment of several different disorders including, alcoholism, tobacco addiction, depression and anxiety. At the time of writing 47 clinical studies are being conducted with a majority of them being focused on treating depression(Mahmood, 2013); (Search of: psilocybin - List Results - ClinicalTrials.gov, 2020). Some of the present studies are also researching the potential neurodegenerative effect of psilocybin in treatment of Alzheimer's disease. If these clinical trials show successful results psilocybin could become a potential player in the pharmaceutical market. \n",
    "\n",
    "### - Evaluation of market potential (to the best of your ability)\n",
    "The Data Bridge Market Research has recently published a study on the psychedelic drugs market, forecasting its compound annual growth rate (CAGR) of 16.3%, with applications mainly in mental health. The psychedelic drugs market is expected to reach USD 6,859.95 billion by 2027 from USD 2,077.9 billion in 2019 (Psychedelic Drugs Market 2020). Although the global antidepressants market was valued at $13,775 billion at 2016, the CAGR is only projected to be 2.1% from the period of 2017 to 2023, which shows that the psychedelic drugs market could soon be a lucrative alternative to the established antidepressants market [2].\n",
    "The growth in these markets is fueled by a growing awareness of mental illnesses like depression and anxiety; the lower CAGR for the antidepressant market is likely due to raising concerns about the efficacy and safety profile of antidepressants, and growing number of patent expirations is driving companies to invest in novel alternatives like psychedelics. For example, two widely used anxiety and depression medications Lexapro (escitalopram) and Celexa (citalopram), have been shown to cause side effects such as sweating, sleeplessness, nausea, drowsiness and even bleeding in some cases [3]. Psychedelics, on the other hand, have a high safety profile with only known side effects, and a single treatment of psilocybin lasting 2-6 hours can have anti-depressant and anti-anxiety effects for sometimes several months after treatment. (include safety profile here). Aside from treating mental illness, psilocybin has been shown in limited studies to aid individuals in coping with cancer-related distress and overcoming substance abuse problems (Johnson, 2018). Although psilocybin can be extracted from various psilocybe mushroom species, the psilocybin and psilocin concentration is 0.2-1% of dry weight, and is therefore not a commercially viable option (N. Milne et al, 2020). \n",
    "\n",
    "### - Biosynthetic pathway/gene\n",
    "The biosynthesis of psilocybin involves enzymatic steps by the following enzymes: PsiD, PsiH,PsiK and PsiM (Fricke, Blei and Hoffmeister, 2017). The first step in the pathway is catalyzed by the enzymes PsiD and PsiH. Here the precursor L‐tryptophan is decarboxylated by PsiD into tryptamine and  then the monooxygenase PsiH hydroxylates the C-4, yielding 4-hydroxytryptamine. The second step in pathway is mediated by a PsiK and here 4-hydroxytryptophan is phosphorylated into norbaeocystin (4-hydroxytryptophan-4-phosohat). The last step of the biosynthesis is made by PsiM which methylates the amine group twice making it a tertiary amine. The last methylation step is regenerated through the SAM salvage cycle and is therefore important for the production of psilocybin(Fricke, Blei and Hoffmeister, 2017).  "
   ]
  },
  {
   "cell_type": "markdown",
   "metadata": {},
   "source": [
    "![Biosynthetic pathway of Psilocybin](Pics/biosynthetic_pathway_psilocybin.png \"Figure text?\") "
   ]
  },
  {
   "cell_type": "markdown",
   "metadata": {},
   "source": [
    "Fig 1. The biosynthetic pathway of Psilocybin. Adapted from (Fricke, Blei and Hoffmeister, 2017)\n"
   ]
  },
  {
   "cell_type": "markdown",
   "metadata": {},
   "source": [
    "## 1.2 Literature review of the cell factory (<500 words)\n",
    "### - The factory used in this report\n",
    "In this report we have chosen to work with cell factory - Aspergillus niger (A. niger). Below is shown a picture of A. niger grown on different media. It shows the many forms A. niger is able to take. These forms or morphologies give A. niger advantages and disadvantages. \n",
    "\n",
    "![Biosynthetic pathway of Psilocybin](Pics/Aspergillus.png \"Figure text?\") \n",
    "\n",
    "Fig 2. Aspergillus niger grown on Yeast Extract Peptone Dextrose (YPD), Transformation Media (TM), Creatine Sucrose Agar (CREA) and Czepek Yeast Extract Agar (CYA). Pro tip: the picture is alot nicer if you use the white jupyterlab theme. \n",
    "\n",
    "### - General advantages\n",
    "A. niger has a great reputation for expression of products of industrial and commercial interest, such as proteins, enzymes and secondary metabolites (SMs), including therapeutics and drugs(Richter et al., 2014). A. niger is also commonly used for expression of heterologous proteins.\n",
    "A. niger has a sophisticated export machinery in the hyphal tips called “spitzenkörper”. The spitzenkörper is a collection of vesicles containing proteins, metabolites and other intracellular components to be secreted by the fungus into the extracellular space and can be hijacked to export products of interest to decrease downstream processing costs.\n",
    "\n",
    "### - General disadvantages\n",
    "In an industrial setting, filamentous fungi branch into the fermentation tank. This increases viscosity and limits oxygen transfer. Ultimately this can stress the cells and in some cases it can lead to decreased productivity. Some other disadvantages are found in the fact that A. niger despite being an industrial workhorse it is also less studied than the yeast Saccharomyces cerevisiae. \n",
    "Less genetic engineering tools are available for optimizing production of the A. niger.  However, this is being addressed and the state of the art genetic engineering tool, CRISPR, Clustered Regularly Interspaced Short Palindromic Repeats, with the CRISPR associated proteins, Cas9 and Cpf1, has recently been adapted and to the repertoar of tools (Nødvig, Nielsen, Kogle and Mortensen, 2015);(Vanegas, Jarczynska, Strucko and Mortensen, 2019).\n",
    "weird morphology(until now because the team iGEM dtu 2020 changed the morpholgy of A. niger and saved the world)\n",
    "\n",
    "### - Suitability of the cell factory for the product\n",
    "The Aspergillus (ascomycete) and Psilocybe (basidiomycete) genuses are close relatives in the fungal kingdom. This makes A. niger a possible great candidate for hosting the psilocybin pathway. As mentioned above, A. niger has a great secretory pathway utilizing the spitzenkörper. Hijacking the spitzenkörper could allow for increased product secretion to the supernatant and therefore also increase the product accessibility."
   ]
  },
  {
   "cell_type": "markdown",
   "metadata": {},
   "source": [
    "## 2. Problem definition (<300 words)\n",
    "\n",
    "\n",
    "Currently psilocybin production depends on chemical synthesis, which is a costly and laborious production process (N. Milne et al, 2020). In this report we want to examine a different production mechanism/route for psilocybin production, one employing heterologous production in Aspergillus Niger (A. niger). Furthermore, we will assess the feasibility of psilocybin fermentation in A. niger in silico using a genome scale metabolic model (iJB1325) (reference).\n",
    "\n",
    "In order to have a successful production platform, the fermentation process needs to result in adequate yields, productivity and titer. First of all, we want to focus on achieving a high yield, which is the most crucial fermentation metric in order to make a viable production. Regardless, we must ensure that the metabolically engineered A. niger has a reasonable growth rate and titer, in order for the production to be economically viable. \n"
   ]
  },
  {
   "cell_type": "markdown",
   "metadata": {},
   "source": [
    "## 3. *If Project category II:* Selection and assessment of existing GSM (<500 words)\n",
    "\n",
    "Various industrial workhorse strains exist of A. niger, where some of the most common ones are ATCC 1015, used in the production of secondary metabolites, such as citric acid, and CBS 513.88, used for enzyme production []. Since psilocybin is a secondary metabolite ATCC 1015 was chosen as the GSM.\n",
    "One of the existing GSM for A. niger ATCC 1015 (iJB1325) was recently updated with additional information gathered from 876 publications, including 940 reactions, 777 metabolites and 454 genes(Brandl et al., 2018)\n",
    "\n"
   ]
  },
  {
   "cell_type": "markdown",
   "metadata": {},
   "source": [
    "## 4. Computer-Aided Cell Factory Engineering (<1500 words if Category II project; <500 words for Category I project)\n",
    "\n",
    "\n",
    "\n",
    "Computationally enumerate all potential production pathways to your chosen product (even if it is a native product) and score them by different metrics (yield, number of steps added,) - Daniel\n",
    "Simulate batch cultivations using dynamic FBA  - Daniel\n",
    "Compute gene knockout strategies using algorithms like OptKnock, OptGene and OptCouple - Steen\n",
    "Compute over-expression and down-regulation targets - Lucas\n",
    "Compute co-factor swap targets - Thilde\n",
    "\n",
    "Gene knock out strategies\n",
    "\n",
    "Tryptophan is the precursor to psilocybin, and due to it being an essential amino-acid for biomass growth, gene-knockout strategies cannot be implemented to increase tryptophan production. As a result, gene-knockout strategies were not used to improve psilocybin production. \n",
    "\n",
    "Growth medium \n",
    "\n",
    "An analysis of the impact of using various mediums (glucose, succinate, fructose, fumarate, glutamine, glutamate, lactose, maltose, pyruvate) on psilocybin production, revealed that glucose and fructose were the optimal mediums. \n",
    "\n",
    "Pathway visualization\n",
    "\n",
    "An attempt was made to use S. cerevisiae as the model for visualization with escher, due to it being the closest available mapped model to Aspergillus available. Unfortunately, the reactions were named differently in our Aspergillus model, and therefore S. cerevisiae could not be used, and model visualization was not possible. \n"
   ]
  },
  {
   "cell_type": "markdown",
   "metadata": {},
   "source": [
    "## 5. Discussion (<500 words)"
   ]
  },
  {
   "cell_type": "markdown",
   "metadata": {},
   "source": [
    "## 6. Conclusion (<200 words)"
   ]
  },
  {
   "cell_type": "markdown",
   "metadata": {},
   "source": [
    "## References"
   ]
  },
  {
   "cell_type": "markdown",
   "metadata": {},
   "source": [
    "1.\n",
    "Brandl J, Aguilar-Pontes MV, Schäpe P, et al. A community-driven reconstruction of the Aspergillus niger metabolic network. Fungal Biol Biotechnol. 2018;5. doi:10.1186/s40694-018-0060-7\n",
    "\n",
    "2.\n",
    "Nødvig CS, Nielsen JB, Kogle ME, Mortensen UH. A CRISPR-Cas9 System for Genetic Engineering of Filamentous Fungi. PLOS ONE. 2015;10(7):e0133085. doi:10.1371/journal.pone.0133085\n",
    "\n",
    "3.\n",
    "Mahmood ZA. Bioactive Alkaloids from Fungi: Psilocybin. In: Ramawat KG, Mérillon J-M, eds. Natural Products. Springer Berlin Heidelberg; 2013:523-552. doi:10.1007/978-3-642-22144-6_19\n",
    "\n",
    "4.\n",
    "Mahmood - 2013 - Bioactive Alkaloids from Fungi Psilocybin.pdf. Accessed November 17, 2020. http://production.datastore.cvt.dk/filestore?oid=5d1e232bd9001d2d96637ee1&targetid=5d1e232bd9001d2d96637ee3\n",
    "\n",
    "5.\n",
    "Andersen MR, Salazar MP, Schaap PJ, et al. Comparative genomics of citric-acid-producing Aspergillus niger ATCC 1015 versus enzyme-producing CBS 513.88. Genome Res. 2011;21(6):885-897. doi:10.1101/gr.112169.110\n",
    "\n",
    "6.\n",
    "Vanegas KG, Jarczynska ZD, Strucko T, Mortensen UH. Cpf1 enables fast and efficient genome editing in Aspergilli. Fungal Biol Biotechnol. 2019;6(1):6. doi:10.1186/s40694-019-0069-6\n",
    "\n",
    "7.\n",
    "Richter L, Wanka F, Boecker S, et al. Engineering of Aspergillus niger for the production of secondary metabolites. Fungal Biology and Biotechnology. 2014;1(1):4. doi:10.1186/s40694-014-0004-9\n",
    "\n",
    "8.\n",
    "Milne N, Thomsen P, Mølgaard Knudsen N, Rubaszka P, Kristensen M, Borodina I. Metabolic engineering of Saccharomyces cerevisiae for the de novo production of psilocybin and related tryptamine derivatives. Metabolic Engineering. 2020;60:25-36. doi:10.1016/j.ymben.2019.12.007\n",
    "\n",
    "9.\n",
    "Milne N, Thomsen P, Mølgaard Knudsen N, Rubaszka P, Kristensen M, Borodina I. Metabolic engineering of Saccharomyces cerevisiae for the de novo production of psilocybin and related tryptamine derivatives. Metabolic Engineering. 2020;60:25-36. doi:10.1016/j.ymben.2019.12.007\n",
    "\n",
    "10.\n",
    "Psilocybin occasioned mystical‐type experiences - James - 2020 - Human Psychopharmacology: Clinical and Experimental - Wiley Online Library. Accessed November 17, 2020. https://onlinelibrary-wiley-com.proxy.findit.dtu.dk/doi/full/10.1002/hup.2742\n",
    "\n",
    "11.\n",
    "Research DBM. Psychedelic Drugs Market 2020 to Grow at +16.3% CAGR by 2027. Published June 6, 2020. Accessed November 17, 2020. https://www.openpr.com/news/2068844/psychedelic-drugs-market-2020-to-grow-at-16-3-cagr-by-2027\n",
    "\n",
    "12.\n",
    "Hibicke M, Landry AN, Kramer HM, Talman ZK, Nichols CD. Psychedelics, but Not Ketamine, Produce Persistent Antidepressant-like Effects in a Rodent Experimental System for the Study of Depression. ACS Chem Neurosci. 2020;11(6):864-871. doi:10.1021/acschemneuro.9b00493\n",
    "\n",
    "13.\n",
    "Johnson MW, Griffiths RR, Hendricks PS, Henningfield JE. The abuse potential of medical psilocybin according to the 8 factors of the Controlled Substances Act. Neuropharmacology. 2018;142:143-166. doi:10.1016/j.neuropharm.2018.05.012"
   ]
  }
 ],
 "metadata": {
  "kernelspec": {
   "display_name": "python3.6",
   "language": "python",
   "name": "python3.6"
  },
  "language_info": {
   "codemirror_mode": {
    "name": "ipython",
    "version": 3
   },
   "file_extension": ".py",
   "mimetype": "text/x-python",
   "name": "python",
   "nbconvert_exporter": "python",
   "pygments_lexer": "ipython3",
   "version": "3.6.12"
  }
 },
 "nbformat": 4,
 "nbformat_minor": 4
}
