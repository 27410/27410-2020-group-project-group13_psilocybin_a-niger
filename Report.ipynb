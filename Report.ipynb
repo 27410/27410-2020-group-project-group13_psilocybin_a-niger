{
 "cells": [
  {
   "cell_type": "markdown",
   "metadata": {},
   "source": [
    "# Biosynthesis of Psylocybin in <i>Aspergillus niger</i>"
   ]
  },
  {
   "cell_type": "markdown",
   "metadata": {},
   "source": [
    "## 1. Introduction"
   ]
  },
  {
   "cell_type": "markdown",
   "metadata": {},
   "source": [
    "### 1.1 Literature review of the compound (<500 words)"
   ]
  },
  {
   "cell_type": "markdown",
   "metadata": {},
   "source": [
    "### - Applications of the product (What is the current use? Are there any potential new uses?)\n",
    "Psilocybin is a bioactive alkaloid derived from several mushrooms of the genus Psilocybe[1]. The use of the compound can be dated as back as to 2000 BC in north africa and mexico and has been used  for recreational and spiritual purposes because of its psychedelic effects. Psilocybin can cross the blood brain barrier and act on the central nerve system, and alter mood, consciousness and cognition[2]. \n",
    "Recently, Psilocybin has demonstrated efficient treatment of several different disorders including, alcoholism, tobacco addiction, depression and anxiety. At the time of writing 47 clinical studies are being conducted with a majority of them being focused on treating depression[2, 3]. Some of the present studies are also researching the potential neurodegenerative effect of psilocybin in treatment of Alzheimer's disease. If these clinical trials show successful results psilocybin could become a potential player in the pharmaceutical market. \n",
    "\n",
    "### - Evaluation of market potential (to the best of your ability)\n",
    "The Data Bridge Market Research has recently published a study on the psychedelic drugs market, forecasting its compound annual growth rate (CAGR) of 16.3%, with applications mainly in mental health. The psychedelic drugs market is expected to reach USD 6,859.95 billion by 2027 from USD 2,077.9 billion in 2019 [1]. Although the global antidepressants market was valued at $13,775 billion at 2016, the CAGR is only projected to be 2.1% from the period of 2017 to 2023, which shows that the psychedelic drugs market could soon be a lucrative alternative to the established antidepressants market [2].\n",
    "The growth in these markets is fueled by a growing awareness of mental illnesses like depression and anxiety; the lower CAGR for the antidepressant market is likely due to raising concerns about the efficacy and safety profile of antidepressants, and growing number of patent expirations is driving companies to invest in novel alternatives like psychedelics. For example, two widely used anxiety and depression medications Lexapro (escitalopram) and Celexa (citalopram), have been shown to cause side effects such as sweating, sleeplessness, nausea, drowsiness and even bleeding in some cases [3]. Psychedelics, on the other hand, have a high safety profile with only known side effects, and a single treatment of psilocybin lasting 2-6 hours can have anti-depressant and anti-anxiety effects for sometimes several months after treatment. (include safety profile here). Aside from treating mental illness, psilocybin has been shown in limited studies to aid individuals in coping with cancer-related distress and overcoming substance abuse problems [4]. Although psilocybin can be extracted from various psilocybe mushroom species, the psilocybin and psilocin concentration is 0.2-1% of dry weight, and is therefore not a commercially viable option [5]. \n",
    "\n",
    "### - Biosynthetic pathway/gene\n",
    "The biosynthesis of psilocybin involves enzymatic steps by the following enzymes: PsiD, PsiH,PsiK and PsiM. The first step in the pathway is catalyzed by the enzymes PsiD and PsiH. Here the precursor L‐tryptophan is decarboxylated by PsiD into tryptamine and  then the monooxygenase PsiH hydroxylates the C-4, yielding 4-hydroxytryptamine. The second step in pathway is mediated by a PsiK and here 4-hydroxytryptophan is phosphorylated into norbaeocystin (4-hydroxytryptophan-4-phosohat). The last step of the biosynthesis is made by PsiM which methylates the amine group twice making it a tertiary amine. The last methylation step is regenerated through the SAM salvage cycle and is therefore important for the production of psilocybin.  "
   ]
  },
  {
   "cell_type": "markdown",
   "metadata": {},
   "source": [
    "![Biosynthetic pathway of Psilocybin](test.png \"##Biosynthetic pathway of Psilocybin\")\n"
   ]
  },
  {
   "cell_type": "markdown",
   "metadata": {},
   "source": [
    "## 1.2 Literature review of the cell factory (<500 words)"
   ]
  },
  {
   "cell_type": "markdown",
   "metadata": {},
   "source": [
    "## 2. Problem definition (<300 words)"
   ]
  },
  {
   "cell_type": "markdown",
   "metadata": {},
   "source": [
    "## 3. *If Project category I:* Reconstruction of a new GSM for your cell factory host of interest (<1500 words)"
   ]
  },
  {
   "cell_type": "markdown",
   "metadata": {},
   "source": [
    "or"
   ]
  },
  {
   "cell_type": "markdown",
   "metadata": {},
   "source": [
    "## 3. *If Project category II:* Selection and assessment of existing GSM (<500 words)"
   ]
  },
  {
   "cell_type": "markdown",
   "metadata": {},
   "source": [
    "## 4. Computer-Aided Cell Factory Engineering (<1500 words if Category II project; <500 words for Category I project)"
   ]
  },
  {
   "cell_type": "code",
   "execution_count": 26,
   "metadata": {},
   "outputs": [],
   "source": [
    "from cobra.io import read_sbml_model\n",
    "from cobra import Reaction, Metabolite\n",
    "\n",
    "model = read_sbml_model('2018_ATCC1015_GSM.xml') #the model was found in (Brandl, J., Aguilar-Pontes, M.V., Schäpe, P. et al. - additional file 2) "
   ]
  },
  {
   "cell_type": "markdown",
   "metadata": {},
   "source": [
    "#### Making the reactions"
   ]
  },
  {
   "cell_type": "code",
   "execution_count": 27,
   "metadata": {},
   "outputs": [],
   "source": [
    "from cobra import Reaction, Metabolite"
   ]
  },
  {
   "cell_type": "code",
   "execution_count": 3,
   "metadata": {},
   "outputs": [
    {
     "data": {
      "text/html": [
       "\n",
       "        <table>\n",
       "            <tr>\n",
       "                <td><strong>Metabolite identifier</strong></td><td>TRP</td>\n",
       "            </tr><tr>\n",
       "                <td><strong>Name</strong></td><td>L-Tryptophan</td>\n",
       "            </tr><tr>\n",
       "                <td><strong>Memory address</strong></td>\n",
       "                <td>0x07fc5ba23bbe0</td>\n",
       "            </tr><tr>\n",
       "                <td><strong>Formula</strong></td><td>C11H12N2O2</td>\n",
       "            </tr><tr>\n",
       "                <td><strong>Compartment</strong></td><td>c</td>\n",
       "            </tr><tr>\n",
       "                <td><strong>In 8 reaction(s)</strong></td><td>\n",
       "                    r1265, r1266, r1080, r2402, PROTEINpolym, r385, r3008, r400</td>\n",
       "            </tr>\n",
       "        </table>"
      ],
      "text/plain": [
       "<Metabolite TRP at 0x7fc5ba23bbe0>"
      ]
     },
     "execution_count": 3,
     "metadata": {},
     "output_type": "execute_result"
    }
   ],
   "source": [
    "model.metabolites.TRP # tjekker lige at tryptophan befinder sig i cytosol, så derfor insættes metabolitterne også i compartment c (nedenfor)\n",
    "\n"
   ]
  },
  {
   "cell_type": "markdown",
   "metadata": {},
   "source": [
    "Jeg kan ikke finde tryptamin i modellen allerede (hverken som THR, THF, TRE, THY, TYR eller TPHTH og jeg synes ikke der er andre oplagte metabolites IDs end dem jeg kan se - derfor tilføjer jeg selv tryptamin som en metabolit:"
   ]
  },
  {
   "cell_type": "code",
   "execution_count": 4,
   "metadata": {},
   "outputs": [],
   "source": [
    "tryptamine = Metabolite(id = 'TRYP', compartment='c', name='tryptamine', formula='C10H12N2')"
   ]
  },
  {
   "cell_type": "code",
   "execution_count": 5,
   "metadata": {},
   "outputs": [],
   "source": [
    "hydroxytryptamine = Metabolite(id='_4HTRYP', compartment='c', name='_4hydroxytryptamine', formula='C10H12N2O') "
   ]
  },
  {
   "cell_type": "code",
   "execution_count": 6,
   "metadata": {},
   "outputs": [],
   "source": [
    "norbaeocystin = Metabolite(id='NBC' , compartment='c', name='norbaeocystin', formula='C10H13N2O4P') "
   ]
  },
  {
   "cell_type": "code",
   "execution_count": 7,
   "metadata": {},
   "outputs": [],
   "source": [
    "psilocybin = Metabolite(id='psi', compartment='c', name='psilocybin', formula='C12H17N2O4P')"
   ]
  },
  {
   "cell_type": "code",
   "execution_count": 8,
   "metadata": {},
   "outputs": [],
   "source": [
    "S_adenosyl_L_methionine = Metabolite(id='SAM', compartment='c', name='S-adenosyl-L-Methionine', formula='C15H22N6O5S')"
   ]
  },
  {
   "cell_type": "code",
   "execution_count": 9,
   "metadata": {},
   "outputs": [],
   "source": [
    "S_adenosyl_L_homocysteine = Metabolite(id='SAH', compartment='c', name='S-adenosyl-L-homocysteine', formula='C14H20N6O5S' )"
   ]
  },
  {
   "cell_type": "markdown",
   "metadata": {},
   "source": [
    "Først definerer jeg lige reaktionerne:"
   ]
  },
  {
   "cell_type": "code",
   "execution_count": 10,
   "metadata": {},
   "outputs": [],
   "source": [
    "reaction_1 = Reaction('something_nice')  "
   ]
  },
  {
   "cell_type": "code",
   "execution_count": 11,
   "metadata": {},
   "outputs": [],
   "source": [
    "reaction_2 = Reaction('something_nicer')"
   ]
  },
  {
   "cell_type": "code",
   "execution_count": 12,
   "metadata": {},
   "outputs": [],
   "source": [
    "reaction_3 = Reaction('something_awesome')"
   ]
  },
  {
   "cell_type": "code",
   "execution_count": 17,
   "metadata": {},
   "outputs": [],
   "source": [
    "reaction_4 = Reaction('Bjarne')"
   ]
  },
  {
   "cell_type": "markdown",
   "metadata": {},
   "source": [
    "Nu tilføjer jeg alle metabolitterne til reaktionerne:"
   ]
  },
  {
   "cell_type": "code",
   "execution_count": 13,
   "metadata": {},
   "outputs": [],
   "source": [
    "reaction_1.add_metabolites(({model.metabolites.TRP: -1,  \n",
    "                              tryptamine: 1, \n",
    "                              model.metabolites.CO2: 1, \n",
    "                            }))"
   ]
  },
  {
   "cell_type": "code",
   "execution_count": 14,
   "metadata": {},
   "outputs": [],
   "source": [
    "reaction_2.add_metabolites({tryptamine: -1,\n",
    "                              model.metabolites.O2: -1,\n",
    "                              model.metabolites.H: -2, \n",
    "                              hydroxytryptamine: 1, \n",
    "                              model.metabolites.H2O: 1\n",
    "                             })"
   ]
  },
  {
   "cell_type": "code",
   "execution_count": 15,
   "metadata": {},
   "outputs": [],
   "source": [
    "reaction_3.add_metabolites({hydroxytryptamine: -1,\n",
    "                              model.metabolites.ATP: -1,\n",
    "                              norbaeocystin: 1, \n",
    "                              model.metabolites.ADP: 1, # our newly created metabolites\n",
    "                              model.metabolites.H: 1\n",
    "                             })"
   ]
  },
  {
   "cell_type": "code",
   "execution_count": 18,
   "metadata": {},
   "outputs": [],
   "source": [
    "reaction_4.add_metabolites(({norbaeocystin: -1,\n",
    "                             S_adenosyl_L_methionine: -2, \n",
    "                             psilocybin: 1, \n",
    "                             S_adenosyl_L_homocysteine: 2,\n",
    "                             model.metabolites.H: 2\n",
    "                             }))"
   ]
  },
  {
   "cell_type": "code",
   "execution_count": 19,
   "metadata": {},
   "outputs": [],
   "source": [
    "model.add_reactions([reaction_1])\n",
    "model.add_reactions([reaction_2])\n",
    "model.add_reactions([reaction_3])\n",
    "model.add_reactions([reaction_4])"
   ]
  },
  {
   "cell_type": "code",
   "execution_count": 20,
   "metadata": {},
   "outputs": [
    {
     "data": {
      "text/html": [
       "\n",
       "        <table>\n",
       "            <tr>\n",
       "                <td><strong>Reaction identifier</strong></td><td>DM_SAH</td>\n",
       "            </tr><tr>\n",
       "                <td><strong>Name</strong></td><td>S-Adenosyl-L-homocysteine demand</td>\n",
       "            </tr><tr>\n",
       "                <td><strong>Memory address</strong></td>\n",
       "                <td>0x07fc5b97b3780</td>\n",
       "            </tr><tr>\n",
       "                <td><strong>Stoichiometry</strong></td>\n",
       "                <td>\n",
       "                    <p style='text-align:right'>SAH --> </p>\n",
       "                    <p style='text-align:right'>S-Adenosyl-L-homocysteine --> </p>\n",
       "                </td>\n",
       "            </tr><tr>\n",
       "                <td><strong>GPR</strong></td><td></td>\n",
       "            </tr><tr>\n",
       "                <td><strong>Lower bound</strong></td><td>0</td>\n",
       "            </tr><tr>\n",
       "                <td><strong>Upper bound</strong></td><td>1000.0</td>\n",
       "            </tr>\n",
       "        </table>\n",
       "        "
      ],
      "text/plain": [
       "<Reaction DM_SAH at 0x7fc5b97b3780>"
      ]
     },
     "execution_count": 20,
     "metadata": {},
     "output_type": "execute_result"
    }
   ],
   "source": [
    "model.add_boundary(model.metabolites.TRYP, type='demand')\n",
    "model.add_boundary(model.metabolites._4HTRYP, type='demand')\n",
    "model.add_boundary(model.metabolites.NBC, type='demand')\n",
    "model.add_boundary(model.metabolites.psi, type='demand')\n",
    "model.add_boundary(model.metabolites.SAM, type='demand')\n",
    "model.add_boundary(model.metabolites.SAH, type='demand')"
   ]
  },
  {
   "cell_type": "code",
   "execution_count": 21,
   "metadata": {},
   "outputs": [
    {
     "data": {
      "text/plain": [
       "3.870967741935475"
      ]
     },
     "execution_count": 21,
     "metadata": {},
     "output_type": "execute_result"
    }
   ],
   "source": [
    "with model:\n",
    "    model.objective = model.reactions.something_nice\n",
    "    max_1 = model.optimize().objective_value\n",
    "    \n",
    "max_1"
   ]
  },
  {
   "cell_type": "code",
   "execution_count": 22,
   "metadata": {},
   "outputs": [
    {
     "data": {
      "text/plain": [
       "3.5294117647059116"
      ]
     },
     "execution_count": 22,
     "metadata": {},
     "output_type": "execute_result"
    }
   ],
   "source": [
    "with model:\n",
    "    model.objective = model.reactions.something_nicer\n",
    "    max_2 = model.optimize().objective_value\n",
    "    \n",
    "max_2"
   ]
  },
  {
   "cell_type": "code",
   "execution_count": 23,
   "metadata": {},
   "outputs": [
    {
     "data": {
      "text/plain": [
       "3.5294117647059116"
      ]
     },
     "execution_count": 23,
     "metadata": {},
     "output_type": "execute_result"
    }
   ],
   "source": [
    "with model:\n",
    "    model.objective = model.reactions.something_awesome\n",
    "    max_3 = model.optimize().objective_value\n",
    "    \n",
    "max_3"
   ]
  },
  {
   "cell_type": "code",
   "execution_count": 24,
   "metadata": {},
   "outputs": [
    {
     "data": {
      "text/plain": [
       "3.139580862000786"
      ]
     },
     "execution_count": 24,
     "metadata": {},
     "output_type": "execute_result"
    }
   ],
   "source": [
    "with model:\n",
    "    model.objective = model.reactions.Bjarne\n",
    "    max_4 = model.optimize().objective_value\n",
    "    \n",
    "max_4"
   ]
  },
  {
   "cell_type": "markdown",
   "metadata": {},
   "source": [
    "### SPØRGSMÅL:\n",
    "Hvorfor kan vi ikke finde metabollitterne (TRYP som eksempel nedenfor) i modellen nu hvor reaktionerne er blevet tiløjet?"
   ]
  },
  {
   "cell_type": "code",
   "execution_count": 25,
   "metadata": {},
   "outputs": [
    {
     "data": {
      "text/html": [
       "\n",
       "        <table>\n",
       "            <tr>\n",
       "                <td><strong>Metabolite identifier</strong></td><td>TRYP</td>\n",
       "            </tr><tr>\n",
       "                <td><strong>Name</strong></td><td>tryptamine</td>\n",
       "            </tr><tr>\n",
       "                <td><strong>Memory address</strong></td>\n",
       "                <td>0x07fc68032d550</td>\n",
       "            </tr><tr>\n",
       "                <td><strong>Formula</strong></td><td>C10H12N2</td>\n",
       "            </tr><tr>\n",
       "                <td><strong>Compartment</strong></td><td>c</td>\n",
       "            </tr><tr>\n",
       "                <td><strong>In 3 reaction(s)</strong></td><td>\n",
       "                    something_nice, DM_TRYP, something_nicer</td>\n",
       "            </tr>\n",
       "        </table>"
      ],
      "text/plain": [
       "<Metabolite TRYP at 0x7fc68032d550>"
      ]
     },
     "execution_count": 25,
     "metadata": {},
     "output_type": "execute_result"
    }
   ],
   "source": [
    "model.metabolites.TRYP"
   ]
  },
  {
   "cell_type": "markdown",
   "metadata": {},
   "source": [
    "## 5. Discussion (<500 words)"
   ]
  },
  {
   "cell_type": "markdown",
   "metadata": {},
   "source": [
    "## 6. Conclusion (<200 words)"
   ]
  },
  {
   "cell_type": "markdown",
   "metadata": {},
   "source": [
    "## References\n",
    "Brandl, J., Aguilar-Pontes, M.V., Schäpe, P. et al. A community-driven reconstruction of the Aspergillus niger metabolic network. Fungal Biol Biotechnol 5, 16 (2018). https://doi.org/10.1186/s40694-018-0060-7"
   ]
  },
  {
   "cell_type": "code",
   "execution_count": null,
   "metadata": {},
   "outputs": [],
   "source": []
  }
 ],
 "metadata": {
  "kernelspec": {
   "display_name": "python3.6",
   "language": "python",
   "name": "python3.6"
  },
  "language_info": {
   "codemirror_mode": {
    "name": "ipython",
    "version": 3
   },
   "file_extension": ".py",
   "mimetype": "text/x-python",
   "name": "python",
   "nbconvert_exporter": "python",
   "pygments_lexer": "ipython3",
   "version": "3.6.12"
  }
 },
 "nbformat": 4,
 "nbformat_minor": 4
}
