{
 "cells": [
  {
   "cell_type": "markdown",
   "metadata": {},
   "source": [
    "# Biosynthesis of Psylocybin in <i>Aspergillus niger</i>"
   ]
  },
  {
   "cell_type": "code",
   "execution_count": 3,
   "metadata": {},
   "outputs": [],
   "source": [
    "from cobra.io import read_sbml_model\n",
    "from cobra import Reaction, Metabolite\n",
    "\n",
    "model = read_sbml_model('../Analysis/2018_ATCC1015_GSM.xml') #the model was found in (Brandl, J., Aguilar-Pontes, M.V., Schäpe, P. et al. - additional file 2) "
   ]
  },
  {
   "cell_type": "markdown",
   "metadata": {},
   "source": [
    "#### Making the reactions"
   ]
  },
  {
   "cell_type": "code",
   "execution_count": 4,
   "metadata": {},
   "outputs": [],
   "source": [
    "from cobra import Reaction, Metabolite"
   ]
  },
  {
   "cell_type": "code",
   "execution_count": 5,
   "metadata": {},
   "outputs": [
    {
     "data": {
      "text/html": [
       "\n",
       "        <table>\n",
       "            <tr>\n",
       "                <td><strong>Metabolite identifier</strong></td><td>TRP</td>\n",
       "            </tr><tr>\n",
       "                <td><strong>Name</strong></td><td>L-Tryptophan</td>\n",
       "            </tr><tr>\n",
       "                <td><strong>Memory address</strong></td>\n",
       "                <td>0x07f3b303174a8</td>\n",
       "            </tr><tr>\n",
       "                <td><strong>Formula</strong></td><td>C11H12N2O2</td>\n",
       "            </tr><tr>\n",
       "                <td><strong>Compartment</strong></td><td>c</td>\n",
       "            </tr><tr>\n",
       "                <td><strong>In 8 reaction(s)</strong></td><td>\n",
       "                    r3008, r2402, r385, r400, r1265, r1080, r1266, PROTEINpolym</td>\n",
       "            </tr>\n",
       "        </table>"
      ],
      "text/plain": [
       "<Metabolite TRP at 0x7f3b303174a8>"
      ]
     },
     "execution_count": 5,
     "metadata": {},
     "output_type": "execute_result"
    }
   ],
   "source": [
    "model.metabolites.TRP # tjekker lige at tryptophan befinder sig i cytosol, så derfor insættes metabolitterne også i compartment c (nedenfor)\n",
    "\n"
   ]
  },
  {
   "cell_type": "markdown",
   "metadata": {},
   "source": [
    "Jeg kan ikke finde tryptamin i modellen allerede (hverken som THR, THF, TRE, THY, TYR eller TPHTH og jeg synes ikke der er andre oplagte metabolites IDs end dem jeg kan se - derfor tilføjer jeg selv tryptamin som en metabolit:"
   ]
  },
  {
   "cell_type": "code",
   "execution_count": 6,
   "metadata": {},
   "outputs": [],
   "source": [
    "tryptamine = Metabolite(id = 'TRYP', compartment='c', name='tryptamine', formula='C10H12N2')"
   ]
  },
  {
   "cell_type": "code",
   "execution_count": 7,
   "metadata": {},
   "outputs": [],
   "source": [
    "hydroxytryptamine = Metabolite(id='_4HTRYP', compartment='c', name='_4hydroxytryptamine', formula='C10H12N2O') "
   ]
  },
  {
   "cell_type": "code",
   "execution_count": 8,
   "metadata": {},
   "outputs": [],
   "source": [
    "norbaeocystin = Metabolite(id='NBC' , compartment='c', name='norbaeocystin', formula='C10H13N2O4P') "
   ]
  },
  {
   "cell_type": "code",
   "execution_count": 9,
   "metadata": {},
   "outputs": [],
   "source": [
    "psilocybin = Metabolite(id='psi', compartment='c', name='psilocybin', formula='C12H17N2O4P')"
   ]
  },
  {
   "cell_type": "code",
   "execution_count": 10,
   "metadata": {},
   "outputs": [],
   "source": [
    "S_adenosyl_L_methionine = Metabolite(id='SAM', compartment='c', name='S-adenosyl-L-Methionine', formula='C15H22N6O5S')"
   ]
  },
  {
   "cell_type": "code",
   "execution_count": 11,
   "metadata": {},
   "outputs": [],
   "source": [
    "S_adenosyl_L_homocysteine = Metabolite(id='SAH', compartment='c', name='S-adenosyl-L-homocysteine', formula='C14H20N6O5S' )"
   ]
  },
  {
   "cell_type": "markdown",
   "metadata": {},
   "source": [
    "Først definerer jeg lige reaktionerne:"
   ]
  },
  {
   "cell_type": "code",
   "execution_count": 12,
   "metadata": {},
   "outputs": [],
   "source": [
    "reaction_1 = Reaction('something_nice')  "
   ]
  },
  {
   "cell_type": "code",
   "execution_count": 13,
   "metadata": {},
   "outputs": [],
   "source": [
    "reaction_2 = Reaction('something_nicer')"
   ]
  },
  {
   "cell_type": "code",
   "execution_count": 14,
   "metadata": {},
   "outputs": [],
   "source": [
    "reaction_3 = Reaction('something_awesome')"
   ]
  },
  {
   "cell_type": "code",
   "execution_count": 15,
   "metadata": {},
   "outputs": [],
   "source": [
    "reaction_4 = Reaction('Bjarne')"
   ]
  },
  {
   "cell_type": "markdown",
   "metadata": {},
   "source": [
    "Nu tilføjer jeg alle metabolitterne til reaktionerne:"
   ]
  },
  {
   "cell_type": "code",
   "execution_count": 16,
   "metadata": {},
   "outputs": [],
   "source": [
    "reaction_1.add_metabolites(({model.metabolites.TRP: -1,  \n",
    "                              tryptamine: 1, \n",
    "                              model.metabolites.CO2: 1, \n",
    "                            }))"
   ]
  },
  {
   "cell_type": "code",
   "execution_count": 17,
   "metadata": {},
   "outputs": [],
   "source": [
    "reaction_2.add_metabolites({tryptamine: -1,\n",
    "                              model.metabolites.O2: -1,\n",
    "                              model.metabolites.H: -2, \n",
    "                              hydroxytryptamine: 1, \n",
    "                              model.metabolites.H2O: 1\n",
    "                             })"
   ]
  },
  {
   "cell_type": "code",
   "execution_count": 18,
   "metadata": {},
   "outputs": [],
   "source": [
    "reaction_3.add_metabolites({hydroxytryptamine: -1,\n",
    "                              model.metabolites.ATP: -1,\n",
    "                              norbaeocystin: 1, \n",
    "                              model.metabolites.ADP: 1, # our newly created metabolites\n",
    "                              model.metabolites.H: 1\n",
    "                             })"
   ]
  },
  {
   "cell_type": "code",
   "execution_count": 19,
   "metadata": {},
   "outputs": [],
   "source": [
    "reaction_4.add_metabolites(({norbaeocystin: -1,\n",
    "                             S_adenosyl_L_methionine: -2, \n",
    "                             psilocybin: 1, \n",
    "                             S_adenosyl_L_homocysteine: 2,\n",
    "                             model.metabolites.H: 2\n",
    "                             }))"
   ]
  },
  {
   "cell_type": "code",
   "execution_count": 20,
   "metadata": {},
   "outputs": [],
   "source": [
    "model.add_reactions([reaction_1])\n",
    "model.add_reactions([reaction_2])\n",
    "model.add_reactions([reaction_3])\n",
    "model.add_reactions([reaction_4])"
   ]
  },
  {
   "cell_type": "code",
   "execution_count": 21,
   "metadata": {},
   "outputs": [
    {
     "data": {
      "text/html": [
       "\n",
       "        <table>\n",
       "            <tr>\n",
       "                <td><strong>Reaction identifier</strong></td><td>DM_SAH</td>\n",
       "            </tr><tr>\n",
       "                <td><strong>Name</strong></td><td>S-Adenosyl-L-homocysteine demand</td>\n",
       "            </tr><tr>\n",
       "                <td><strong>Memory address</strong></td>\n",
       "                <td>0x07f3b2f30e6d8</td>\n",
       "            </tr><tr>\n",
       "                <td><strong>Stoichiometry</strong></td>\n",
       "                <td>\n",
       "                    <p style='text-align:right'>SAH --> </p>\n",
       "                    <p style='text-align:right'>S-Adenosyl-L-homocysteine --> </p>\n",
       "                </td>\n",
       "            </tr><tr>\n",
       "                <td><strong>GPR</strong></td><td></td>\n",
       "            </tr><tr>\n",
       "                <td><strong>Lower bound</strong></td><td>0</td>\n",
       "            </tr><tr>\n",
       "                <td><strong>Upper bound</strong></td><td>1000.0</td>\n",
       "            </tr>\n",
       "        </table>\n",
       "        "
      ],
      "text/plain": [
       "<Reaction DM_SAH at 0x7f3b2f30e6d8>"
      ]
     },
     "execution_count": 21,
     "metadata": {},
     "output_type": "execute_result"
    }
   ],
   "source": [
    "model.add_boundary(model.metabolites.TRYP, type='demand')\n",
    "model.add_boundary(model.metabolites._4HTRYP, type='demand')\n",
    "model.add_boundary(model.metabolites.NBC, type='demand')\n",
    "model.add_boundary(model.metabolites.psi, type='demand')\n",
    "model.add_boundary(model.metabolites.SAM, type='demand')\n",
    "model.add_boundary(model.metabolites.SAH, type='demand')"
   ]
  },
  {
   "cell_type": "code",
   "execution_count": 22,
   "metadata": {},
   "outputs": [
    {
     "data": {
      "text/plain": [
       "3.870967741935475"
      ]
     },
     "execution_count": 22,
     "metadata": {},
     "output_type": "execute_result"
    }
   ],
   "source": [
    "with model:\n",
    "    model.objective = model.reactions.something_nice\n",
    "    max_1 = model.optimize().objective_value\n",
    "    \n",
    "max_1"
   ]
  },
  {
   "cell_type": "code",
   "execution_count": 23,
   "metadata": {},
   "outputs": [
    {
     "data": {
      "text/plain": [
       "3.5294117647059116"
      ]
     },
     "execution_count": 23,
     "metadata": {},
     "output_type": "execute_result"
    }
   ],
   "source": [
    "with model:\n",
    "    model.objective = model.reactions.something_nicer\n",
    "    max_2 = model.optimize().objective_value\n",
    "    \n",
    "max_2"
   ]
  },
  {
   "cell_type": "code",
   "execution_count": 24,
   "metadata": {},
   "outputs": [
    {
     "data": {
      "text/plain": [
       "3.5294117647059116"
      ]
     },
     "execution_count": 24,
     "metadata": {},
     "output_type": "execute_result"
    }
   ],
   "source": [
    "with model:\n",
    "    model.objective = model.reactions.something_awesome\n",
    "    max_3 = model.optimize().objective_value\n",
    "    \n",
    "max_3"
   ]
  },
  {
   "cell_type": "code",
   "execution_count": 25,
   "metadata": {},
   "outputs": [
    {
     "data": {
      "text/plain": [
       "3.139580862000786"
      ]
     },
     "execution_count": 25,
     "metadata": {},
     "output_type": "execute_result"
    }
   ],
   "source": [
    "with model:\n",
    "    model.objective = model.reactions.Bjarne\n",
    "    max_4 = model.optimize().objective_value\n",
    "    \n",
    "max_4"
   ]
  },
  {
   "cell_type": "markdown",
   "metadata": {},
   "source": [
    "### SPØRGSMÅL:\n",
    "Hvorfor kan vi ikke finde metabollitterne (TRYP som eksempel nedenfor) i modellen nu hvor reaktionerne er blevet tiløjet?"
   ]
  },
  {
   "cell_type": "code",
   "execution_count": 26,
   "metadata": {},
   "outputs": [
    {
     "data": {
      "text/html": [
       "\n",
       "        <table>\n",
       "            <tr>\n",
       "                <td><strong>Metabolite identifier</strong></td><td>TRYP</td>\n",
       "            </tr><tr>\n",
       "                <td><strong>Name</strong></td><td>tryptamine</td>\n",
       "            </tr><tr>\n",
       "                <td><strong>Memory address</strong></td>\n",
       "                <td>0x07f3b2f26acf8</td>\n",
       "            </tr><tr>\n",
       "                <td><strong>Formula</strong></td><td>C10H12N2</td>\n",
       "            </tr><tr>\n",
       "                <td><strong>Compartment</strong></td><td>c</td>\n",
       "            </tr><tr>\n",
       "                <td><strong>In 3 reaction(s)</strong></td><td>\n",
       "                    DM_TRYP, something_nicer, something_nice</td>\n",
       "            </tr>\n",
       "        </table>"
      ],
      "text/plain": [
       "<Metabolite TRYP at 0x7f3b2f26acf8>"
      ]
     },
     "execution_count": 26,
     "metadata": {},
     "output_type": "execute_result"
    }
   ],
   "source": [
    "model.metabolites.TRYP"
   ]
  }
 ],
 "metadata": {
  "kernelspec": {
   "display_name": "python3.6",
   "language": "python",
   "name": "python3.6"
  },
  "language_info": {
   "codemirror_mode": {
    "name": "ipython",
    "version": 3
   },
   "file_extension": ".py",
   "mimetype": "text/x-python",
   "name": "python",
   "nbconvert_exporter": "python",
   "pygments_lexer": "ipython3",
   "version": "3.6.12"
  }
 },
 "nbformat": 4,
 "nbformat_minor": 4
}
